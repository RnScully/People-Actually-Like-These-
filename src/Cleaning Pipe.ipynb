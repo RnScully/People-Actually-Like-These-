{
 "cells": [
  {
   "cell_type": "markdown",
   "metadata": {},
   "source": [
    "### Import modules and things"
   ]
  },
  {
   "cell_type": "code",
   "execution_count": 130,
   "metadata": {
    "ExecuteTime": {
     "end_time": "2020-02-03T17:21:53.808462Z",
     "start_time": "2020-02-03T17:21:53.802910Z"
    }
   },
   "outputs": [],
   "source": [
    "from pymongo import MongoClient\n",
    "import pprint\n",
    "import json\n",
    "import bs4\n",
    "from bs4 import BeautifulSoup\n",
    "import re\n",
    "import numpy as np"
   ]
  },
  {
   "cell_type": "code",
   "execution_count": 462,
   "metadata": {
    "ExecuteTime": {
     "end_time": "2020-02-03T23:01:56.888205Z",
     "start_time": "2020-02-03T23:01:56.875728Z"
    }
   },
   "outputs": [],
   "source": [
    "import time, sys\n",
    "from IPython.display import clear_output\n",
    "\n",
    "def update_progress(progress):\n",
    "    bar_length = 20\n",
    "    if isinstance(progress, int):\n",
    "        progress = float(progress)\n",
    "    if not isinstance(progress, float):\n",
    "        progress = 0\n",
    "    if progress < 0:\n",
    "        progress = 0\n",
    "    if progress >= 1:\n",
    "        progress = 1\n",
    "\n",
    "    block = int(round(bar_length * progress))\n",
    "\n",
    "    clear_output(wait = True)\n",
    "    text = \"Progress: [{0}] {1:.1f}%\".format( \"#\" * block + \"-\" * (bar_length - block), progress * 100)\n",
    "    print(text)\n"
   ]
  },
  {
   "cell_type": "markdown",
   "metadata": {},
   "source": [
    "### Get mongoclient"
   ]
  },
  {
   "cell_type": "code",
   "execution_count": 3,
   "metadata": {
    "ExecuteTime": {
     "end_time": "2020-02-03T16:38:00.069618Z",
     "start_time": "2020-02-03T16:38:00.054834Z"
    }
   },
   "outputs": [],
   "source": [
    "client = MongoClient('localhost', 27017)\n",
    "db=client['reviews']\n",
    "coll=db['book_reviews']"
   ]
  },
  {
   "cell_type": "code",
   "execution_count": 9,
   "metadata": {
    "ExecuteTime": {
     "end_time": "2020-02-03T16:39:42.310608Z",
     "start_time": "2020-02-03T16:39:42.300967Z"
    }
   },
   "outputs": [],
   "source": [
    "documents = [x for x in db['book_reviews'].find()]"
   ]
  },
  {
   "cell_type": "code",
   "execution_count": 36,
   "metadata": {
    "ExecuteTime": {
     "end_time": "2020-02-03T16:48:57.236993Z",
     "start_time": "2020-02-03T16:48:57.221720Z"
    }
   },
   "outputs": [],
   "source": [
    "test = documents[500]\n",
    "# test is a mongo document, not the html. we need to get the 'reviews' value\n",
    "# test['reviews']\n"
   ]
  },
  {
   "cell_type": "code",
   "execution_count": 37,
   "metadata": {
    "ExecuteTime": {
     "end_time": "2020-02-03T16:49:06.205968Z",
     "start_time": "2020-02-03T16:49:06.185551Z"
    }
   },
   "outputs": [],
   "source": [
    "testsoup = BeautifulSoup(test['reviews'], 'html.parser')"
   ]
  },
  {
   "cell_type": "code",
   "execution_count": 45,
   "metadata": {
    "ExecuteTime": {
     "end_time": "2020-02-03T16:57:08.006127Z",
     "start_time": "2020-02-03T16:57:07.988491Z"
    }
   },
   "outputs": [],
   "source": [
    "text = testsoup.find_all(class_ = \"readable\")"
   ]
  },
  {
   "cell_type": "markdown",
   "metadata": {
    "ExecuteTime": {
     "end_time": "2020-02-03T17:00:10.068532Z",
     "start_time": "2020-02-03T17:00:10.055938Z"
    }
   },
   "source": [
    "### Okay, we got to \"text\", sort of. Lets try to clean this up. "
   ]
  },
  {
   "cell_type": "code",
   "execution_count": 95,
   "metadata": {
    "ExecuteTime": {
     "end_time": "2020-02-03T17:13:57.889284Z",
     "start_time": "2020-02-03T17:13:57.880521Z"
    }
   },
   "outputs": [
    {
     "data": {
      "text/plain": [
       "bs4.element.ResultSet"
      ]
     },
     "execution_count": 95,
     "metadata": {},
     "output_type": "execute_result"
    }
   ],
   "source": [
    "type(text)"
   ]
  },
  {
   "cell_type": "code",
   "execution_count": 80,
   "metadata": {
    "ExecuteTime": {
     "end_time": "2020-02-03T17:08:06.196978Z",
     "start_time": "2020-02-03T17:08:06.189056Z"
    },
    "code_folding": []
   },
   "outputs": [],
   "source": [
    "def clean_readable(readable):\n",
    "    '''\n",
    "    a function that takes readable, a bs4 ResultSet and turns it into a list of the strings contained in \n",
    "    '''"
   ]
  },
  {
   "cell_type": "code",
   "execution_count": 103,
   "metadata": {
    "ExecuteTime": {
     "end_time": "2020-02-03T17:16:35.222943Z",
     "start_time": "2020-02-03T17:16:35.214081Z"
    }
   },
   "outputs": [
    {
     "data": {
      "text/plain": [
       "list"
      ]
     },
     "execution_count": 103,
     "metadata": {},
     "output_type": "execute_result"
    }
   ],
   "source": [
    "type(text[0].contents)"
   ]
  },
  {
   "cell_type": "code",
   "execution_count": 105,
   "metadata": {
    "ExecuteTime": {
     "end_time": "2020-02-03T17:17:28.166050Z",
     "start_time": "2020-02-03T17:17:28.157343Z"
    }
   },
   "outputs": [],
   "source": [
    "l = text[0].contents"
   ]
  },
  {
   "cell_type": "code",
   "execution_count": 113,
   "metadata": {
    "ExecuteTime": {
     "end_time": "2020-02-03T17:17:55.231213Z",
     "start_time": "2020-02-03T17:17:55.223087Z"
    }
   },
   "outputs": [
    {
     "data": {
      "text/plain": [
       "'\\n'"
      ]
     },
     "execution_count": 113,
     "metadata": {},
     "output_type": "execute_result"
    }
   ],
   "source": [
    "l[0]"
   ]
  },
  {
   "cell_type": "code",
   "execution_count": null,
   "metadata": {},
   "outputs": [],
   "source": []
  },
  {
   "cell_type": "code",
   "execution_count": 117,
   "metadata": {
    "ExecuteTime": {
     "end_time": "2020-02-03T17:18:51.682013Z",
     "start_time": "2020-02-03T17:18:51.666407Z"
    }
   },
   "outputs": [
    {
     "data": {
      "text/plain": [
       "bs4.element.Tag"
      ]
     },
     "execution_count": 117,
     "metadata": {},
     "output_type": "execute_result"
    }
   ],
   "source": [
    "type(l[3])"
   ]
  },
  {
   "cell_type": "code",
   "execution_count": 124,
   "metadata": {
    "ExecuteTime": {
     "end_time": "2020-02-03T17:19:57.066819Z",
     "start_time": "2020-02-03T17:19:57.060280Z"
    }
   },
   "outputs": [],
   "source": [
    "lc = [i for i in l[3].children]"
   ]
  },
  {
   "cell_type": "code",
   "execution_count": 190,
   "metadata": {
    "ExecuteTime": {
     "end_time": "2020-02-03T18:55:03.538403Z",
     "start_time": "2020-02-03T18:55:03.533256Z"
    }
   },
   "outputs": [],
   "source": [
    "#display different tags in the result. \n",
    "\n",
    "\n",
    "# for i in lc:\n",
    "#     #print(type(i))\n",
    "#     if type(i) == bs4.element.Tag:\n",
    "#         print(i)\n",
    "#     #if type(i) == bs4.element.NavigableString:\n",
    "# #     print(i)"
   ]
  },
  {
   "cell_type": "markdown",
   "metadata": {
    "ExecuteTime": {
     "end_time": "2020-02-03T17:30:29.771694Z",
     "start_time": "2020-02-03T17:30:29.758201Z"
    }
   },
   "source": [
    "# get rid of all these '< br/ >', \n",
    "they're line breaks. maybe divide lines up by line breaks? no. DO NOT. that will make the nlp treat each line differently, we want an nlp document to be a whole review"
   ]
  },
  {
   "cell_type": "code",
   "execution_count": 456,
   "metadata": {
    "ExecuteTime": {
     "end_time": "2020-02-03T22:38:56.353926Z",
     "start_time": "2020-02-03T22:38:56.327550Z"
    },
    "code_folding": [
     10,
     39
    ]
   },
   "outputs": [],
   "source": [
    "from pymongo import MongoClient\n",
    "import pprint\n",
    "import json\n",
    "import bs4\n",
    "from bs4 import BeautifulSoup\n",
    "import re\n",
    "import numpy as np\n",
    "\n",
    "\n",
    "\n",
    "def remove_text_inside_brackets(text, brackets=\"<>\"):\n",
    "    count = [0] * (len(brackets) // 2) # count open/close brackets\n",
    "    saved_chars = []\n",
    "    for character in text:\n",
    "        for i, b in enumerate(brackets):\n",
    "            if character == b: # found bracket\n",
    "                kind, is_close = divmod(i, 2)\n",
    "                count[kind] += (-1)**is_close # `+1`: open, `-1`: close\n",
    "                if count[kind] < 0: # unbalanced bracket\n",
    "                    count[kind] = 0  # keep it\n",
    "                else:  # found bracket to remove\n",
    "                    break\n",
    "        else: # character is not a [balanced] bracket\n",
    "            if not any(count): # outside brackets\n",
    "                saved_chars.append(character)\n",
    "    return ''.join(saved_chars)\n",
    "\n",
    "\n",
    "def get_text(readable):\n",
    "    try:\n",
    "        l = readable[0].contents # turns out there's only one readable in each review. Pretty good so far. \n",
    "    except:\n",
    "        return -1\n",
    "    freetextlst = [s for s in l if \"freeText\" in str(s)] \n",
    "\n",
    "    #rev_text = ' '.join(map(str, freetextlst)) includes the freetext and freetext containers, and that is..troublesome\n",
    "    rev_text = str(freetextlst[-1])\n",
    "    # bigstring = seperator.join(strlchildren)\n",
    "    review_nlp_document = remove_text_inside_brackets(rev_text)\n",
    "    \n",
    "    return review_nlp_document\n",
    "\n",
    "def str_to_rate(qual_state):\n",
    "    '''\n",
    "    a function that turns goodreads's \"I liked it\" or \"I did not like it\" star categories\n",
    "    into the numerical 1-5 rating that they visually imply. \n",
    "    ++++++\n",
    "    Attributes\n",
    "    qual_state (list) a split string pulled from the beautiful soup output of .text on the rating object\n",
    "    ++++++\n",
    "    Returns\n",
    "    user_rating (int): 1-5 score based on NUMBER OF STARS SELECTED BY THE RATER. I honestly don't understand why that's not the output in the HTML. \n",
    "    '''\n",
    "    if qual_state[-3:] == ['it', 'was', 'amazing']:\n",
    "        user_rating = 5\n",
    "    elif qual_state[-3:] ==['really','liked','it']:\n",
    "        user_rating = 4\n",
    "    elif qual_state[-2:] ==['liked', 'it']:\n",
    "        '''note that I belive any that include \"really\" will be given 4\n",
    "        before we get to this elif statement, therefore we don't need \n",
    "        to worry about the issues of \"really liked it\" and \"liked it\"\n",
    "        overlapping'''\n",
    "        user_rating= 3\n",
    "    elif qual_state[-3:]==['it','was','ok']:\n",
    "        user_rating = 2\n",
    "    elif qual_state[-3:]==['not','like','it']:\n",
    "        user_rating = 1\n",
    "    else:\n",
    "        user_rating = 0\n",
    "    return user_rating\n",
    "\n",
    "\n",
    "def save_to_mongo(add_this, db, collection):\n",
    "    '''\n",
    "    Helperfunction that takes a list of reviews, appends them to dictonaries, and feeds them into mongodb\n",
    "    \n",
    "    Attributes:\n",
    "    add_this (dict): dictonary to add to mongo\n",
    "    db (str): specific string of the db to use\n",
    "    collection (str): string of the collection\n",
    "    '''\n",
    "    #connect to the mongo thing\n",
    "    client = MongoClient()\n",
    "    db = client[db]\n",
    "    collection = db[collection]\n",
    "    \n",
    "    collection.insert_many(add_this) \n",
    "    #add doc to mongodb\n",
    "    client.close()"
   ]
  },
  {
   "cell_type": "code",
   "execution_count": null,
   "metadata": {
    "ExecuteTime": {
     "start_time": "2020-02-03T23:02:03.233Z"
    }
   },
   "outputs": [
    {
     "name": "stdout",
     "output_type": "stream",
     "text": [
      "Progress: [#####---------------] 22.5%\n"
     ]
    }
   ],
   "source": [
    "if __name__ == \"__main__\":\n",
    "    \n",
    "    client = MongoClient('localhost', 27017)\n",
    "    db=client['reviews']\n",
    "    coll=db['book_reviews']\n",
    "    documents = [x for x in db['book_reviews'].find()]\n",
    "    \n",
    "    ##for loop going throuhg all documents\n",
    "    all_revs = []\n",
    "    for i in documents:\n",
    "        breakpoint = documents.index(i) ##will show me where this thing breaks\n",
    "\n",
    "        soup = BeautifulSoup(i['reviews'], 'html.parser')\n",
    "        readable = soup.find_all(class_ = \"readable\")\n",
    "        \n",
    "        \n",
    "        nlp_words = get_text(readable)\n",
    "        if nlp_words == -1:\n",
    "            continue\n",
    "            \n",
    "        \n",
    "\n",
    "        try: #some people are leaving reviews without giving the books any stars. interesting. \n",
    "            rate_string = soup.find_all(class_ = re.compile('staticStars notranslate'))[0].attrs['title']\n",
    "            rate = str_to_rate(rate_string.split())\n",
    "        except IndexError:\n",
    "            rate = -1\n",
    "        \n",
    "        try: #catching the documents with nothing in them. \n",
    "            title = soup.find_all(class_ = re.compile('lightGreyText'))[0].attrs['title'], ##title is likely to produce borked results. this one is just an isbn. soo..yeah\n",
    "        except IndexError:\n",
    "            title = -1\n",
    "            \n",
    "            \n",
    "        user = soup.find_all(class_ = re.compile('user'))[0].attrs['href'][11:]\n",
    "        \n",
    "        sub_rev = [rate, user, title, nlp_words]\n",
    "        all_revs.append(sub_rev) \n",
    "        progress_bar = documents.index(i)\n",
    "        update_progress(documents.index(i) / len(documents))\n",
    "#         if progress_bar % 100 ==0:\n",
    "#             print(progress_bar)\n",
    "        \n",
    "    client.close()            \n",
    "    np.save(\"data/cleaned\", all_revs) ## might need to do a mongo thing\n",
    "    \n",
    "    # # mongo thing GOES INSIDE THE LOOP\n",
    "#         formatted_dct = {'book_id' : i['book_id']\n",
    "#                          'nlp_words' : get_text(readable),\n",
    "#                          'rating_given' : rate,\n",
    "#                          'title' : title, ##title is likely to produce borked results. this one is just an isbn. soo..yeah\n",
    "#                          'user': soup.find_all(class_ = re.compile('user'))[0].attrs['href'][11:]\n",
    "#                         }\n",
    "\n",
    "update_progress(i / number_of_elements)\n",
    "\n",
    "update_progress(1)"
   ]
  },
  {
   "cell_type": "code",
   "execution_count": 189,
   "metadata": {
    "ExecuteTime": {
     "end_time": "2020-02-03T18:54:11.881044Z",
     "start_time": "2020-02-03T18:54:11.876746Z"
    }
   },
   "outputs": [],
   "source": [
    "#ideally, replace </b> with ! to take advantage of vader tech emphasis tech\n",
    "\n",
    "smalltext = '''This was initially going to be four stars, but the last 100/150 pages were just so \n",
    "<b>un-deniably</b>\n",
    " amazing I couldn’t help but bump it up half a star. For my first few reads they’ve started off quite light, however within the first chapter this was \n",
    "<u>dark</u>\n",
    "! We got deaths and treachery, and I was \n",
    "<b>here for it/</b>'''\n",
    "re.replace(r'</b>','!',smalltext)\n",
    "\n",
    "    "
   ]
  },
  {
   "cell_type": "code",
   "execution_count": 451,
   "metadata": {
    "ExecuteTime": {
     "end_time": "2020-02-03T22:20:44.402003Z",
     "start_time": "2020-02-03T22:20:44.392733Z"
    }
   },
   "outputs": [
    {
     "name": "stdout",
     "output_type": "stream",
     "text": [
      "no\n"
     ]
    }
   ],
   "source": [
    "if soup.find(class_ = re.compile('lightGreyText')) !=None:\n",
    "    print(soup.find(class_ = re.compile('lightGreyText')))[0].attrs['title']\n",
    "else:\n",
    "    print('no')\n"
   ]
  },
  {
   "cell_type": "code",
   "execution_count": 449,
   "metadata": {
    "ExecuteTime": {
     "end_time": "2020-02-03T22:20:41.507656Z",
     "start_time": "2020-02-03T22:20:41.500447Z"
    }
   },
   "outputs": [
    {
     "name": "stdout",
     "output_type": "stream",
     "text": [
      "None\n",
      "no\n"
     ]
    }
   ],
   "source": [
    "try:\n",
    "    print(soup.find(class_ = re.compile('lightGreyText')))[0].attrs['title']\n",
    "except:\n",
    "    print('no')"
   ]
  },
  {
   "cell_type": "code",
   "execution_count": 436,
   "metadata": {
    "ExecuteTime": {
     "end_time": "2020-02-03T22:19:25.665621Z",
     "start_time": "2020-02-03T22:19:25.659290Z"
    }
   },
   "outputs": [
    {
     "name": "stdout",
     "output_type": "stream",
     "text": [
      "None\n"
     ]
    }
   ],
   "source": [
    "print(soup.find(class_ = re.compile('lightGreyText')))"
   ]
  },
  {
   "cell_type": "code",
   "execution_count": 434,
   "metadata": {
    "ExecuteTime": {
     "end_time": "2020-02-03T22:19:03.471834Z",
     "start_time": "2020-02-03T22:19:03.459150Z"
    },
    "code_folding": []
   },
   "outputs": [
    {
     "data": {
      "text/plain": [
       "<div class=\"friendReviews elementListBrown notext\">\n",
       "<div class=\"section firstReview\">\n",
       "<div class=\"review notext\" id=\"review_618102435\" itemprop=\"reviews\" itemscope=\"\" itemtype=\"http://schema.org/Review\">\n",
       "<link href=\"https://www.goodreads.com/review/show/618102435\" itemprop=\"url\"/>\n",
       "<a class=\"left imgcol\" href=\"/user/show/1476929-michele\" title=\"Michele\"><img alt=\"Michele\" src=\"https://images.gr-assets.com/users/1467053132p2/1476929.jpg\"/></a>\n",
       "<div class=\"left bodycol\">\n",
       "<div class=\"reviewHeader uitext stacked\">\n",
       "<span itemprop=\"author\" itemscope=\"\" itemtype=\"http://schema.org/Person\">\n",
       "<a class=\"user\" href=\"/user/show/1476929-michele\" itemprop=\"url\" name=\"Michele\" title=\"Michele\">Michele</a>\n",
       "</span>\n",
       "\n",
       "        rated it\n",
       "        <span class=\"staticStars notranslate\" title=\"it was amazing\"><span class=\"staticStar p10\" size=\"15x15\">it was amazing</span><span class=\"staticStar p10\" size=\"15x15\"></span><span class=\"staticStar p10\" size=\"15x15\"></span><span class=\"staticStar p10\" size=\"15x15\"></span><span class=\"staticStar p10\" size=\"15x15\"></span></span>\n",
       "<br/>\n",
       "<a class=\"reviewDate\" href=\"/review/show/618102435?book_show_action=true\" rel=\"nofollow\">May 17, 2013</a>\n",
       "</div>\n",
       "</div>\n",
       "<div class=\"clear\"></div>\n",
       "</div>\n",
       "</div>\n",
       "</div>"
      ]
     },
     "execution_count": 434,
     "metadata": {},
     "output_type": "execute_result"
    }
   ],
   "source": [
    "#for document in documents: ##test soup\n",
    "soup = BeautifulSoup(documents[breakpoint]['reviews'], 'html.parser')\n",
    "soup"
   ]
  },
  {
   "cell_type": "code",
   "execution_count": null,
   "metadata": {},
   "outputs": [],
   "source": []
  },
  {
   "cell_type": "code",
   "execution_count": null,
   "metadata": {
    "code_folding": [
     0
    ]
   },
   "outputs": [],
   "source": [
    "\n",
    "for i in documents[480:530]:\n",
    "    soup = BeautifulSoup(i['reviews'], 'html.parser')\n",
    "    try:\n",
    "        rate_string = soup.find_all(class_ = re.compile('staticStars notranslate'))[0].attrs['title']\n",
    "        rate = str_to_rate(rate_string.split())\n",
    "    except IndexError:\n",
    "        rate = -1\n",
    "    print(documents.index(i), rate)\n",
    "    "
   ]
  },
  {
   "cell_type": "code",
   "execution_count": 393,
   "metadata": {
    "ExecuteTime": {
     "end_time": "2020-02-03T21:26:07.106291Z",
     "start_time": "2020-02-03T21:26:07.094556Z"
    }
   },
   "outputs": [],
   "source": [
    "s = BeautifulSoup(documents[497]['reviews'], 'html.parser')"
   ]
  },
  {
   "cell_type": "code",
   "execution_count": 394,
   "metadata": {
    "ExecuteTime": {
     "end_time": "2020-02-03T21:26:09.887009Z",
     "start_time": "2020-02-03T21:26:09.869569Z"
    }
   },
   "outputs": [
    {
     "data": {
      "text/plain": [
       "<div class=\"friendReviews elementListBrown\">\n",
       "<div class=\"section\">\n",
       "<div class=\"review nosyndicate\" id=\"review_3034632747\" itemprop=\"reviews\" itemscope=\"\" itemtype=\"http://schema.org/Review\">\n",
       "<link href=\"https://www.goodreads.com/review/show/3034632747\" itemprop=\"url\"/>\n",
       "<a class=\"left imgcol\" href=\"/user/show/103486117-dante\" title=\"Dante\"><img alt=\"Dante\" src=\"https://images.gr-assets.com/users/1569898530p2/103486117.jpg\"/></a>\n",
       "<div class=\"left bodycol\">\n",
       "<div class=\"reviewHeader uitext stacked\">\n",
       "<a class=\"reviewDate createdAt right\" href=\"/review/show/3034632747?book_show_action=false\">Nov 27, 2019</a>\n",
       "<span itemprop=\"author\" itemscope=\"\" itemtype=\"http://schema.org/Person\">\n",
       "<a class=\"user\" href=\"/user/show/103486117-dante\" itemprop=\"url\" name=\"Dante\" title=\"Dante\">Dante</a>\n",
       "</span>\n",
       "\n",
       "          added it\n",
       "\n",
       "\n",
       "\n",
       "\n",
       "        \n",
       "\n",
       "          <div class=\"uitext greyText bookshelves\">\n",
       "            Shelves:\n",
       "              <a class=\"actionLinkLite\" href=\"/review/list/103486117-dante?shelf=magical-realism\">magical-realism</a>\n",
       "</div>\n",
       "</div>\n",
       "<div class=\"reviewText stacked\">\n",
       "<span class=\"readable\" id=\"reviewTextContainer3034632747\">\n",
       "<span id=\"freeTextContainer12756975348070498093\">\"If you want to know what a man's like, take a good look at how he treats his inferiors, not his equals.\"</span>\n",
       "</span>\n",
       "</div>\n",
       "<div class=\"reviewFooter uitext buttons\">\n",
       "<div class=\"updateActionLinks\">\n",
       "<a class=\"right flag\" href=\"/flagged/new?resource_id=3034632747&amp;resource_type=Review&amp;return_url=%2Fbook%2Fshow%2F6.Harry_Potter_and_the_Goblet_of_Fire\" id=\"flag_link3034632747\" rel=\"nofollow\" title=\"Flag this review as inappropriate.\">flag</a>\n",
       "<span class=\"likeItContainer\" id=\"like_container_review_3034632747\"><a href=\"/rating/voters/3034632747?resource_type=Review\" id=\"like_count_review_3034632747\" rel=\"nofollow\"><span class=\"likesCount\">79 likes</span></a> · <a class=\"jsLike like_it gr-button gr-button--small\" href=\"https://www.goodreads.com/user/new?remember=true&amp;return_url=%2Fbook%2Freviews%2F6.Harry_Potter_and_the_Goblet_of_Fire\" rel=\"nofollow\">Like</a></span>\n",
       " · <a href=\"/review/show/3034632747?book_show_action=false&amp;from_review_page=2\">see review</a>\n",
       "</div>\n",
       "<div id=\"comments_for_review_3034632747\" style=\"display: none;\">\n",
       "<div class=\"brown_comment\">\n",
       "<span class=\"loadingLinkSpan\"><a class=\"loadingLink\" data-remote=\"true\" href=\"/review/3034632747/comments?reverse=true\">View 1 comment</a><span class=\"loadingAnimation\"></span><span class=\"loadingError\"></span></span>\n",
       "</div>\n",
       "</div>\n",
       "</div>\n",
       "</div>\n",
       "<div class=\"clear\"></div>\n",
       "</div>\n",
       "</div>\n",
       "</div>"
      ]
     },
     "execution_count": 394,
     "metadata": {},
     "output_type": "execute_result"
    }
   ],
   "source": [
    "s"
   ]
  },
  {
   "cell_type": "code",
   "execution_count": 193,
   "metadata": {
    "ExecuteTime": {
     "end_time": "2020-02-03T18:57:25.171233Z",
     "start_time": "2020-02-03T18:57:25.155113Z"
    }
   },
   "outputs": [],
   "source": [
    "text = testsoup.find_all(class_ = \"readable\")\n",
    "l = text[0].contents # possible breakpoint, what is at the other text locations?\n",
    "lchildren = [i for i in l[3].children]\n",
    "\n",
    "strlchildren = [str(i) for i in lchildren]\n",
    "seperator = ' '\n",
    "bigstring = seperator.join(strlchildren)\n",
    "review_nlp_document = remove_text_inside_brackets(bigstring)"
   ]
  },
  {
   "cell_type": "code",
   "execution_count": 194,
   "metadata": {
    "ExecuteTime": {
     "end_time": "2020-02-03T18:57:50.916245Z",
     "start_time": "2020-02-03T18:57:50.906715Z"
    }
   },
   "outputs": [
    {
     "name": "stdout",
     "output_type": "stream",
     "text": [
      "text holds this many items: 1\n"
     ]
    }
   ],
   "source": [
    "print('text holds this many items: '+ str(len(text)))"
   ]
  },
  {
   "cell_type": "code",
   "execution_count": 323,
   "metadata": {
    "ExecuteTime": {
     "end_time": "2020-02-03T20:39:09.784856Z",
     "start_time": "2020-02-03T20:39:09.763775Z"
    },
    "code_folding": []
   },
   "outputs": [
    {
     "data": {
      "text/plain": [
       "{'_id': ObjectId('5e3626c4f9d4bb4f4640cb3b'),\n",
       " 'book_id': '6',\n",
       " 'reviews': '<div class=\"friendReviews elementListBrown\">\\n    <div class=\"section\">\\n      \\n\\n<div id=\"review_2292061646\" class=\"review nosyndicate\" itemprop=\"reviews\" itemscope=\"\" itemtype=\"http://schema.org/Review\">\\n  <link itemprop=\"url\" href=\"https://www.goodreads.com/review/show/2292061646\">\\n    <a title=\"Beth\" class=\"left imgcol\" href=\"/user/show/44125660-beth\"><img alt=\"Beth\" src=\"https://images.gr-assets.com/users/1579985366p2/44125660.jpg\"></a>\\n\\n  <div class=\"left bodycol\">\\n    <div class=\"reviewHeader uitext stacked\">\\n        <a class=\"reviewDate createdAt right\" href=\"/review/show/2292061646?book_show_action=false\">Feb 14, 2018</a>\\n\\n      <span itemprop=\"author\" itemscope=\"\" itemtype=\"http://schema.org/Person\">\\n        <a title=\"Beth\" class=\"user\" itemprop=\"url\" name=\"Beth\" href=\"/user/show/44125660-beth\">Beth</a>\\n      </span>\\n\\n        rated it\\n        <span class=\" staticStars notranslate\" title=\"really liked it\"><span size=\"15x15\" class=\"staticStar p10\">really liked it</span><span size=\"15x15\" class=\"staticStar p10\"></span><span size=\"15x15\" class=\"staticStar p10\"></span><span size=\"15x15\" class=\"staticStar p10\"></span><span size=\"15x15\" class=\"staticStar p0\"></span></span>\\n\\n          <span class=\"greyText\">&nbsp;·&nbsp;</span>\\n          <a class=\"lightGreyText\" title=\"Paperback 9781551927060\" href=\"/book/show/818068.Harry_Potter_and_the_Goblet_of_Fire\">review of another edition</a>\\n\\n\\n        \\n\\n          <div class=\"uitext greyText bookshelves\">\\n            Shelves:\\n              <a class=\"actionLinkLite\" href=\"/review/list/44125660-beth?shelf=2018-reads\">2018-reads</a>, \\n              <a class=\"actionLinkLite\" href=\"/review/list/44125660-beth?shelf=4-stars\">4-stars</a>, \\n              <a class=\"actionLinkLite\" href=\"/review/list/44125660-beth?shelf=book-series\">book-series</a>\\n          </div>\\n    </div>\\n\\n\\n        <div class=\"reviewText stacked\">\\n              <span id=\"reviewTextContainer2292061646\" class=\"readable\">\\n            \\n<span id=\"freeTextContainer14887509396639017823\"><i>”Curiosity is not a sin, but we should exercise caution with our curiosity.”</i><br><br>The <b>fourth</b> Buddy Read with my <a href=\"https://www.goodreads.com/review/show/1037220234?book_show_action=false\" rel=\"nofollow\">book lover!</a><br><br>This was initially going to be four stars, but the last 100/150 pages were just so <b>un-deniably</b> amazing I couldn’t help but bump it up half a star. For my first few reads they’ve started off quite light, however within the first chapter this was <u>dark</u>! We got deaths and treachery, and I was <b>here for it/</b> We got more characters and they were SO good! We had Moody, Krum, Fleur, Cedric</span>\\n  <span id=\"freeText14887509396639017823\" style=\"display:none\"><i>”Curiosity is not a sin, but we should exercise caution with our curiosity.”</i><br><br>The <b>fourth</b> Buddy Read with my <a href=\"https://www.goodreads.com/review/show/1037220234?book_show_action=false\" rel=\"nofollow\">book lover!</a><br><br>This was initially going to be four stars, but the last 100/150 pages were just so <b>un-deniably</b> amazing I couldn’t help but bump it up half a star. For my first few reads they’ve started off quite light, however within the first chapter this was <u>dark</u>! We got deaths and treachery, and I was <b>here for it/</b> We got more characters and they were SO good! We had Moody, Krum, Fleur, Cedric Diggory and Winky!. Now this is one of the very very few times that I have watched the films before I’ve read the book (no judging here) and out of the four books so far this one has the most differences, but the book was <u>so</u> much better!<br><br>There’s such a dark atmosphere to this, and I was often questioning what was happening. I adored the backstory of Crouch and his family I was just like WHAT IS HAPPENING! While this is getting darker there are still fun moments, my favourite being <b>Pigwidgeon</b> what a lovable little owl! Not only this but we got more glimpses of Sirius and I loved how protective he was over Harry. This is the first glimpses I’ve seen in to Ron and Hermione have jealous spats and not only that but Hermione starting S.P.E.W (SPEW?!).<br><br>What I <b>liked?</b><br>- The Quidditch world cup, I loved that everyone had to dress up to try and pass as muggles, also the mascots of each teams were an added bonus<br>- Hermione calling Malfoy a “Twitchy little ferret” ahahahahahahaha!<br>- Nifflers!<br>- The Pensieve and seeing all of the memories, it was so well done.<br>- Everyone coming out of the wand!<br>- Dumbledores speech for/about Diggory. <i>My heart!</i><br>- Rita Skeeter and all of her little secrets!<br>- THE BUILD UP WAS SO GOOD!<br><br>What I <b>didn’t like?</b><br>- Friendships being broken for such a long period of time… <br>- Some parts seemed to drag ever so slightly for me<br><br>Overall I didn’t expect was how emotional I found everything?! I mean I was close to tears at some points which I was very surprised at. I’m really looking forward to starting ORDER OF THE PHOENIX, I’m hoping we still get all of the darkness and lots of new characters! SIGN ME UP!<br><br><a href=\"https://www.goodreads.com/review/show/2280609898?book_show_action=false&amp;from_review_page=1\" rel=\"nofollow\">Philosopher’s Stone</a> - 4.5 Stars<br> <a href=\"https://www.goodreads.com/review/show/2285060572?type=review#rating_151382369\" rel=\"nofollow\">Chamber of Secrets</a> - 4 Stars<br><a href=\"https://www.goodreads.com/review/show/2286840057\" rel=\"nofollow\">Prisoner of Azkaban</a> - 5 Stars<br>Goblet of Fire - 4.5 Stars<br><a href=\"https://www.goodreads.com/review/show/2324857578\" rel=\"nofollow\">Order of the Phoenix</a> - 4.5 Stars</span>\\n  <a data-text-id=\"14887509396639017823\" href=\"#\" onclick=\"swapContent($(this));; return false;\">...more</a>\\n\\n          </span>\\n        </div>\\n\\n\\n      <div class=\"reviewFooter uitext buttons\">\\n          \\n\\n\\n  \\n    <div class=\"updateActionLinks\">\\n        <a class=\"right flag\" rel=\"nofollow\" id=\"flag_link2292061646\" title=\"Flag this review as inappropriate.\" href=\"/flagged/new?resource_id=2292061646&amp;resource_type=Review&amp;return_url=%2Fbook%2Fshow%2F6.Harry_Potter_and_the_Goblet_of_Fire\">flag</a>\\n\\n\\n\\n\\n\\n      <span class=\"likeItContainer\" id=\"like_container_review_2292061646\"><a id=\"like_count_review_2292061646\" rel=\"nofollow\" href=\"/rating/voters/2292061646?resource_type=Review\"><span class=\"likesCount\">73 likes</span></a>&nbsp;·&nbsp;<a rel=\"nofollow\" class=\"jsLike like_it gr-button gr-button--small\" href=\"https://www.goodreads.com/user/new?remember=true&amp;return_url=%2Fbook%2Freviews%2F6.Harry_Potter_and_the_Goblet_of_Fire\">Like</a></span>\\n&nbsp;·&nbsp;<a href=\"/review/show/2292061646?book_show_action=false&amp;from_review_page=2\">see review</a>\\n    </div>\\n\\n\\n    <div id=\"comments_for_review_2292061646\" style=\"display: none;\">\\n<div class=\"brown_comment\">\\n<span class=\"loadingLinkSpan\"><a class=\"loadingLink\" data-remote=\"true\" href=\"/review/2292061646/comments?reverse=true\">View all 3 comments</a><span class=\"loadingAnimation\"></span><span class=\"loadingError\"></span></span>\\n</div>\\n\\n</div>\\n\\n  \\n\\n\\n      </div>\\n\\n  </div>\\n\\n  <div class=\"clear\"></div>\\n</div>\\n\\n    </div>\\n  </div>'}"
      ]
     },
     "execution_count": 323,
     "metadata": {},
     "output_type": "execute_result"
    }
   ],
   "source": [
    "def str_to_rate(qual_state):\n",
    "    '''\n",
    "    a function that turns goodreads's \"I liked it\" or \"I did not like it\" star categories\n",
    "    into the numerical 1-5 rating that they visually imply. \n",
    "    ++++++\n",
    "    Attributes\n",
    "    qual_state (list) a split string pulled from the beautiful soup output of .text on the rating object\n",
    "    ++++++\n",
    "    Returns\n",
    "    user_rating (int): 1-5 score based on NUMBER OF STARS SELECTED BY THE RATER. I honestly don't understand why that's not the output in the HTML. \n",
    "    '''\n",
    "    if qual_state[-3:] == ['it', 'was', 'amazing']:\n",
    "        user_rating = 5\n",
    "    elif qual_state[-3:] ==['really','liked','it']:\n",
    "        user_rating = 4\n",
    "    elif qual_state[-2:] ==['liked', 'it']:\n",
    "        '''note that I belive any that include \"really\" will be given 4\n",
    "        before we get to this elif statement, therefore we don't need \n",
    "        to worry about the issues of \"really liked it\" and \"liked it\"\n",
    "        overlapping'''\n",
    "        user_rating= 3\n",
    "    elif qual_state[-3:]==['it','was','ok']:\n",
    "        user_rating = 2\n",
    "    elif qual_state[-3:]==['not','like','it']:\n",
    "        user_rating = 1\n",
    "    else:\n",
    "        user_rating = 0\n",
    "    return user_rating\n",
    "\n",
    "\n",
    "user_rating = str_to_rate(soup.find_all(class_ =re.compile('field rating'))[0].text.split())\n",
    "\n",
    "\n",
    "documents[500]"
   ]
  },
  {
   "cell_type": "code",
   "execution_count": 316,
   "metadata": {
    "ExecuteTime": {
     "end_time": "2020-02-03T20:07:12.365440Z",
     "start_time": "2020-02-03T20:07:12.273302Z"
    }
   },
   "outputs": [
    {
     "data": {
      "text/plain": [
       "['Oh my gosh...I ‘must’ dedicate this little review to *Cheri*....‘Queen of songs’. Songs come to Cheri when she reads.It happened to me, too. This book is DARKER than books 1-3. ( Lisa warned me) ... Characters are ‘cruel’. CRUEL ... really cruel!!! The song I started singing to myself was an old Elvis Presley song called “Don’t Be Cruel”. Indulge yourself ... sing 🎤along!!Maybe Cheri will put the link in for us to enjoy!! In this book....The Quidditch game - as cool as it is - went on too long in the beginning- Dwarves dressed up as Cupid’s to deliver Valentines to Harry was a little weird too-but .......it’s WIZARD LAND...and Harry *is* a world famous wizard.. so all is fair game in a whimsical-witchcraft-wizardry-world. Mystery, little romance some joy and sorrow, twists and turns... and always fantasy! 4.5 stars....and remember....“Don’t Be Cruel”!!!',\n",
       " \"Is there anyone else out there who thinks Goblet of Fire was the high point of the whole Harry Potter series? I'm just wondering if I'm strange or something. :)\",\n",
       " \"1.) Harry Potter and the Philosopher's Stone ★★★★★2.) Harry Potter and the Chamber of Secrets ★★★★★3.) Harry Potter and the Prisoner of Azkaban ★★★★★4.) Harry Potter and the Goblet of Fire ★★★★★5) Harry Potter and the Order of the Phoenix ★★★★★6.) Harry Potter and the Half Blood Prince ★★★★★7) Harry Potter and the Deathly Hallows ★★★★★8.) Harry Potter and the Cursed Child ★★--------------------------------------------------brb crying\",\n",
       " \"\\n“It is my belief... that the truth is generally preferable to lies.”\\nRe-read - Harry Potter and the Goblet of Fire steps up from the previous ones very well, it's the darkest book I've ever read since Harry Potter and the Sorcerer's Stone. Who knows ? Harry Potter grows up and becomes a boy who has to take the responsibility on his shoulders, he never wants to be selected, he never wants glory and prestige, yet the world turns against him anyway.I love that this book isn't a children's book anymore, in my opinion, it becomes hastily intense and has more dimensions than J.K. Rowling had ever intended. She did a great job when she wrote this book, I could see her intention for the book to be a mature one and she made the right decision for doing that. I'm so pround of her and so she becomes my favorire author EVER !\\n“If you want to know what a man's like, take a good look at how he treats his inferiors, not his equals.” \\n\\n“It matters not what someone is born, but what they grow to be.” \\nNot only this book is full of adventures, but it hides some messages for you to discover. Isn't it the best way to teach our children via books ? Harry Potter and the Goblet of Fire has everything I've asked for since the first time I read. Until now, the book is like a gem and I think of it as my treasure because it's so precious my eyes hurt to look at.Many things happen in this book such as a tragedy and deprecation, but it's the way our lives go on, right ? So I embraced this book like a teddy bear and told myself that perhaps something really bad would happen, but it's just mishaps and it would pass like a rainy day.\\n“Remember, if the time should come when you have to make a choice between what is right and what is easy, remember what happened to a boy who was good, and kind, and brave, because he strayed across the path of Lord Voldemort. Remember Cedric Diggory.”\\n #TeamKrumioneMore at http://goo.gl/kNcx2n\",\n",
       " \"I've read this series more times than I can even remember. But every time it feels like the first time all over again. There's always certain details that I forget between my re-reads and movie watching and it's great to revisit and remember why this is one of my favorites of the series. I loved how much foreshadowing is in it and knowing what's coming, certain parts just break my heart. I decided to do the audio book by Jim Dale for the first time ever. Oh my was it great! Definitely recommend it! So much love for this series!!\",\n",
       " \"My entire emotions of this book can be summed up nicely by this picturePUT YOUR PITCHFORKS DOWN OKAY let me explain. So, I have now come to terms with the fact that 63.34% of this fandom is based on nostalgia, like it’s a decent book but for the HYPE it’s just…..well….(s) So Goblet of Fire was over 700 pages and I felt as if the story hadn’t started until the last 10 chapters. 700 PAGES700 PAGES FOR A MIDDLE SCHOOL BOOKLIKE THAT’S GOTTA BE SOME HARDCORE, ENTERTAINING ISH IF YOU WANNA GO 700 PAGES but sadly, I felt it was VERY DRAWN OUT and im sorry please don’t hate me I don’t deserve this okay Im a good kid I do the dishes and vacuum my roomSo basically harry continues his pursuit in life of being the most special snowflake to ever exist on the blue and green globe, though at points in time, I was beginning to sympathize with the kidRon is mehHis FAMILY ON THE OTHER HANDMolly Weasley is a blessing to this worldThe twins are sO precious AND I NEED MORE OF THEMPercy is mehArthur is 9/10HERMIONE IS PROBABLY THE ONLY CHARACTER THAT I CAN SAY I COMPLETELY AND ENTIRELY ADOREShe’s witty and smart and doesn’t take crap from the boys but is also really loyal and trustworthy basically the best kind of character in this seriesAlso Sirius, he’s, he’s too good man, he’s just too good(s) I also have to say I thoroughly enjoyed the last 5 chapters of the book, why you would ask, BECAUSE THINGS HAPPENED. IT WAS EXCITING, EVENTS TOOK PLACE unlike the rest of the 650 pages which were just drawn out filler Anyways, im told the next book is better or something, also still looking out for the luna character, apparently she’s a dollPlease forgive me  “If you want to know what a man's like, take a good look at how he treats his inferiors, not his equals.”2.5 stars!!~~~~~~~~~~~~~~~~~~~~check yo calendars kidsit's the 15thwhich can only mean ONE thing. . .. . .this b*tch is back to continue her hp series binge\",\n",
       " 'Am I going to be killed for saying that I actually kind of prefer the movie? Still a good book though lol',\n",
       " 'My second favorite in the series!! This was my 13th re-read, y’all. I will never get enough ❤️❤️',\n",
       " 'It seems that Harry Potter and the Goblet of Fire really takes this series in a darker and more scarier direction. I loved all of the complicated plots in regards to characters in this book. It was so well done and Rowling does not miss a step.Harry Potter and the Goblet of Fire is still one of my favorites in the series. The Triwizard Tournament and the Quidditch World Cup really gave this book action and FUN to even out the dark and sad moments at the end of the book.And once again, the audiobooks of this series is FANTASTIC!!',\n",
       " \"4.5Here's my video review https://youtu.be/GGwT2va-vog\",\n",
       " 'This book was so much darker and sadder than I remembered - the crazy thing is, Goblet of Fire was always my least favorite as a kid because between the Qudditch World Cup and the Twiwizard Tournament, I just associated it with being the \"sports one\". But this book has SO MUCH GOING ON and it made me feel way more feels than I remembered, and it all really hit me in ways I hadnt expected. I\\'m so glad Harry has Molly Weasley, and Hagrid, and so many other wonderful people in his life. I couldn\\'t believe how real the argument between Dumbledore and Cornelius Fudge felt at the end, when Fudge refused to believe Voldemort was back. I had forgotten so many details about Winky\\'s part in the book, and Rita Skeeter, and the overall delightfulness of Hermione\\'s weird relationship with Victor. I enjoyed this reread immensely. Favorite book so far of my adult reread of Harry Potter.',\n",
       " 'Act 4 of 7, gents! And I’m stuck somewhere betwixt 4 and 5 stars for this one, so I’ll just write this review, pop on back to the beginning and smack a rating on this bad boy. (Disclaimer: I am on Hour 26 post-wisdom teeth surgery, on some painkillers no one should turn their nose up at, and desperate for solid food and human interaction. So in other words, bear with me, because this may be...somethin’.)https://emmareadstoomuch.wordpress.co...Okay, let’s start with our characters. I always gotta discuss the same collection of several. Both Harry and Ron are pretty consistently eh characters for me (except in the first book, in which I really enjoyed Harry). Here, instead of being eh, I found them...annoying? It drove me absolutely insane that Harry kept procrastinating his clues - like no yeah, do your Divination homework the night it’s assigned, but please put the life-or-death clue off to the side for now. And don’t even get me started on their constant, needless bickering. Ugh. HOW ARE YOU BOTH SOMEHOW EQUALLY ANNOYING HERE?Neville, on the other hand? Cemented his status as a fave o’ mine. His backstory is great. He really deserves to be in Gryffindor, the brave li’l guy, and I just want to give him a big hug. Snape, meanwhile....Well, somehow he outdoes himself here. I just don’t know how I’m going to hold onto this rant until book 7. God, you guys, get ready for a tsunami of anger, I guess.And let’s discuss that feminist message, shall we? I, first off, love that my perhaps-all-time-favorite character Hermione gets political as hell in this one. Mad respect, girl. And for a cause that she’s laughed at for, even one that would make her life far, far easier in every means if she just backed off it! (I’m seeing some parallels to feminism here….) Plus, her defeat of Rita Skeeter, who taunted her for her appearance and reduced her meaning as a person to the boys she spent time with, is just amazing.And don’t even get me started on the representation of women in professional sports in this book! Fabulous enough that almost half of the Gryffindor quidditch team is female, but the fact that there are women competitors in the Quidditch World Cup? Amazing! There’s no underestimating the empowerment that representation lent to young, female readers who dreamed of being athletes.If only this wonderful treatment of women - and we know that Rowling is a tried-and-true feminist - extended to the Triwizard Tournament. But alas, all we get is...Fleur. Fleur’s only trait is her beauty (cough cough, reminds me of someone we know, cough cough, CHO F*CKING CHANG), she (like Rita Skeeter to Hermione) is reduced to the boys she spends time with/thereby must be flirting with (Cedric, the Ravenclaw quidditch captain), and, worst of all, she’s not a good competitor. She gives an eh performance in the first task, receives pity-points in the second, and is ignored and eliminated in the third. Ms. Rowling, my love, couldn’t she at least use her looks cunningly to distract her opponent? If you were only going to give us one girl competitor out of four, couldn’t she at least be, well, good?There were fewer stupid mistakes in this one, but there were still some. One being that somehow magic-less mermaids painted pictures of themselves on a rock...underwater. Unless they’re sourcing that fancy schmancy under-da-sea paint, they should not be able to do that. Also, the search for Sirius is never mentioned by the many (many, many, many, MANY) members of the Ministry of Magic we are CONSTANTLY seeing in this book. Or by Rita Skeeter. Which doesn’t make sense, because that search was a big f*cking deal. (And don’t you think ol’ Skeeter would want to bring up that failing when she’s writing inflammatory articles about Hogwarts and/or the Ministry?)But this comes down to the same thing all these reviews come down to: the world. Goblet of Fire gives us the biggest look into the Wizarding World since Sorcerer’s Stone (Quidditch World Cup! Triwizard Tournament! The operations of the Ministry of Magic!), and because I love looking at this world so flippin’ much (plus fewer teeny errors) I have to give this a high rating.Bottom line: definitely better than the second and third, and maybe (MAYBE!) an almost-tie for favorite-so-far with the first one. The feminism contains some mixed messages, there are a couple things that don’t make sense, and I still haven’t found a way to kill a fictional character (but when I do, watch your back, Severus). But the world, Hermione, Neville’s story, and a couple other great things overcome all that. This book rocks! Hurray!',\n",
       " \"This was my 3rd time reading, and I've always considered Goblet of Fire to be one of my least favorite books in the series, but I don't know what I was thinking. It was wonderful. So much is being introduced, Voldemort is back. I think my misjudgment is because the movies are more prevalent in my memory and the GoF movie was a pretty disloyal adaptation.\",\n",
       " ' Here be warned: This review contains cursing. Greetings, loved ones, and let us talk of a young witch named Hermione Granger.Hermione is, and always has been, a delight to read. Not necessarily because she\\'s a girl, but because she is the only character amongst those 14 year olds who actually has a good head on her shoulders. When I was young and gullible, I hated this book. Hated how it killed off Cedric and how bloody the series got afterwards. I hated it enough to renounce the franchize. Now that I re-read it, I still hate it, but for all different reasons. Cedric, on second reading, is as dull as toast (so I guess the movie casting must have been really spot-on). Harry has finally started to shed his unnatural maturity, and has turned just as obnoxious as most boys at 13. Ron is a wanker. So it\\'s beyond me why Hermione hasn\\'t stolen the spotlight here, as she is easily the most relatable character of them all.Let\\'s look at her character - she is from a muggle family, but through hard work she has become the best student in the school. She studies hard, follows the rules, but makes exceptions when the circumstances are right. She comes off as stuck-up at first, but looks after her friends. She keeps her promises, even though she barely has time to take care of herself. And yet Ron is Harry\\'s best friend, not her.Why?Harry and Ron are much closer than Harry and Hermione. In the previous book, Hermione was at odds with the boys not one, but twice, and that put a serious hinge on their friendship. Even so, that doesn\\'t nearly come close to the drama that follows Harry and Ron\\'s falling out in this book. And then, when they do make up, Hermione is once again pushed back as a tercery best friend, even though she sacrificed her efforts and sleep in order to help Harry learn a spell that would save his skinny ass.Hermione is defined by her intelligence. It falls squarely on her shoulders to help the guys when they\\'re in a pickle - whenever they discover that rushing at an obstackle headfirst isn\\'t going to cut it, they turn to her for advice, and she\\'s also acutely aware of issues of inequality. In this book, she actually starts an organisation to help house elves! She stands up for Hagrid when Rita Skeeter takes a sling at him, and she kept Lupin\\'s secret for months in book three simply because she believed he was a good guy! And where do her efforts to promote equality lead to? They\\'re used for comedic relief.It\\'s equally disgusting how little the boys seem to appreciate her. Not only do they refuse to take her seriously, they consider she\\'s for granted. I mean, sure, Harry has lived with his relatives as an upper middle class brat (a much abused middle class brat), but Hermione\\'s parents are dentists and yet she has a better awareness of social issues than he does! Is Rowling trying to suggest that young activism is only for women, because only women seem aware of these issues?But that\\'s not even the worst this book gets. On the Yule Ball, Harry and Ron take ages before they realize Hermione is a girl, and thus, qualified to be a dance partner (obiously, they can\\'t go with each other, altough it would be most logical, what with all the sparks flying among them). Hermione, though, refuses to be taken for granted. She knows she deserves better than to be a go-to girl, and she does - she gets to be Viktor Krum\\'s date, and she damn well got someone who appreciates her! But are her friends happy for her? No, they\\'re shocked, and in Ron\\'s case, offended, that she dared *gasp* make plans without them! Ron goes as far as to make a scene - in which he (not for the first time) makes Hermione cry. This was supposed to establish some beginnings of the love between Hermione and Ron, but, quite frankly, it just makes Ron look like a wanker. After Rita Skeeter\\'s article, Hermione becomes the target for bullying which, in some cases, turns rather dangerous. Grown-up witches send her hate mail packed with all sorts of deadly stuff, one of which makes the skin of her hands fall off. Ron\\'s commentary? She should have seen it coming, messing around with the paparazzi like that. I bet the bumrag was happy she got punished for liking Krum. But that\\'s not even what\\'s most disturbing about this thing - it\\'s that witches who have never even met Hermione before are willing to take Skeeter\\'s word for it, even if the woman\\'s as trustworthy as a snake. Even Mrs. Weasley, whose own husband got blackened twice in \"The Daily Prophet\", believes her! Nice message for female solidarity, Ms Rowling, real subtle.Again, I ask, why can\\'t Hermione be the hero of these series? I don\\'t think I\\'m alone in thinking it could be so much better. ',\n",
       " 'Goblet is hand\\'s down my son\\'s favorite Harry Potter novel. From the Quiddich World Cup to the rebirth of Voldemort, it is nonstop action (with quite a bit of comedy thanks to Ron and others.) Our favorite characters feature prominently (and none are killed off...yet) such as, her Gandalf Dumbledore and Sirius Black. I found it entertaining and really enjoyed all the inventive ideas around magic that Rowling comes up with. I kept saying to myself, \"why didn\\'t I think of that?\"The character development is interesting too as Harry is clearly heading into adolescence and having issues with girls. The Yuletide dance scene was absolutely the best part of the book, I thought. And, for the francophones reading this review, the French translation misses entirely the sly humorous French and Eastern European accents that Rowling uses for the Beauxbatons girls and the Durmstrang boys which were hilarious! That being said, I was a little disappointed with the Fleur Delacourt character from Beauxbatons. As the only girl among the four champions, she totally sucked at all three challenges. Not a very encouraging model for French girls or girls in general. I mean, I know Harry always has to win, but perhaps it would have been a wee bit better and even more suspenseful if Fleur had placed a bit higher. A note about the movie: it was FRUSTRATING! The movie skipped easily half of the book or more - no quidditch at all :( - and I don\\'t know how folks could have followed the action without having read the book because to my eyes, there were a lot of nonsequitors (like the poor editing of the death eater scene following the Quidditch World Cup.) I definitely would recommend reading the book if you only saw the movie. Far better!',\n",
       " \"This is by far, so far, the darkest book of them all. Grim is the beginning of the book, grimmer is the foreshadowing and grimmest is the ordeal through which Harry alone survives.Harry's trick of conveying only what he sees or dreams of is well poised in the book's narrative. It's the balance of the known and unknown that is intriguing. So many things happen.One can barely cope with the events in the book. And we have to sort them according to what our theories are. Harry Potter is extraordinary in his ordinariness. Magic is so innately superficial in book 4, that's it's used as a tool rather than a luxury. That's it, from me.\",\n",
       " \"FINALLY ready to get back to this. I actually listened to the first 150ish pages last weekend when I was on the road, and I didn't kneel over. Of course, Snape's not been mentioned yet, so we'll see . . . *crosses fingers*\",\n",
       " '\"If you want to know what a man\\'s like, take a good look at how he treats his inferiors, not his equals.\"',\n",
       " 'Now THAT\\'S a book! The groove that J.K. Rowling starts to find in HP 3 is fully realized in 4. Partly it\\'s that the kids (and therefore the readers) are getting older so she can delve into more adult, complex themes and situations, and partly it\\'s that I think she\\'s really finding her voice. We finally got our very own HP\\'s, I am happy to report, and it\\'s so funny to look at them all side by side b/c of the HUGE leap in size between 3 and 4. Then they get a little tricky b/c while 4 and 5 look to be about the same length, the font in Order of the Phoenix is much smaller, hence a longer book. I just started that one and it honestly feels longer already. More of a book book and less of a fun afternoon\\'s diversion. But I like these books as they get both darker and longer.But to focus on Goblet of Fire specifically for a moment...again, not that I think I can bring anything new to the table in discussing these books. Nevertheless, I\\'ll throw a few ideas out there just for your reading pleasure. One thing that struck me, as I mentioned before, was the increasing maturity and complexity of situations and themes. Clearly having someone die is a huge deal and I found that whole series of events really moving this time around. I may have last time as well, but I don\\'t remember. In a way, though, some of the more complex issues feel jarring next to the goofy concepts she originally created. Calling non-magical people \"Muggles,\" for instance. It\\'s just a stupid word and yes, it sounds funny and makes kids laugh, but sometimes it\\'s hard to take all these people seriously. \"Mud-bloods\" on the other hand is vicious and definitely drives the point home. I just wonder if she was to do it over again if some of those terms or ideas would change a bit. Yes, we\\'d all like to revisit what we did/wrote when we were less sure of ourselves and our voices and ideas, but of course we can\\'t and neither can she. And what do I know? She claims she always knew what would happen to Harry, so maybe for her \"Muggle\" is the ideal word.Since, as usual, I find it impossible to discuss the books without referencing the films, let me just say that although I hated Dobby in the movie (2?) and was glad to see him mostly cut from subsequent screen incarnations, I really loved him in this one. The dialogue is actually quite funny and Hermione\\'s whole S.P.E.W. thing just cracks me up. Yes, I know a lot of people hate it and find it annoying and whatever, but I love it. Of course she would have a cause like that. That\\'s who she is! And poor Winky. They\\'re weird creatures (and OH how I love Kreacher in the next one!) and I can\\'t decide whether I am with Hermione or everyone else on their \"plight.\" Either way, I like that they exist; they provide a bit of moral ambiguity in a world that is mostly cleanly divided between good and evil. You might wonder about people, but for the most part they end up squarely one or the other. Other than Snape - another great piece of moral ambiguity whose complexity grows from book to book.I also continue to marvel at Rowling\\'s ability to write about the teenage mind. Ron and Harry\\'s fight is spot on, as are Hermione\\'s various reactions to it. And oh these poor boys having to ask the girls to the feast. I wish I had known when I was in middle school how truly hard it was for boys to talk to girls like that. Although I probably wouldn\\'t have cared, being the good self-involved teenger that I was. I still want to go to Hogwarts.',\n",
       " 'Harry Potter changed my life. If I hadn’t read Harry Potter when I did I would not be the same person today. What I am today, in a part is due to Harry. I cannot really say enough to make you understand how much Harry Potter means to me.']"
      ]
     },
     "execution_count": 316,
     "metadata": {},
     "output_type": "execute_result"
    }
   ],
   "source": [
    "test = documents[480:500]\n",
    "\n",
    "trythis = [get_text(i) for i in test]\n",
    "    \n",
    "    \n",
    "    \n",
    "trythis"
   ]
  },
  {
   "cell_type": "code",
   "execution_count": 311,
   "metadata": {
    "ExecuteTime": {
     "end_time": "2020-02-03T20:02:39.340184Z",
     "start_time": "2020-02-03T20:02:39.333336Z"
    }
   },
   "outputs": [
    {
     "data": {
      "text/plain": [
       "'Goblet is hand\\'s down my son\\'s favorite Harry Potter novel. From the Quiddich World Cup to the rebirth of Voldemort, it is nonstop action (with quite a bit of comedy thanks to Ron and others.) Our favorite characters feature prominently (and none are killed off...yet) such as, her Gandalf Dumbledore and Sirius Black. I found it entertaining and really enjoyed all the inventive ideas around magic that Rowling comes up with. I kept saying to myself, \"why didn\\'t I think of that?\"The character development is interesting too as Harry is clearly heading into adolescence and having issues with girls. The Yuletide dance scene was absolutely the best part of the book, I thought. And, for the francophones reading this review, the French translation misses entirely the sly humorous French and Eastern European accents that Rowling uses for the Beauxbatons girls and the Durmstrang boys which were hilarious! That being said, I was a little disappointed with the Fleur Delacourt character from Beauxbatons. As the only girl among the four champions, she totally sucked at all three challenges. Not a very encouraging model for French girls or girls in general. I mean, I know Harry always has to win, but perhaps it would have been a wee bit better and even more suspenseful if Fleur had placed a bit higher. A note about the movie: it was FRUSTRATING! The movie skipped easily half of the book or more - no quidditch at all :( - and I don\\'t know how folks could have followed the action without having read the book because to my eyes, there were a lot of nonsequitors (like the poor editing of the death eater scene following the Quidditch World Cup.) I definitely would recommend reading the book if you only saw the movie. Far better!'"
      ]
     },
     "execution_count": 311,
     "metadata": {},
     "output_type": "execute_result"
    }
   ],
   "source": [
    "all_reviews[14]"
   ]
  },
  {
   "cell_type": "code",
   "execution_count": 243,
   "metadata": {
    "ExecuteTime": {
     "end_time": "2020-02-03T19:37:04.110393Z",
     "start_time": "2020-02-03T19:37:04.080530Z"
    }
   },
   "outputs": [],
   "source": [
    "breakpoint = documents.index(i) ##will show me where this thing breaks\n",
    "\n",
    "i = documents[500]\n",
    "soup = BeautifulSoup(i['reviews'], 'html.parser')\n",
    "text = soup.find_all(class_ = \"readable\")\n",
    "l = text[0].contents # turns out there's only one readable in each review. Pretty good so far. \n",
    "freetextlst = [s for s in l if \"freeText\" in str(s)] \n",
    "\n",
    "rev_text = ' '.join(map(str, freetextlst))\n",
    "\n",
    "# bigstring = seperator.join(strlchildren)\n",
    "review_nlp_document = remove_text_inside_brackets(rev_text)\n",
    "all_reviews.append(review_nlp_document)"
   ]
  },
  {
   "cell_type": "code",
   "execution_count": 284,
   "metadata": {
    "ExecuteTime": {
     "end_time": "2020-02-03T19:47:28.361190Z",
     "start_time": "2020-02-03T19:47:28.345261Z"
    }
   },
   "outputs": [
    {
     "data": {
      "text/plain": [
       "'<span id=\"freeTextContainer14887509396639017823\"><i>”Curiosity is not a sin, but we should exercise caution with our curiosity.”</i><br/><br/>The <b>fourth</b> Buddy Read with my <a href=\"https://www.goodreads.com/review/show/1037220234?book_show_action=false\" rel=\"nofollow\">book lover!</a><br/><br/>This was initially going to be four stars, but the last 100/150 pages were just so <b>un-deniably</b> amazing I couldn’t help but bump it up half a star. For my first few reads they’ve started off quite light, however within the first chapter this was <u>dark</u>! We got deaths and treachery, and I was <b>here for it/</b> We got more characters and they were SO good! We had Moody, Krum, Fleur, Cedric</span> <span id=\"freeText14887509396639017823\" style=\"display:none\"><i>”Curiosity is not a sin, but we should exercise caution with our curiosity.”</i><br/><br/>The <b>fourth</b> Buddy Read with my <a href=\"https://www.goodreads.com/review/show/1037220234?book_show_action=false\" rel=\"nofollow\">book lover!</a><br/><br/>This was initially going to be four stars, but the last 100/150 pages were just so <b>un-deniably</b> amazing I couldn’t help but bump it up half a star. For my first few reads they’ve started off quite light, however within the first chapter this was <u>dark</u>! We got deaths and treachery, and I was <b>here for it/</b> We got more characters and they were SO good! We had Moody, Krum, Fleur, Cedric Diggory and Winky!. Now this is one of the very very few times that I have watched the films before I’ve read the book (no judging here) and out of the four books so far this one has the most differences, but the book was <u>so</u> much better!<br/><br/>There’s such a dark atmosphere to this, and I was often questioning what was happening. I adored the backstory of Crouch and his family I was just like WHAT IS HAPPENING! While this is getting darker there are still fun moments, my favourite being <b>Pigwidgeon</b> what a lovable little owl! Not only this but we got more glimpses of Sirius and I loved how protective he was over Harry. This is the first glimpses I’ve seen in to Ron and Hermione have jealous spats and not only that but Hermione starting S.P.E.W (SPEW?!).<br/><br/>What I <b>liked?</b><br/>- The Quidditch world cup, I loved that everyone had to dress up to try and pass as muggles, also the mascots of each teams were an added bonus<br/>- Hermione calling Malfoy a “Twitchy little ferret” ahahahahahahaha!<br/>- Nifflers!<br/>- The Pensieve and seeing all of the memories, it was so well done.<br/>- Everyone coming out of the wand!<br/>- Dumbledores speech for/about Diggory. <i>My heart!</i><br/>- Rita Skeeter and all of her little secrets!<br/>- THE BUILD UP WAS SO GOOD!<br/><br/>What I <b>didn’t like?</b><br/>- Friendships being broken for such a long period of time… <br/>- Some parts seemed to drag ever so slightly for me<br/><br/>Overall I didn’t expect was how emotional I found everything?! I mean I was close to tears at some points which I was very surprised at. I’m really looking forward to starting ORDER OF THE PHOENIX, I’m hoping we still get all of the darkness and lots of new characters! SIGN ME UP!<br/><br/><a href=\"https://www.goodreads.com/review/show/2280609898?book_show_action=false&amp;from_review_page=1\" rel=\"nofollow\">Philosopher’s Stone</a> - 4.5 Stars<br/> <a href=\"https://www.goodreads.com/review/show/2285060572?type=review#rating_151382369\" rel=\"nofollow\">Chamber of Secrets</a> - 4 Stars<br/><a href=\"https://www.goodreads.com/review/show/2286840057\" rel=\"nofollow\">Prisoner of Azkaban</a> - 5 Stars<br/>Goblet of Fire - 4.5 Stars<br/><a href=\"https://www.goodreads.com/review/show/2324857578\" rel=\"nofollow\">Order of the Phoenix</a> - 4.5 Stars</span>'"
      ]
     },
     "execution_count": 284,
     "metadata": {},
     "output_type": "execute_result"
    }
   ],
   "source": [
    "freetextlst = [s for s in l if \"freeText\" in str(s)] \n",
    "\n",
    "rev_text = ' '.join(map(str, freetextlst))\n",
    "rev_text"
   ]
  },
  {
   "cell_type": "code",
   "execution_count": 233,
   "metadata": {
    "ExecuteTime": {
     "end_time": "2020-02-03T19:33:20.332224Z",
     "start_time": "2020-02-03T19:33:18.785952Z"
    }
   },
   "outputs": [],
   "source": [
    "test = documents[:800]\n",
    "lol = []\n",
    "nothing = 0\n",
    "\n",
    "for i in test:\n",
    "    breakpoint = documents.index(i) ##will show me where this thing breaks\n",
    "    soup = BeautifulSoup(i['reviews'], 'html.parser')\n",
    "    text = soup.find_all(class_ = \"readable\")\n",
    "    if len(text) > 1:\n",
    "        print(len(text))\n",
    "    if len(text)==0:\n",
    "        nothing+=1\n"
   ]
  },
  {
   "cell_type": "code",
   "execution_count": 234,
   "metadata": {
    "ExecuteTime": {
     "end_time": "2020-02-03T19:33:20.968255Z",
     "start_time": "2020-02-03T19:33:20.957969Z"
    }
   },
   "outputs": [
    {
     "data": {
      "text/plain": [
       "410"
      ]
     },
     "execution_count": 234,
     "metadata": {},
     "output_type": "execute_result"
    }
   ],
   "source": []
  },
  {
   "cell_type": "code",
   "execution_count": 228,
   "metadata": {
    "ExecuteTime": {
     "end_time": "2020-02-03T19:31:50.737326Z",
     "start_time": "2020-02-03T19:31:50.729077Z"
    }
   },
   "outputs": [
    {
     "data": {
      "text/plain": [
       "{'_id': ObjectId('5e3626c4f9d4bb4f4640cb2f'),\n",
       " 'book_id': '6',\n",
       " 'reviews': '<div class=\"friendReviews elementListBrown\">\\n    <div class=\"section\">\\n      \\n\\n<div id=\"review_447907643\" class=\"review nosyndicate\" itemprop=\"reviews\" itemscope=\"\" itemtype=\"http://schema.org/Review\">\\n  <link itemprop=\"url\" href=\"https://www.goodreads.com/review/show/447907643\">\\n    <a title=\"Ginger\" class=\"left imgcol\" href=\"/user/show/14097149-ginger\"><img alt=\"Ginger\" src=\"https://images.gr-assets.com/users/1565278456p2/14097149.jpg\"></a>\\n\\n  <div class=\"left bodycol\">\\n    <div class=\"reviewHeader uitext stacked\">\\n        <a class=\"reviewDate createdAt right\" href=\"/review/show/447907643?book_show_action=false\">Nov 03, 2012</a>\\n\\n      <span itemprop=\"author\" itemscope=\"\" itemtype=\"http://schema.org/Person\">\\n        <a title=\"Ginger\" class=\"user\" itemprop=\"url\" name=\"Ginger\" href=\"/user/show/14097149-ginger\">Ginger</a>\\n      </span>\\n\\n        rated it\\n        <span class=\" staticStars notranslate\" title=\"it was amazing\"><span size=\"15x15\" class=\"staticStar p10\">it was amazing</span><span size=\"15x15\" class=\"staticStar p10\"></span><span size=\"15x15\" class=\"staticStar p10\"></span><span size=\"15x15\" class=\"staticStar p10\"></span><span size=\"15x15\" class=\"staticStar p10\"></span></span>\\n\\n\\n\\n        \\n\\n          <div class=\"uitext greyText bookshelves\">\\n            Shelves:\\n              <a class=\"actionLinkLite\" href=\"/review/list/14097149-ginger?shelf=2018\">2018</a>, \\n              <a class=\"actionLinkLite\" href=\"/review/list/14097149-ginger?shelf=audio\">audio</a>\\n          </div>\\n    </div>\\n\\n\\n        <div class=\"reviewText stacked\">\\n              <span id=\"reviewTextContainer447907643\" class=\"readable\">\\n            \\n<span id=\"freeTextContainer14274364883859705695\">It seems that <b>Harry Potter and the Goblet of Fire</b> really takes this series in a darker and more scarier direction. I loved all of the complicated plots in regards to characters in this book. It was so well done and <i>Rowling</i> does not miss a step.<br><br><b>Harry Potter and the Goblet of Fire</b> is still one of my favorites in the series. The Triwizard Tournament and the Quidditch World Cup really gave this book action and FUN to even out the dark and sad moments at the end of the book.<br><br>And once again, the</span>\\n  <span id=\"freeText14274364883859705695\" style=\"display:none\">It seems that <b>Harry Potter and the Goblet of Fire</b> really takes this series in a darker and more scarier direction. I loved all of the complicated plots in regards to characters in this book. It was so well done and <i>Rowling</i> does not miss a step.<br><br><b>Harry Potter and the Goblet of Fire</b> is still one of my favorites in the series. The Triwizard Tournament and the Quidditch World Cup really gave this book action and FUN to even out the dark and sad moments at the end of the book.<br><br>And once again, the audiobooks of this series is <b>FANTASTIC!!</b></span>\\n  <a data-text-id=\"14274364883859705695\" href=\"#\" onclick=\"swapContent($(this));; return false;\">...more</a>\\n\\n          </span>\\n        </div>\\n\\n\\n      <div class=\"reviewFooter uitext buttons\">\\n          \\n\\n\\n  \\n    <div class=\"updateActionLinks\">\\n        <a class=\"right flag\" rel=\"nofollow\" id=\"flag_link447907643\" title=\"Flag this review as inappropriate.\" href=\"/flagged/new?resource_id=447907643&amp;resource_type=Review&amp;return_url=%2Fbook%2Fshow%2F6.Harry_Potter_and_the_Goblet_of_Fire\">flag</a>\\n\\n\\n\\n\\n\\n      <span class=\"likeItContainer\" id=\"like_container_review_447907643\"><a id=\"like_count_review_447907643\" rel=\"nofollow\" href=\"/rating/voters/447907643?resource_type=Review\"><span class=\"likesCount\">90 likes</span></a>&nbsp;·&nbsp;<a rel=\"nofollow\" class=\"jsLike like_it gr-button gr-button--small\" href=\"https://www.goodreads.com/user/new?remember=true&amp;return_url=%2Fbook%2Freviews%2F6.Harry_Potter_and_the_Goblet_of_Fire\">Like</a></span>\\n&nbsp;·&nbsp;<a href=\"/review/show/447907643?book_show_action=false&amp;from_review_page=2\">see review</a>\\n    </div>\\n\\n\\n    <div id=\"comments_for_review_447907643\" style=\"display: none;\">\\n<div class=\"brown_comment\">\\n<span class=\"loadingLinkSpan\"><a class=\"loadingLink\" data-remote=\"true\" href=\"/review/447907643/comments?reverse=true\">View all 42 comments</a><span class=\"loadingAnimation\"></span><span class=\"loadingError\"></span></span>\\n</div>\\n\\n</div>\\n\\n  \\n\\n\\n      </div>\\n\\n  </div>\\n\\n  <div class=\"clear\"></div>\\n</div>\\n\\n    </div>\\n  </div>'}"
      ]
     },
     "execution_count": 228,
     "metadata": {},
     "output_type": "execute_result"
    }
   ],
   "source": [
    "\n",
    "documents[488]"
   ]
  },
  {
   "cell_type": "code",
   "execution_count": 318,
   "metadata": {
    "ExecuteTime": {
     "end_time": "2020-02-03T20:23:33.756665Z",
     "start_time": "2020-02-03T20:23:33.751379Z"
    }
   },
   "outputs": [],
   "source": [
    "small_docs = documents[480:600]"
   ]
  },
  {
   "cell_type": "code",
   "execution_count": 320,
   "metadata": {
    "ExecuteTime": {
     "end_time": "2020-02-03T20:24:20.058987Z",
     "start_time": "2020-02-03T20:24:20.052723Z"
    }
   },
   "outputs": [],
   "source": [
    "r = small_docs[1]"
   ]
  },
  {
   "cell_type": "code",
   "execution_count": 321,
   "metadata": {
    "ExecuteTime": {
     "end_time": "2020-02-03T20:25:02.141493Z",
     "start_time": "2020-02-03T20:25:02.135845Z"
    }
   },
   "outputs": [
    {
     "data": {
      "text/plain": [
       "{'_id': ObjectId('5e3626c4f9d4bb4f4640cb28'),\n",
       " 'book_id': '6',\n",
       " 'reviews': '<div class=\"friendReviews elementListBrown\">\\n    <div class=\"section\">\\n      \\n\\n<div id=\"review_556221106\" class=\"review\" itemprop=\"reviews\" itemscope=\"\" itemtype=\"http://schema.org/Review\">\\n  <link itemprop=\"url\" href=\"https://www.goodreads.com/review/show/556221106\">\\n    <a title=\"Tadiana ✩Night Owl☽\" class=\"left imgcol\" href=\"/user/show/8734459-tadiana-night-owl\"><img alt=\"Tadiana ✩Night Owl☽\" src=\"https://images.gr-assets.com/users/1383845644p2/8734459.jpg\"></a>\\n\\n  <div class=\"left bodycol\">\\n    <div class=\"reviewHeader uitext stacked\">\\n        <a class=\"reviewDate createdAt right\" href=\"/review/show/556221106?book_show_action=false\">Mar 08, 2013</a>\\n\\n      <span itemprop=\"author\" itemscope=\"\" itemtype=\"http://schema.org/Person\">\\n        <a title=\"Tadiana ✩Night Owl☽\" class=\"user\" itemprop=\"url\" name=\"Tadiana ✩Night Owl☽\" href=\"/user/show/8734459-tadiana-night-owl\">Tadiana ✩Night Owl☽</a>\\n      </span>\\n\\n        rated it\\n        <span class=\" staticStars notranslate\" title=\"it was amazing\"><span size=\"15x15\" class=\"staticStar p10\">it was amazing</span><span size=\"15x15\" class=\"staticStar p10\"></span><span size=\"15x15\" class=\"staticStar p10\"></span><span size=\"15x15\" class=\"staticStar p10\"></span><span size=\"15x15\" class=\"staticStar p10\"></span></span>\\n\\n\\n\\n        \\n\\n          <div class=\"uitext greyText bookshelves\">\\n            Shelves:\\n              <a class=\"actionLinkLite\" href=\"/review/list/8734459-tadiana-night-owl?shelf=here-there-be-dragons\">here-there-be-dragons</a>, \\n              <a class=\"actionLinkLite\" href=\"/review/list/8734459-tadiana-night-owl?shelf=ya-fantasy\">ya-fantasy</a>, \\n              <a class=\"actionLinkLite\" href=\"/review/list/8734459-tadiana-night-owl?shelf=fantasy\">fantasy</a>\\n          </div>\\n    </div>\\n\\n\\n        <div class=\"reviewText stacked\">\\n              <span id=\"reviewTextContainer556221106\" class=\"readable\">\\n            \\n<span id=\"freeTextContainer15604314712800827931\">Is there anyone else out there who thinks <i>Goblet of Fire</i> was the high point of the whole Harry Potter series? <br><br>I\\'m just wondering if I\\'m strange or something. :)</span>\\n\\n          </span>\\n        </div>\\n\\n\\n      <div class=\"reviewFooter uitext buttons\">\\n          \\n\\n\\n  \\n    <div class=\"updateActionLinks\">\\n        <a class=\"right flag\" rel=\"nofollow\" id=\"flag_link556221106\" title=\"Flag this review as inappropriate.\" href=\"/flagged/new?resource_id=556221106&amp;resource_type=Review&amp;return_url=%2Fbook%2Fshow%2F6.Harry_Potter_and_the_Goblet_of_Fire\">flag</a>\\n\\n\\n\\n\\n\\n      <span class=\"likeItContainer\" id=\"like_container_review_556221106\"><a id=\"like_count_review_556221106\" rel=\"nofollow\" href=\"/rating/voters/556221106?resource_type=Review\"><span class=\"likesCount\">107 likes</span></a>&nbsp;·&nbsp;<a rel=\"nofollow\" class=\"jsLike like_it gr-button gr-button--small\" href=\"https://www.goodreads.com/user/new?remember=true&amp;return_url=%2Fbook%2Freviews%2F6.Harry_Potter_and_the_Goblet_of_Fire\">Like</a></span>\\n&nbsp;·&nbsp;<a href=\"/review/show/556221106?book_show_action=false&amp;from_review_page=2\">see review</a>\\n    </div>\\n\\n\\n    <div id=\"comments_for_review_556221106\" style=\"display: none;\">\\n<div class=\"brown_comment\">\\n<span class=\"loadingLinkSpan\"><a class=\"loadingLink\" data-remote=\"true\" href=\"/review/556221106/comments?reverse=true\">View all 24 comments</a><span class=\"loadingAnimation\"></span><span class=\"loadingError\"></span></span>\\n</div>\\n\\n</div>\\n\\n  \\n\\n\\n      </div>\\n\\n  </div>\\n\\n  <div class=\"clear\"></div>\\n</div>\\n\\n    </div>\\n  </div>'}"
      ]
     },
     "execution_count": 321,
     "metadata": {},
     "output_type": "execute_result"
    }
   ],
   "source": [
    "r['reviews']\n",
    "\n"
   ]
  },
  {
   "cell_type": "code",
   "execution_count": null,
   "metadata": {},
   "outputs": [],
   "source": []
  }
 ],
 "metadata": {
  "kernelspec": {
   "display_name": "Python 3.7.4 64-bit ('anaconda3': virtualenv)",
   "language": "python",
   "name": "python37464bitanaconda3virtualenv4689841a946143dd80c9fcc86c644564"
  },
  "language_info": {
   "codemirror_mode": {
    "name": "ipython",
    "version": 3
   },
   "file_extension": ".py",
   "mimetype": "text/x-python",
   "name": "python",
   "nbconvert_exporter": "python",
   "pygments_lexer": "ipython3",
   "version": "3.7.4"
  }
 },
 "nbformat": 4,
 "nbformat_minor": 2
}
