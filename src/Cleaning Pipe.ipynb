{
 "cells": [
  {
   "cell_type": "markdown",
   "metadata": {},
   "source": [
    "### Import modules and things"
   ]
  },
  {
   "cell_type": "code",
   "execution_count": 130,
   "metadata": {
    "ExecuteTime": {
     "end_time": "2020-02-03T17:21:53.808462Z",
     "start_time": "2020-02-03T17:21:53.802910Z"
    }
   },
   "outputs": [],
   "source": [
    "from pymongo import MongoClient\n",
    "import pprint\n",
    "import json\n",
    "import bs4\n",
    "from bs4 import BeautifulSoup\n",
    "import re\n",
    "import numpy as np"
   ]
  },
  {
   "cell_type": "markdown",
   "metadata": {},
   "source": [
    "### Get mongoclient"
   ]
  },
  {
   "cell_type": "code",
   "execution_count": 3,
   "metadata": {
    "ExecuteTime": {
     "end_time": "2020-02-03T16:38:00.069618Z",
     "start_time": "2020-02-03T16:38:00.054834Z"
    }
   },
   "outputs": [],
   "source": [
    "client = MongoClient('localhost', 27017)\n",
    "db=client['reviews']\n",
    "coll=db['book_reviews']"
   ]
  },
  {
   "cell_type": "code",
   "execution_count": 9,
   "metadata": {
    "ExecuteTime": {
     "end_time": "2020-02-03T16:39:42.310608Z",
     "start_time": "2020-02-03T16:39:42.300967Z"
    }
   },
   "outputs": [],
   "source": [
    "documents = [x for x in db['book_reviews'].find()]"
   ]
  },
  {
   "cell_type": "code",
   "execution_count": 36,
   "metadata": {
    "ExecuteTime": {
     "end_time": "2020-02-03T16:48:57.236993Z",
     "start_time": "2020-02-03T16:48:57.221720Z"
    }
   },
   "outputs": [],
   "source": [
    "test = documents[500]\n",
    "# test is a mongo document, not the html. we need to get the 'reviews' value\n",
    "# test['reviews']\n"
   ]
  },
  {
   "cell_type": "code",
   "execution_count": 37,
   "metadata": {
    "ExecuteTime": {
     "end_time": "2020-02-03T16:49:06.205968Z",
     "start_time": "2020-02-03T16:49:06.185551Z"
    }
   },
   "outputs": [],
   "source": [
    "testsoup = BeautifulSoup(test['reviews'], 'html.parser')"
   ]
  },
  {
   "cell_type": "code",
   "execution_count": 45,
   "metadata": {
    "ExecuteTime": {
     "end_time": "2020-02-03T16:57:08.006127Z",
     "start_time": "2020-02-03T16:57:07.988491Z"
    }
   },
   "outputs": [],
   "source": [
    "text = testsoup.find_all(class_ = \"readable\")"
   ]
  },
  {
   "cell_type": "markdown",
   "metadata": {
    "ExecuteTime": {
     "end_time": "2020-02-03T17:00:10.068532Z",
     "start_time": "2020-02-03T17:00:10.055938Z"
    }
   },
   "source": [
    "### Okay, we got to \"text\", sort of. Lets try to clean this up. "
   ]
  },
  {
   "cell_type": "code",
   "execution_count": 95,
   "metadata": {
    "ExecuteTime": {
     "end_time": "2020-02-03T17:13:57.889284Z",
     "start_time": "2020-02-03T17:13:57.880521Z"
    }
   },
   "outputs": [
    {
     "data": {
      "text/plain": [
       "bs4.element.ResultSet"
      ]
     },
     "execution_count": 95,
     "metadata": {},
     "output_type": "execute_result"
    }
   ],
   "source": [
    "type(text)"
   ]
  },
  {
   "cell_type": "code",
   "execution_count": 80,
   "metadata": {
    "ExecuteTime": {
     "end_time": "2020-02-03T17:08:06.196978Z",
     "start_time": "2020-02-03T17:08:06.189056Z"
    }
   },
   "outputs": [],
   "source": [
    "def clean_readable(readable):\n",
    "    '''\n",
    "    a function that takes readable, a bs4 ResultSet and turns it into a list of the strings contained within. \n",
    "    '''\n",
    "    \n",
    "    "
   ]
  },
  {
   "cell_type": "code",
   "execution_count": 103,
   "metadata": {
    "ExecuteTime": {
     "end_time": "2020-02-03T17:16:35.222943Z",
     "start_time": "2020-02-03T17:16:35.214081Z"
    }
   },
   "outputs": [
    {
     "data": {
      "text/plain": [
       "list"
      ]
     },
     "execution_count": 103,
     "metadata": {},
     "output_type": "execute_result"
    }
   ],
   "source": [
    "type(text[0].contents)"
   ]
  },
  {
   "cell_type": "code",
   "execution_count": 105,
   "metadata": {
    "ExecuteTime": {
     "end_time": "2020-02-03T17:17:28.166050Z",
     "start_time": "2020-02-03T17:17:28.157343Z"
    }
   },
   "outputs": [],
   "source": [
    "l = text[0].contents"
   ]
  },
  {
   "cell_type": "code",
   "execution_count": 113,
   "metadata": {
    "ExecuteTime": {
     "end_time": "2020-02-03T17:17:55.231213Z",
     "start_time": "2020-02-03T17:17:55.223087Z"
    }
   },
   "outputs": [
    {
     "data": {
      "text/plain": [
       "'\\n'"
      ]
     },
     "execution_count": 113,
     "metadata": {},
     "output_type": "execute_result"
    }
   ],
   "source": [
    "l[0]"
   ]
  },
  {
   "cell_type": "code",
   "execution_count": null,
   "metadata": {},
   "outputs": [],
   "source": []
  },
  {
   "cell_type": "code",
   "execution_count": 117,
   "metadata": {
    "ExecuteTime": {
     "end_time": "2020-02-03T17:18:51.682013Z",
     "start_time": "2020-02-03T17:18:51.666407Z"
    }
   },
   "outputs": [
    {
     "data": {
      "text/plain": [
       "bs4.element.Tag"
      ]
     },
     "execution_count": 117,
     "metadata": {},
     "output_type": "execute_result"
    }
   ],
   "source": [
    "type(l[3])"
   ]
  },
  {
   "cell_type": "code",
   "execution_count": 124,
   "metadata": {
    "ExecuteTime": {
     "end_time": "2020-02-03T17:19:57.066819Z",
     "start_time": "2020-02-03T17:19:57.060280Z"
    }
   },
   "outputs": [],
   "source": [
    "lc = [i for i in l[3].children]"
   ]
  },
  {
   "cell_type": "code",
   "execution_count": 190,
   "metadata": {
    "ExecuteTime": {
     "end_time": "2020-02-03T18:55:03.538403Z",
     "start_time": "2020-02-03T18:55:03.533256Z"
    }
   },
   "outputs": [],
   "source": [
    "#display different tags in the result. \n",
    "\n",
    "\n",
    "# for i in lc:\n",
    "#     #print(type(i))\n",
    "#     if type(i) == bs4.element.Tag:\n",
    "#         print(i)\n",
    "#     #if type(i) == bs4.element.NavigableString:\n",
    "# #     print(i)"
   ]
  },
  {
   "cell_type": "markdown",
   "metadata": {
    "ExecuteTime": {
     "end_time": "2020-02-03T17:30:29.771694Z",
     "start_time": "2020-02-03T17:30:29.758201Z"
    }
   },
   "source": [
    "# get rid of all these '< br/ >', \n",
    "they're line breaks. maybe divide lines up by line breaks? no. DO NOT. that will make the nlp treat each line differently, we want an nlp document to be a whole review"
   ]
  },
  {
   "cell_type": "code",
   "execution_count": 195,
   "metadata": {
    "ExecuteTime": {
     "end_time": "2020-02-03T18:58:32.001766Z",
     "start_time": "2020-02-03T18:58:31.986905Z"
    },
    "code_folding": [
     0
    ]
   },
   "outputs": [],
   "source": [
    "def remove_text_inside_brackets(text, brackets=\"<>\"):\n",
    "    count = [0] * (len(brackets) // 2) # count open/close brackets\n",
    "    saved_chars = []\n",
    "    for character in text:\n",
    "        for i, b in enumerate(brackets):\n",
    "            if character == b: # found bracket\n",
    "                kind, is_close = divmod(i, 2)\n",
    "                count[kind] += (-1)**is_close # `+1`: open, `-1`: close\n",
    "                if count[kind] < 0: # unbalanced bracket\n",
    "                    count[kind] = 0  # keep it\n",
    "                else:  # found bracket to remove\n",
    "                    break\n",
    "        else: # character is not a [balanced] bracket\n",
    "            if not any(count): # outside brackets\n",
    "                saved_chars.append(character)\n",
    "    return ''.join(saved_chars)"
   ]
  },
  {
   "cell_type": "code",
   "execution_count": 189,
   "metadata": {
    "ExecuteTime": {
     "end_time": "2020-02-03T18:54:11.881044Z",
     "start_time": "2020-02-03T18:54:11.876746Z"
    }
   },
   "outputs": [],
   "source": [
    "#ideally, replace </b> with ! to take advantage of vader tech emphasis tech\n",
    "\n",
    "smalltext = '''This was initially going to be four stars, but the last 100/150 pages were just so \n",
    "<b>un-deniably</b>\n",
    " amazing I couldn’t help but bump it up half a star. For my first few reads they’ve started off quite light, however within the first chapter this was \n",
    "<u>dark</u>\n",
    "! We got deaths and treachery, and I was \n",
    "<b>here for it/</b>'''\n",
    "re.replace(r'</b>','!',smalltext)\n",
    "\n",
    "    "
   ]
  },
  {
   "cell_type": "code",
   "execution_count": null,
   "metadata": {},
   "outputs": [],
   "source": []
  },
  {
   "cell_type": "code",
   "execution_count": null,
   "metadata": {},
   "outputs": [],
   "source": []
  },
  {
   "cell_type": "code",
   "execution_count": 184,
   "metadata": {
    "ExecuteTime": {
     "end_time": "2020-02-03T18:50:27.097095Z",
     "start_time": "2020-02-03T18:50:27.086355Z"
    },
    "code_folding": [
     0
    ]
   },
   "outputs": [],
   "source": []
  },
  {
   "cell_type": "code",
   "execution_count": 185,
   "metadata": {
    "ExecuteTime": {
     "end_time": "2020-02-03T18:50:30.516829Z",
     "start_time": "2020-02-03T18:50:30.509627Z"
    }
   },
   "outputs": [],
   "source": [
    "slc = [str(i) for i in lc]"
   ]
  },
  {
   "cell_type": "code",
   "execution_count": 192,
   "metadata": {
    "ExecuteTime": {
     "end_time": "2020-02-03T18:57:01.973203Z",
     "start_time": "2020-02-03T18:57:01.963565Z"
    }
   },
   "outputs": [
    {
     "data": {
      "text/plain": [
       "1"
      ]
     },
     "execution_count": 192,
     "metadata": {},
     "output_type": "execute_result"
    }
   ],
   "source": [
    "len(text)"
   ]
  },
  {
   "cell_type": "code",
   "execution_count": 193,
   "metadata": {
    "ExecuteTime": {
     "end_time": "2020-02-03T18:57:25.171233Z",
     "start_time": "2020-02-03T18:57:25.155113Z"
    }
   },
   "outputs": [],
   "source": [
    "text = testsoup.find_all(class_ = \"readable\")\n",
    "l = text[0].contents # possible breakpoint, what is at the other text locations?\n",
    "lchildren = [i for i in l[3].children]\n",
    "\n",
    "strlchildren = [str(i) for i in lchildren]\n",
    "seperator = ' '\n",
    "bigstring = seperator.join(strlchildren)\n",
    "review_nlp_document = remove_text_inside_brackets(bigstring)"
   ]
  },
  {
   "cell_type": "code",
   "execution_count": 194,
   "metadata": {
    "ExecuteTime": {
     "end_time": "2020-02-03T18:57:50.916245Z",
     "start_time": "2020-02-03T18:57:50.906715Z"
    }
   },
   "outputs": [
    {
     "name": "stdout",
     "output_type": "stream",
     "text": [
      "text holds this many items: 1\n"
     ]
    }
   ],
   "source": [
    "print('text holds this many items: '+ str(len(text)))"
   ]
  },
  {
   "cell_type": "code",
   "execution_count": 198,
   "metadata": {
    "ExecuteTime": {
     "end_time": "2020-02-03T19:06:40.570944Z",
     "start_time": "2020-02-03T19:06:40.539533Z"
    }
   },
   "outputs": [
    {
     "ename": "IndexError",
     "evalue": "list index out of range",
     "output_type": "error",
     "traceback": [
      "\u001b[0;31m---------------------------------------------------------------------------\u001b[0m",
      "\u001b[0;31mIndexError\u001b[0m                                Traceback (most recent call last)",
      "\u001b[0;32m<ipython-input-198-87aedc001460>\u001b[0m in \u001b[0;36m<module>\u001b[0;34m\u001b[0m\n\u001b[1;32m      8\u001b[0m     \u001b[0mtext\u001b[0m \u001b[0;34m=\u001b[0m \u001b[0msoup\u001b[0m\u001b[0;34m.\u001b[0m\u001b[0mfind_all\u001b[0m\u001b[0;34m(\u001b[0m\u001b[0mclass_\u001b[0m \u001b[0;34m=\u001b[0m \u001b[0;34m\"readable\"\u001b[0m\u001b[0;34m)\u001b[0m\u001b[0;34m\u001b[0m\u001b[0;34m\u001b[0m\u001b[0m\n\u001b[1;32m      9\u001b[0m     \u001b[0ml\u001b[0m \u001b[0;34m=\u001b[0m \u001b[0mtext\u001b[0m\u001b[0;34m[\u001b[0m\u001b[0;36m0\u001b[0m\u001b[0;34m]\u001b[0m\u001b[0;34m.\u001b[0m\u001b[0mcontents\u001b[0m \u001b[0;31m# possible breakpoint, what is at the other text locations?\u001b[0m\u001b[0;34m\u001b[0m\u001b[0;34m\u001b[0m\u001b[0m\n\u001b[0;32m---> 10\u001b[0;31m     \u001b[0mlchildren\u001b[0m \u001b[0;34m=\u001b[0m \u001b[0;34m[\u001b[0m\u001b[0mi\u001b[0m \u001b[0;32mfor\u001b[0m \u001b[0mi\u001b[0m \u001b[0;32min\u001b[0m \u001b[0ml\u001b[0m\u001b[0;34m[\u001b[0m\u001b[0;36m3\u001b[0m\u001b[0;34m]\u001b[0m\u001b[0;34m.\u001b[0m\u001b[0mchildren\u001b[0m\u001b[0;34m]\u001b[0m\u001b[0;34m\u001b[0m\u001b[0;34m\u001b[0m\u001b[0m\n\u001b[0m\u001b[1;32m     11\u001b[0m \u001b[0;34m\u001b[0m\u001b[0m\n\u001b[1;32m     12\u001b[0m     \u001b[0mstrlchildren\u001b[0m \u001b[0;34m=\u001b[0m \u001b[0;34m[\u001b[0m\u001b[0mstr\u001b[0m\u001b[0;34m(\u001b[0m\u001b[0mi\u001b[0m\u001b[0;34m)\u001b[0m \u001b[0;32mfor\u001b[0m \u001b[0mi\u001b[0m \u001b[0;32min\u001b[0m \u001b[0mlchildren\u001b[0m\u001b[0;34m]\u001b[0m\u001b[0;34m\u001b[0m\u001b[0;34m\u001b[0m\u001b[0m\n",
      "\u001b[0;31mIndexError\u001b[0m: list index out of range"
     ]
    }
   ],
   "source": [
    "test = documents[498:500]\n",
    "\n",
    "##make this thing create a whole bunch of things in a loop from documents\n",
    "all_reviews = []\n",
    "for i in test:\n",
    "    breakpoint = documents.index(i) ##will show me where this thing breaks\n",
    "    soup = BeautifulSoup(i['reviews'], 'html.parser')\n",
    "    text = soup.find_all(class_ = \"readable\")\n",
    "    l = text[0].contents # possible breakpoint, what is at the other text locations?\n",
    "    lchildren = [i for i in l[3].children]\n",
    "\n",
    "    strlchildren = [str(i) for i in lchildren]\n",
    "    seperator = ' '\n",
    "    bigstring = seperator.join(strlchildren)\n",
    "    review_nlp_document = remove_text_inside_brackets(bigstring)\n",
    "    all_reviews.append(review_nlp_document)"
   ]
  },
  {
   "cell_type": "code",
   "execution_count": 200,
   "metadata": {
    "ExecuteTime": {
     "end_time": "2020-02-03T19:07:11.090358Z",
     "start_time": "2020-02-03T19:07:11.083193Z"
    }
   },
   "outputs": [
    {
     "data": {
      "text/plain": [
       "[<span class=\"readable\" id=\"reviewTextContainer388324260\">\n",
       " <span id=\"freeTextContainer12062068264074714425\">Harry Potter changed my life. If I hadn’t read Harry Potter when I did I would not be the same person today. What I am today, in a part is due to Harry. I cannot really say enough to make you understand how much Harry Potter means to me.</span>\n",
       " </span>]"
      ]
     },
     "execution_count": 200,
     "metadata": {},
     "output_type": "execute_result"
    }
   ],
   "source": [
    "text"
   ]
  },
  {
   "cell_type": "code",
   "execution_count": 201,
   "metadata": {
    "ExecuteTime": {
     "end_time": "2020-02-03T19:07:38.898209Z",
     "start_time": "2020-02-03T19:07:38.762799Z"
    }
   },
   "outputs": [
    {
     "name": "stdout",
     "output_type": "stream",
     "text": [
      "/home/robert/Assignments/Predictotron/src\r\n"
     ]
    }
   ],
   "source": [
    "!pwd\n"
   ]
  },
  {
   "cell_type": "code",
   "execution_count": null,
   "metadata": {},
   "outputs": [],
   "source": [
    "    "
   ]
  }
 ],
 "metadata": {
  "kernelspec": {
   "display_name": "Python 3.7.4 64-bit ('anaconda3': virtualenv)",
   "language": "python",
   "name": "python37464bitanaconda3virtualenv4689841a946143dd80c9fcc86c644564"
  },
  "language_info": {
   "codemirror_mode": {
    "name": "ipython",
    "version": 3
   },
   "file_extension": ".py",
   "mimetype": "text/x-python",
   "name": "python",
   "nbconvert_exporter": "python",
   "pygments_lexer": "ipython3",
   "version": "3.7.4"
  }
 },
 "nbformat": 4,
 "nbformat_minor": 2
}
