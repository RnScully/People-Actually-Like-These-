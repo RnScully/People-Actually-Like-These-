{
 "cells": [
  {
   "cell_type": "code",
   "execution_count": 49,
   "metadata": {
    "ExecuteTime": {
     "end_time": "2020-02-04T00:55:50.095730Z",
     "start_time": "2020-02-04T00:55:50.077923Z"
    }
   },
   "outputs": [],
   "source": [
    "import numpy as np\n",
    "\n",
    "import nltk\n",
    "\n",
    "import spacy\n",
    "from spacy_langdetect import LanguageDetector"
   ]
  },
  {
   "cell_type": "code",
   "execution_count": 41,
   "metadata": {
    "ExecuteTime": {
     "end_time": "2020-02-04T00:39:47.442670Z",
     "start_time": "2020-02-04T00:39:47.432352Z"
    },
    "code_folding": [
     3
    ]
   },
   "outputs": [],
   "source": [
    "import time, sys\n",
    "from IPython.display import clear_output\n",
    "\n",
    "def update_progress(progress):\n",
    "    bar_length = 20\n",
    "    if isinstance(progress, int):\n",
    "        progress = float(progress)\n",
    "    if not isinstance(progress, float):\n",
    "        progress = 0\n",
    "    if progress < 0:\n",
    "        progress = 0\n",
    "    if progress >= 1:\n",
    "        progress = 1\n",
    "\n",
    "    block = int(round(bar_length * progress))\n",
    "\n",
    "    clear_output(wait = True)\n",
    "    text = \"Progress: [{0}] {1:.1f}%\".format( \"#\" * block + \"-\" * (bar_length - block), progress * 100)\n",
    "    print(text)\n"
   ]
  },
  {
   "cell_type": "code",
   "execution_count": null,
   "metadata": {
    "ExecuteTime": {
     "end_time": "2020-02-04T00:24:51.714482Z",
     "start_time": "2020-02-04T00:24:51.561181Z"
    }
   },
   "outputs": [],
   "source": [
    "path = 'data/cleaned.npy'\n",
    "arr = np.load(path, allow_pickle = True)"
   ]
  },
  {
   "cell_type": "code",
   "execution_count": 7,
   "metadata": {
    "ExecuteTime": {
     "end_time": "2020-02-04T00:24:59.733003Z",
     "start_time": "2020-02-04T00:24:59.707042Z"
    }
   },
   "outputs": [
    {
     "data": {
      "text/plain": [
       "(40627, 4)"
      ]
     },
     "execution_count": 7,
     "metadata": {},
     "output_type": "execute_result"
    }
   ],
   "source": [
    "arr.shape"
   ]
  },
  {
   "cell_type": "code",
   "execution_count": 20,
   "metadata": {
    "ExecuteTime": {
     "end_time": "2020-02-04T00:29:11.485082Z",
     "start_time": "2020-02-04T00:29:11.477675Z"
    }
   },
   "outputs": [],
   "source": [
    "words = arr[:,3]"
   ]
  },
  {
   "cell_type": "code",
   "execution_count": 63,
   "metadata": {
    "ExecuteTime": {
     "end_time": "2020-02-04T01:40:33.297279Z",
     "start_time": "2020-02-04T01:10:47.397907Z"
    }
   },
   "outputs": [
    {
     "name": "stdout",
     "output_type": "stream",
     "text": [
      "Progress: [####################] 100.0%\n"
     ]
    }
   ],
   "source": [
    "nlp = spacy.load(\"en\")\n",
    "nlp.add_pipe(LanguageDetector(), name=\"language_detector\", last=True)\n",
    "\n",
    "lang = []\n",
    "for idx, w in enumerate(words):\n",
    "    if len(w)<4:\n",
    "        lang.append(-1)\n",
    "    else:\n",
    "        doc = nlp(w)\n",
    "        lang.append(doc._.language['language'])\n",
    "    progress_bar = idx\n",
    "    update_progress((idx+1) / len(words))\n",
    "    \n",
    "\n",
    "\n"
   ]
  },
  {
   "cell_type": "code",
   "execution_count": 65,
   "metadata": {
    "ExecuteTime": {
     "end_time": "2020-02-04T01:40:49.967456Z",
     "start_time": "2020-02-04T01:40:49.958069Z"
    }
   },
   "outputs": [
    {
     "data": {
      "text/plain": [
       "40627"
      ]
     },
     "execution_count": 65,
     "metadata": {},
     "output_type": "execute_result"
    }
   ],
   "source": [
    "len(words)"
   ]
  },
  {
   "cell_type": "code",
   "execution_count": 72,
   "metadata": {
    "ExecuteTime": {
     "end_time": "2020-02-04T01:43:05.976726Z",
     "start_time": "2020-02-04T01:43:05.952689Z"
    }
   },
   "outputs": [],
   "source": [
    "l =np.array(lang)\n",
    "l.shape\n",
    "l =l.reshape(-1,1)"
   ]
  },
  {
   "cell_type": "code",
   "execution_count": 77,
   "metadata": {
    "ExecuteTime": {
     "end_time": "2020-02-04T01:44:49.637822Z",
     "start_time": "2020-02-04T01:44:49.612539Z"
    }
   },
   "outputs": [],
   "source": [
    "arr2 = np.concatenate((arr,l), axis = 1 )"
   ]
  },
  {
   "cell_type": "code",
   "execution_count": 78,
   "metadata": {
    "ExecuteTime": {
     "end_time": "2020-02-04T01:44:54.281794Z",
     "start_time": "2020-02-04T01:44:54.267251Z"
    }
   },
   "outputs": [
    {
     "data": {
      "text/plain": [
       "(40627, 5)"
      ]
     },
     "execution_count": 78,
     "metadata": {},
     "output_type": "execute_result"
    }
   ],
   "source": [
    "arr2.shape"
   ]
  },
  {
   "cell_type": "code",
   "execution_count": 81,
   "metadata": {
    "ExecuteTime": {
     "end_time": "2020-02-04T01:45:10.556428Z",
     "start_time": "2020-02-04T01:45:10.540161Z"
    }
   },
   "outputs": [
    {
     "data": {
      "text/plain": [
       "array([5, '1927303-mary', ('Paperback 9781435756342',),\n",
       "       'Live love laugh a Lot is a special book.Interesting characters make you laugh- you must take a look.Voicing their opinions in humorous forms moving line by line.Entertaining to such an extent- you must take your time.Love the way Jacquelyn speaks through Sly Fox.Over and over you have to laugh as he comes out of his box.Very sly he tries to be from behind his cloth.Excitement on each page you must laugh a lot.Laughter rings out as Ingrid does her stuff.A woman who could finally say, “Enough is Enough”.Use me Lord Jacquelyn says on page fifty-eight.God’s blessings comes in many ways Jacquelyn points out to us.Honesty and humor you will find within these pages so much.A great read and must for every home.Live Love Laugh a lotOh how humorousThis book is written by Jacquelyn Sturge ',\n",
       "       'en'], dtype=object)"
      ]
     },
     "execution_count": 81,
     "metadata": {},
     "output_type": "execute_result"
    }
   ],
   "source": [
    "arr2[3]"
   ]
  },
  {
   "cell_type": "code",
   "execution_count": 82,
   "metadata": {
    "ExecuteTime": {
     "end_time": "2020-02-04T01:45:53.749812Z",
     "start_time": "2020-02-04T01:45:53.604960Z"
    }
   },
   "outputs": [],
   "source": [
    "np.save(\"data/clean_and_lang\", arr2) ## might need to do a mongo thing\n"
   ]
  },
  {
   "cell_type": "code",
   "execution_count": 83,
   "metadata": {
    "ExecuteTime": {
     "end_time": "2020-02-04T14:25:35.187009Z",
     "start_time": "2020-02-04T14:25:35.182039Z"
    }
   },
   "outputs": [
    {
     "data": {
      "text/plain": [
       "(40627, 5)"
      ]
     },
     "execution_count": 83,
     "metadata": {},
     "output_type": "execute_result"
    }
   ],
   "source": []
  },
  {
   "cell_type": "code",
   "execution_count": 86,
   "metadata": {
    "ExecuteTime": {
     "end_time": "2020-02-04T14:26:16.753468Z",
     "start_time": "2020-02-04T14:26:16.741988Z"
    }
   },
   "outputs": [
    {
     "data": {
      "text/plain": [
       "array(['de', 'en', 'it', ..., 'en', 'en', 'en'], dtype=object)"
      ]
     },
     "execution_count": 86,
     "metadata": {},
     "output_type": "execute_result"
    }
   ],
   "source": []
  },
  {
   "cell_type": "code",
   "execution_count": 89,
   "metadata": {
    "ExecuteTime": {
     "end_time": "2020-02-04T14:28:36.498208Z",
     "start_time": "2020-02-04T14:28:36.475591Z"
    }
   },
   "outputs": [],
   "source": [
    "u_languages, lang_counts  = np.unique(lang, return_counts = True)"
   ]
  },
  {
   "cell_type": "markdown",
   "metadata": {},
   "source": [
    "#### get breakdown of the languages in the set"
   ]
  },
  {
   "cell_type": "code",
   "execution_count": 159,
   "metadata": {
    "ExecuteTime": {
     "end_time": "2020-02-04T15:13:44.543880Z",
     "start_time": "2020-02-04T15:13:44.503688Z"
    }
   },
   "outputs": [],
   "source": [
    "u_languages, lang_counts  = np.unique(lang, return_counts = True)\n",
    "breakdown = [i for i in zip(u_languages, lang_counts)]\n",
    "breakdown.sort(key = lambda t: t[1], reverse = True)\n",
    "\n",
    "add = 0\n",
    "for items in breakdown:\n",
    "    add += items[1]\n",
    "\n",
    "# breakdown"
   ]
  },
  {
   "cell_type": "code",
   "execution_count": 211,
   "metadata": {
    "ExecuteTime": {
     "end_time": "2020-02-04T15:48:08.749510Z",
     "start_time": "2020-02-04T15:48:08.720924Z"
    }
   },
   "outputs": [
    {
     "data": {
      "text/plain": [
       "(39644, 5)"
      ]
     },
     "execution_count": 211,
     "metadata": {},
     "output_type": "execute_result"
    }
   ],
   "source": [
    "lang = arr2[:,-1]\n",
    "lang.reshape(-1,1)\n",
    "mask = np.array([True if i == 'en' else False for i in lang])\n",
    "english = arr2[mask]\n",
    "english.shape\n",
    "#  english[0]"
   ]
  },
  {
   "cell_type": "code",
   "execution_count": 157,
   "metadata": {
    "ExecuteTime": {
     "end_time": "2020-02-04T15:13:09.703669Z",
     "start_time": "2020-02-04T15:13:09.695661Z"
    }
   },
   "outputs": [
    {
     "data": {
      "text/plain": [
       "0.9758042680975706"
      ]
     },
     "execution_count": 157,
     "metadata": {},
     "output_type": "execute_result"
    }
   ],
   "source": [
    "percent_english = english.shape[0]/arr.shape[0]\n",
    "percent_english"
   ]
  },
  {
   "cell_type": "markdown",
   "metadata": {
    "ExecuteTime": {
     "end_time": "2020-02-04T14:48:44.787309Z",
     "start_time": "2020-02-04T14:48:44.775525Z"
    }
   },
   "source": [
    "### Sort the reviews into star buckets"
   ]
  },
  {
   "cell_type": "code",
   "execution_count": 161,
   "metadata": {
    "ExecuteTime": {
     "end_time": "2020-02-04T15:14:39.188545Z",
     "start_time": "2020-02-04T15:14:39.173997Z"
    }
   },
   "outputs": [
    {
     "data": {
      "text/plain": [
       "array([5, '2009689-christina-jussaume', ('Paperback 9781435756342',),\n",
       "       \"Live, laugh, Love A LotJay’s limericks are entertainingYour smile will stay on face remainingPastor series is greatYou will appreciateReading muse you’ll not be complainingShe writes with humor on many thingsLoud hysterical laughter she bringsYour spirit she’ll raise highYou’ll read and often sigh She wrote with humor of wedding rings Humor brings out positive effectShe does write on many a subjectShe will enlighten youWords from her soul are trueShe will tell you smile as not perfectHer book I would highly recommendI think I’ll read it over againIt has beat that’s uniqueGet copy and take peekIt can be enjoyed like a best friend By Christina R Jussaume copyright 2009*This is a series of limericks for Jacqueline Sturge's first book__________________\",\n",
       "       'en'], dtype=object)"
      ]
     },
     "execution_count": 161,
     "metadata": {},
     "output_type": "execute_result"
    }
   ],
   "source": [
    "english[2]"
   ]
  },
  {
   "cell_type": "code",
   "execution_count": 204,
   "metadata": {
    "ExecuteTime": {
     "end_time": "2020-02-04T15:46:52.932878Z",
     "start_time": "2020-02-04T15:46:52.922688Z"
    }
   },
   "outputs": [
    {
     "data": {
      "text/plain": [
       "(39644, 5)"
      ]
     },
     "execution_count": 204,
     "metadata": {},
     "output_type": "execute_result"
    }
   ],
   "source": [
    "english[:0,0:-1]\n",
    "english.shape"
   ]
  },
  {
   "cell_type": "code",
   "execution_count": 216,
   "metadata": {
    "ExecuteTime": {
     "end_time": "2020-02-04T15:49:44.568999Z",
     "start_time": "2020-02-04T15:49:44.557875Z"
    }
   },
   "outputs": [
    {
     "data": {
      "text/plain": [
       "(39644,)"
      ]
     },
     "execution_count": 216,
     "metadata": {},
     "output_type": "execute_result"
    }
   ],
   "source": [
    "ratings = english[:, 0]\n",
    "ratings.shape"
   ]
  },
  {
   "cell_type": "code",
   "execution_count": 221,
   "metadata": {
    "ExecuteTime": {
     "end_time": "2020-02-04T15:52:22.569962Z",
     "start_time": "2020-02-04T15:52:22.524656Z"
    }
   },
   "outputs": [],
   "source": [
    "rnot_rated_mask = r2_mask = np.array([True if i == -1 else False for i in ratings])\n",
    "r1_mask = np.array([True if i == 1 else False for i in ratings])\n",
    "r2_mask = np.array([True if i == 2 else False for i in ratings])\n",
    "r3_mask = np.array([True if i == 3 else False for i in ratings])\n",
    "r4_mask = np.array([True if i == 4 else False for i in ratings])\n",
    "r5_mask = np.array([True if i == 5 else False for i in ratings])"
   ]
  },
  {
   "cell_type": "code",
   "execution_count": 220,
   "metadata": {
    "ExecuteTime": {
     "end_time": "2020-02-04T15:50:28.057696Z",
     "start_time": "2020-02-04T15:50:28.050700Z"
    }
   },
   "outputs": [
    {
     "data": {
      "text/plain": [
       "array([[False],\n",
       "       [False],\n",
       "       [False],\n",
       "       ...,\n",
       "       [False],\n",
       "       [False],\n",
       "       [False]])"
      ]
     },
     "execution_count": 220,
     "metadata": {},
     "output_type": "execute_result"
    }
   ],
   "source": [
    "r1_mask.reshape(-1,1"
   ]
  },
  {
   "cell_type": "code",
   "execution_count": 222,
   "metadata": {
    "ExecuteTime": {
     "end_time": "2020-02-04T15:52:30.611893Z",
     "start_time": "2020-02-04T15:52:30.593676Z"
    }
   },
   "outputs": [
    {
     "ename": "IndexError",
     "evalue": "boolean index did not match indexed array along dimension 1; dimension is 5 but corresponding boolean dimension is 1",
     "output_type": "error",
     "traceback": [
      "\u001b[0;31m---------------------------------------------------------------------------\u001b[0m",
      "\u001b[0;31mIndexError\u001b[0m                                Traceback (most recent call last)",
      "\u001b[0;32m<ipython-input-222-fab382f91490>\u001b[0m in \u001b[0;36m<module>\u001b[0;34m\u001b[0m\n\u001b[0;32m----> 1\u001b[0;31m \u001b[0mrated_1\u001b[0m \u001b[0;34m=\u001b[0m \u001b[0menglish\u001b[0m\u001b[0;34m[\u001b[0m\u001b[0mr1_mask\u001b[0m\u001b[0;34m]\u001b[0m\u001b[0;34m\u001b[0m\u001b[0;34m\u001b[0m\u001b[0m\n\u001b[0m",
      "\u001b[0;31mIndexError\u001b[0m: boolean index did not match indexed array along dimension 1; dimension is 5 but corresponding boolean dimension is 1"
     ]
    }
   ],
   "source": [
    "rated_1 = english[r1_mask.reshape(-1,1)]\n"
   ]
  },
  {
   "cell_type": "code",
   "execution_count": 191,
   "metadata": {
    "ExecuteTime": {
     "end_time": "2020-02-04T15:44:18.160546Z",
     "start_time": "2020-02-04T15:44:18.147491Z"
    }
   },
   "outputs": [
    {
     "data": {
      "text/plain": [
       "array([[False],\n",
       "       [False],\n",
       "       [False],\n",
       "       ...,\n",
       "       [False],\n",
       "       [False],\n",
       "       [False]])"
      ]
     },
     "execution_count": 191,
     "metadata": {},
     "output_type": "execute_result"
    }
   ],
   "source": [
    "r1_mask.reshape(-1,1)"
   ]
  },
  {
   "cell_type": "code",
   "execution_count": null,
   "metadata": {},
   "outputs": [],
   "source": []
  }
 ],
 "metadata": {
  "kernelspec": {
   "display_name": "Python 3.7.4 64-bit ('anaconda3': virtualenv)",
   "language": "python",
   "name": "python37464bitanaconda3virtualenv4689841a946143dd80c9fcc86c644564"
  },
  "language_info": {
   "codemirror_mode": {
    "name": "ipython",
    "version": 3
   },
   "file_extension": ".py",
   "mimetype": "text/x-python",
   "name": "python",
   "nbconvert_exporter": "python",
   "pygments_lexer": "ipython3",
   "version": "3.7.4"
  }
 },
 "nbformat": 4,
 "nbformat_minor": 2
}
