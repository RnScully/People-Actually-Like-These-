{
 "cells": [
  {
   "cell_type": "code",
   "execution_count": 267,
   "metadata": {
    "ExecuteTime": {
     "end_time": "2020-02-04T16:42:09.861167Z",
     "start_time": "2020-02-04T16:42:09.804208Z"
    }
   },
   "outputs": [],
   "source": [
    "import numpy as np\n",
    "\n",
    "import matplotlib.pyplot as plt\n",
    "\n",
    "import nltk\n",
    "\n",
    "import spacy\n",
    "from spacy_langdetect import LanguageDetector\n",
    "\n",
    "from sklearn.ensemble import RandomForestClassifier\n",
    "from sklearn.feature_extraction.text import TfidfVectorizer\n",
    "\n",
    "import nltk\n",
    "from nltk.corpus import stopwords\n",
    "from nltk.stem.wordnet import WordNetLemmatizer\n",
    "from nltk.stem.snowball import SnowballStemmer"
   ]
  },
  {
   "cell_type": "code",
   "execution_count": 254,
   "metadata": {
    "ExecuteTime": {
     "end_time": "2020-02-04T16:32:16.720232Z",
     "start_time": "2020-02-04T16:32:16.702672Z"
    },
    "code_folding": [
     3
    ]
   },
   "outputs": [
    {
     "data": {
      "text/html": [
       "<style>.container { width:100% !important; }</style>"
      ],
      "text/plain": [
       "<IPython.core.display.HTML object>"
      ]
     },
     "metadata": {},
     "output_type": "display_data"
    }
   ],
   "source": [
    "from IPython.core.display import display, HTML\n",
    "display(HTML(\"<style>.container { width:100% !important; }</style>\"))\n",
    "\n",
    "import time, sys\n",
    "from IPython.display import clear_output\n",
    "\n",
    "def update_progress(progress):\n",
    "    bar_length = 20\n",
    "    if isinstance(progress, int):\n",
    "        progress = float(progress)\n",
    "    if not isinstance(progress, float):\n",
    "        progress = 0\n",
    "    if progress < 0:\n",
    "        progress = 0\n",
    "    if progress >= 1:\n",
    "        progress = 1\n",
    "\n",
    "    block = int(round(bar_length * progress))\n",
    "\n",
    "    clear_output(wait = True)\n",
    "    text = \"Progress: [{0}] {1:.1f}%\".format( \"#\" * block + \"-\" * (bar_length - block), progress * 100)\n",
    "    print(text)\n"
   ]
  },
  {
   "cell_type": "code",
   "execution_count": null,
   "metadata": {
    "ExecuteTime": {
     "end_time": "2020-02-04T00:24:51.714482Z",
     "start_time": "2020-02-04T00:24:51.561181Z"
    }
   },
   "outputs": [],
   "source": [
    "path = 'data/cleaned.npy'\n",
    "arr = np.load(path, allow_pickle = True)"
   ]
  },
  {
   "cell_type": "code",
   "execution_count": 7,
   "metadata": {
    "ExecuteTime": {
     "end_time": "2020-02-04T00:24:59.733003Z",
     "start_time": "2020-02-04T00:24:59.707042Z"
    }
   },
   "outputs": [
    {
     "data": {
      "text/plain": [
       "(40627, 4)"
      ]
     },
     "execution_count": 7,
     "metadata": {},
     "output_type": "execute_result"
    }
   ],
   "source": [
    "arr.shape"
   ]
  },
  {
   "cell_type": "code",
   "execution_count": 20,
   "metadata": {
    "ExecuteTime": {
     "end_time": "2020-02-04T00:29:11.485082Z",
     "start_time": "2020-02-04T00:29:11.477675Z"
    }
   },
   "outputs": [],
   "source": [
    "words = arr[:,3]"
   ]
  },
  {
   "cell_type": "code",
   "execution_count": 63,
   "metadata": {
    "ExecuteTime": {
     "end_time": "2020-02-04T01:40:33.297279Z",
     "start_time": "2020-02-04T01:10:47.397907Z"
    }
   },
   "outputs": [
    {
     "name": "stdout",
     "output_type": "stream",
     "text": [
      "Progress: [####################] 100.0%\n"
     ]
    }
   ],
   "source": [
    "nlp = spacy.load(\"en\")\n",
    "nlp.add_pipe(LanguageDetector(), name=\"language_detector\", last=True)\n",
    "\n",
    "lang = []\n",
    "for idx, w in enumerate(words):\n",
    "    if len(w)<4:\n",
    "        lang.append(-1)\n",
    "    else:\n",
    "        doc = nlp(w)\n",
    "        lang.append(doc._.language['language'])\n",
    "    progress_bar = idx\n",
    "    update_progress((idx+1) / len(words))\n",
    "    \n",
    "\n",
    "\n"
   ]
  },
  {
   "cell_type": "code",
   "execution_count": 65,
   "metadata": {
    "ExecuteTime": {
     "end_time": "2020-02-04T01:40:49.967456Z",
     "start_time": "2020-02-04T01:40:49.958069Z"
    }
   },
   "outputs": [
    {
     "data": {
      "text/plain": [
       "40627"
      ]
     },
     "execution_count": 65,
     "metadata": {},
     "output_type": "execute_result"
    }
   ],
   "source": [
    "len(words)"
   ]
  },
  {
   "cell_type": "code",
   "execution_count": 72,
   "metadata": {
    "ExecuteTime": {
     "end_time": "2020-02-04T01:43:05.976726Z",
     "start_time": "2020-02-04T01:43:05.952689Z"
    }
   },
   "outputs": [],
   "source": [
    "l =np.array(lang)\n",
    "l.shape\n",
    "l =l.reshape(-1,1)"
   ]
  },
  {
   "cell_type": "code",
   "execution_count": 77,
   "metadata": {
    "ExecuteTime": {
     "end_time": "2020-02-04T01:44:49.637822Z",
     "start_time": "2020-02-04T01:44:49.612539Z"
    }
   },
   "outputs": [],
   "source": [
    "arr2 = np.concatenate((arr,l), axis = 1 )"
   ]
  },
  {
   "cell_type": "code",
   "execution_count": 78,
   "metadata": {
    "ExecuteTime": {
     "end_time": "2020-02-04T01:44:54.281794Z",
     "start_time": "2020-02-04T01:44:54.267251Z"
    }
   },
   "outputs": [
    {
     "data": {
      "text/plain": [
       "(40627, 5)"
      ]
     },
     "execution_count": 78,
     "metadata": {},
     "output_type": "execute_result"
    }
   ],
   "source": [
    "arr2.shape"
   ]
  },
  {
   "cell_type": "code",
   "execution_count": 81,
   "metadata": {
    "ExecuteTime": {
     "end_time": "2020-02-04T01:45:10.556428Z",
     "start_time": "2020-02-04T01:45:10.540161Z"
    }
   },
   "outputs": [
    {
     "data": {
      "text/plain": [
       "array([5, '1927303-mary', ('Paperback 9781435756342',),\n",
       "       'Live love laugh a Lot is a special book.Interesting characters make you laugh- you must take a look.Voicing their opinions in humorous forms moving line by line.Entertaining to such an extent- you must take your time.Love the way Jacquelyn speaks through Sly Fox.Over and over you have to laugh as he comes out of his box.Very sly he tries to be from behind his cloth.Excitement on each page you must laugh a lot.Laughter rings out as Ingrid does her stuff.A woman who could finally say, “Enough is Enough”.Use me Lord Jacquelyn says on page fifty-eight.God’s blessings comes in many ways Jacquelyn points out to us.Honesty and humor you will find within these pages so much.A great read and must for every home.Live Love Laugh a lotOh how humorousThis book is written by Jacquelyn Sturge ',\n",
       "       'en'], dtype=object)"
      ]
     },
     "execution_count": 81,
     "metadata": {},
     "output_type": "execute_result"
    }
   ],
   "source": [
    "arr2[3]"
   ]
  },
  {
   "cell_type": "code",
   "execution_count": 82,
   "metadata": {
    "ExecuteTime": {
     "end_time": "2020-02-04T01:45:53.749812Z",
     "start_time": "2020-02-04T01:45:53.604960Z"
    }
   },
   "outputs": [],
   "source": [
    "np.save(\"data/clean_and_lang\", arr2) ## might need to do a mongo thing\n"
   ]
  },
  {
   "cell_type": "code",
   "execution_count": 83,
   "metadata": {
    "ExecuteTime": {
     "end_time": "2020-02-04T14:25:35.187009Z",
     "start_time": "2020-02-04T14:25:35.182039Z"
    }
   },
   "outputs": [
    {
     "data": {
      "text/plain": [
       "(40627, 5)"
      ]
     },
     "execution_count": 83,
     "metadata": {},
     "output_type": "execute_result"
    }
   ],
   "source": []
  },
  {
   "cell_type": "code",
   "execution_count": 86,
   "metadata": {
    "ExecuteTime": {
     "end_time": "2020-02-04T14:26:16.753468Z",
     "start_time": "2020-02-04T14:26:16.741988Z"
    }
   },
   "outputs": [
    {
     "data": {
      "text/plain": [
       "array(['de', 'en', 'it', ..., 'en', 'en', 'en'], dtype=object)"
      ]
     },
     "execution_count": 86,
     "metadata": {},
     "output_type": "execute_result"
    }
   ],
   "source": []
  },
  {
   "cell_type": "code",
   "execution_count": 89,
   "metadata": {
    "ExecuteTime": {
     "end_time": "2020-02-04T14:28:36.498208Z",
     "start_time": "2020-02-04T14:28:36.475591Z"
    }
   },
   "outputs": [],
   "source": [
    "u_languages, lang_counts  = np.unique(lang, return_counts = True)"
   ]
  },
  {
   "cell_type": "markdown",
   "metadata": {},
   "source": [
    "#### get breakdown of the languages in the set"
   ]
  },
  {
   "cell_type": "code",
   "execution_count": 159,
   "metadata": {
    "ExecuteTime": {
     "end_time": "2020-02-04T15:13:44.543880Z",
     "start_time": "2020-02-04T15:13:44.503688Z"
    }
   },
   "outputs": [],
   "source": [
    "u_languages, lang_counts  = np.unique(lang, return_counts = True)\n",
    "breakdown = [i for i in zip(u_languages, lang_counts)]\n",
    "breakdown.sort(key = lambda t: t[1], reverse = True)\n",
    "\n",
    "add = 0\n",
    "for items in breakdown:\n",
    "    add += items[1]\n",
    "\n",
    "# breakdown"
   ]
  },
  {
   "cell_type": "code",
   "execution_count": 211,
   "metadata": {
    "ExecuteTime": {
     "end_time": "2020-02-04T15:48:08.749510Z",
     "start_time": "2020-02-04T15:48:08.720924Z"
    }
   },
   "outputs": [
    {
     "data": {
      "text/plain": [
       "(39644, 5)"
      ]
     },
     "execution_count": 211,
     "metadata": {},
     "output_type": "execute_result"
    }
   ],
   "source": [
    "lang = arr2[:,-1]\n",
    "lang.reshape(-1,1)\n",
    "mask = np.array([True if i == 'en' else False for i in lang])\n",
    "english = arr2[mask]\n",
    "english.shape\n",
    "#  english[0]"
   ]
  },
  {
   "cell_type": "code",
   "execution_count": 157,
   "metadata": {
    "ExecuteTime": {
     "end_time": "2020-02-04T15:13:09.703669Z",
     "start_time": "2020-02-04T15:13:09.695661Z"
    }
   },
   "outputs": [
    {
     "data": {
      "text/plain": [
       "0.9758042680975706"
      ]
     },
     "execution_count": 157,
     "metadata": {},
     "output_type": "execute_result"
    }
   ],
   "source": [
    "percent_english = english.shape[0]/arr.shape[0]\n",
    "percent_english"
   ]
  },
  {
   "cell_type": "markdown",
   "metadata": {
    "ExecuteTime": {
     "end_time": "2020-02-04T14:48:44.787309Z",
     "start_time": "2020-02-04T14:48:44.775525Z"
    }
   },
   "source": [
    "### Sort the reviews into star buckets"
   ]
  },
  {
   "cell_type": "code",
   "execution_count": 161,
   "metadata": {
    "ExecuteTime": {
     "end_time": "2020-02-04T15:14:39.188545Z",
     "start_time": "2020-02-04T15:14:39.173997Z"
    }
   },
   "outputs": [
    {
     "data": {
      "text/plain": [
       "array([5, '2009689-christina-jussaume', ('Paperback 9781435756342',),\n",
       "       \"Live, laugh, Love A LotJay’s limericks are entertainingYour smile will stay on face remainingPastor series is greatYou will appreciateReading muse you’ll not be complainingShe writes with humor on many thingsLoud hysterical laughter she bringsYour spirit she’ll raise highYou’ll read and often sigh She wrote with humor of wedding rings Humor brings out positive effectShe does write on many a subjectShe will enlighten youWords from her soul are trueShe will tell you smile as not perfectHer book I would highly recommendI think I’ll read it over againIt has beat that’s uniqueGet copy and take peekIt can be enjoyed like a best friend By Christina R Jussaume copyright 2009*This is a series of limericks for Jacqueline Sturge's first book__________________\",\n",
       "       'en'], dtype=object)"
      ]
     },
     "execution_count": 161,
     "metadata": {},
     "output_type": "execute_result"
    }
   ],
   "source": [
    "english[2]"
   ]
  },
  {
   "cell_type": "code",
   "execution_count": 204,
   "metadata": {
    "ExecuteTime": {
     "end_time": "2020-02-04T15:46:52.932878Z",
     "start_time": "2020-02-04T15:46:52.922688Z"
    }
   },
   "outputs": [
    {
     "data": {
      "text/plain": [
       "(39644, 5)"
      ]
     },
     "execution_count": 204,
     "metadata": {},
     "output_type": "execute_result"
    }
   ],
   "source": [
    "english[:0,0:-1]\n",
    "english.shape"
   ]
  },
  {
   "cell_type": "code",
   "execution_count": 216,
   "metadata": {
    "ExecuteTime": {
     "end_time": "2020-02-04T15:49:44.568999Z",
     "start_time": "2020-02-04T15:49:44.557875Z"
    }
   },
   "outputs": [
    {
     "data": {
      "text/plain": [
       "(39644,)"
      ]
     },
     "execution_count": 216,
     "metadata": {},
     "output_type": "execute_result"
    }
   ],
   "source": [
    "ratings = english[:, 0]\n",
    "ratings.shape"
   ]
  },
  {
   "cell_type": "code",
   "execution_count": 232,
   "metadata": {
    "ExecuteTime": {
     "end_time": "2020-02-04T16:11:23.897531Z",
     "start_time": "2020-02-04T16:11:23.845503Z"
    }
   },
   "outputs": [],
   "source": [
    "r  = np.array([True if i == -1 else False for i in ratings]).reshape(-1,1)\n",
    "rnot_rated_mask = np.concatenate((r, r, r, r,r), axis=1, out=None)\n",
    "\n",
    "r1 = np.array([True if i == 1 else False for i in ratings]).reshape(-1,1)\n",
    "r1_mask = np.concatenate((r1, r1, r1, r1,r1), axis=1, out=None)\n",
    "\n",
    "r2 = np.array([True if i == 2 else False for i in ratings]).reshape(-1,1)\n",
    "r2_mask = np.concatenate((r1, r1, r1, r1,r1), axis=1, out=None)\n",
    "\n",
    "r3 = np.array([True if i == 3 else False for i in ratings]).reshape(-1,1)\n",
    "r3_mask = np.concatenate((r1, r1, r1, r1,r1), axis=1, out=None)\n",
    "\n",
    "r4 = np.array([True if i == 4 else False for i in ratings]).reshape(-1,1)\n",
    "r4_mask = np.concatenate((r1, r1, r1, r1,r1), axis=1, out=None)\n",
    "\n",
    "r5 = np.array([True if i == 5 else False for i in ratings]).reshape(-1,1)\n",
    "r5_mask = np.concatenate((r1, r1, r1, r1,r1), axis=1, out=None)\n"
   ]
  },
  {
   "cell_type": "code",
   "execution_count": null,
   "metadata": {},
   "outputs": [],
   "source": []
  },
  {
   "cell_type": "code",
   "execution_count": 233,
   "metadata": {
    "ExecuteTime": {
     "end_time": "2020-02-04T16:12:32.536280Z",
     "start_time": "2020-02-04T16:12:32.518235Z"
    }
   },
   "outputs": [],
   "source": [
    "not_rated = english[rnot_rated_mask]\n",
    "rated_1 = english[r1_mask]\n",
    "rated_2 = english[r2_mask]\n",
    "rated_3 = english[r3_mask]\n",
    "rated_4 = english[r4_mask]\n",
    "rated_5 = english[r5_mask]"
   ]
  },
  {
   "cell_type": "code",
   "execution_count": 251,
   "metadata": {
    "ExecuteTime": {
     "end_time": "2020-02-04T16:16:52.488196Z",
     "start_time": "2020-02-04T16:16:52.333466Z"
    }
   },
   "outputs": [
    {
     "data": {
      "image/png": "[encoded data removed]",
      "text/plain": [
       "<Figure size 432x288 with 1 Axes>"
      ]
     },
     "metadata": {
      "needs_background": "light"
     },
     "output_type": "display_data"
    }
   ],
   "source": [
    "f, a = plt.subplots()\n",
    "a.hist(ratings, bins = 6)\n",
    "a.set_ylabel('number of ratings')\n",
    "a.set_xlabel('stars given')\n",
    "a.set_title('star ratings histograms')\n",
    "plt.show()"
   ]
  },
  {
   "cell_type": "code",
   "execution_count": 255,
   "metadata": {
    "ExecuteTime": {
     "end_time": "2020-02-04T16:33:42.412348Z",
     "start_time": "2020-02-04T16:33:42.402465Z"
    }
   },
   "outputs": [],
   "source": [
    "def text_to_tokens(one):\n",
    "    snowball = SnowballStemmer('english')\n",
    "    tokenized = one.lower().split()\n",
    "    e_stop = stopwords.words('english')\n",
    "    without_stopw = [snowball.stem(word) for word in tokenized if word not in e_stop]\n",
    "\n",
    "    return without_stopw"
   ]
  },
  {
   "cell_type": "code",
   "execution_count": 282,
   "metadata": {
    "ExecuteTime": {
     "end_time": "2020-02-04T16:53:34.353070Z",
     "start_time": "2020-02-04T16:53:29.718462Z"
    }
   },
   "outputs": [
    {
     "data": {
      "text/plain": [
       "numpy.ndarray"
      ]
     },
     "execution_count": 282,
     "metadata": {},
     "output_type": "execute_result"
    }
   ],
   "source": [
    "tfid = TfidfVectorizer(stop_words ='english', lowercase = True, )\n",
    "tfidfed = tfid.fit_transform(words_english)\n",
    "X = tfidfed\n",
    "y = ratings.reshape(-1,1)\n"
   ]
  },
  {
   "cell_type": "code",
   "execution_count": 284,
   "metadata": {
    "ExecuteTime": {
     "end_time": "2020-02-04T16:53:59.783721Z",
     "start_time": "2020-02-04T16:53:59.777145Z"
    }
   },
   "outputs": [],
   "source": [
    "y = list(ratings)"
   ]
  },
  {
   "cell_type": "code",
   "execution_count": 285,
   "metadata": {
    "ExecuteTime": {
     "end_time": "2020-02-04T16:54:07.491109Z",
     "start_time": "2020-02-04T16:54:01.264251Z"
    }
   },
   "outputs": [
    {
     "name": "stderr",
     "output_type": "stream",
     "text": [
      "/home/robert/anaconda3/lib/python3.7/site-packages/sklearn/ensemble/forest.py:245: FutureWarning: The default value of n_estimators will change from 10 in version 0.20 to 100 in 0.22.\n",
      "  \"10 in version 0.20 to 100 in 0.22.\", FutureWarning)\n",
      "/home/robert/anaconda3/lib/python3.7/site-packages/sklearn/ensemble/forest.py:460: UserWarning: Some inputs do not have OOB scores. This probably means too few trees were used to compute any reliable oob estimates.\n",
      "  warn(\"Some inputs do not have OOB scores. \"\n",
      "/home/robert/anaconda3/lib/python3.7/site-packages/sklearn/ensemble/forest.py:465: RuntimeWarning: divide by zero encountered in true_divide\n",
      "  predictions[k].sum(axis=1)[:, np.newaxis])\n",
      "/home/robert/anaconda3/lib/python3.7/site-packages/sklearn/ensemble/forest.py:465: RuntimeWarning: invalid value encountered in true_divide\n",
      "  predictions[k].sum(axis=1)[:, np.newaxis])\n"
     ]
    },
    {
     "data": {
      "text/plain": [
       "RandomForestClassifier(bootstrap=True, class_weight=None, criterion='gini',\n",
       "                       max_depth=None, max_features='auto', max_leaf_nodes=None,\n",
       "                       min_impurity_decrease=0.0, min_impurity_split=None,\n",
       "                       min_samples_leaf=1, min_samples_split=2,\n",
       "                       min_weight_fraction_leaf=0.0, n_estimators=10, n_jobs=-1,\n",
       "                       oob_score=True, random_state=None, verbose=0,\n",
       "                       warm_start=False)"
      ]
     },
     "execution_count": 285,
     "metadata": {},
     "output_type": "execute_result"
    }
   ],
   "source": [
    "first_forest = RandomForestClassifier(oob_score=True, n_jobs =-1, n_estimators = 100)\n",
    "first_forest.fit(X, y)"
   ]
  },
  {
   "cell_type": "code",
   "execution_count": 287,
   "metadata": {
    "ExecuteTime": {
     "end_time": "2020-02-04T16:55:47.165656Z",
     "start_time": "2020-02-04T16:55:47.159192Z"
    }
   },
   "outputs": [
    {
     "data": {
      "text/plain": [
       "True"
      ]
     },
     "execution_count": 287,
     "metadata": {},
     "output_type": "execute_result"
    }
   ],
   "source": [
    "first_forest.oob_score"
   ]
  },
  {
   "cell_type": "code",
   "execution_count": 288,
   "metadata": {
    "ExecuteTime": {
     "end_time": "2020-02-04T16:55:55.249180Z",
     "start_time": "2020-02-04T16:55:55.235933Z"
    }
   },
   "outputs": [
    {
     "data": {
      "text/plain": [
       "['__abstractmethods__',\n",
       " '__class__',\n",
       " '__delattr__',\n",
       " '__dict__',\n",
       " '__dir__',\n",
       " '__doc__',\n",
       " '__eq__',\n",
       " '__format__',\n",
       " '__ge__',\n",
       " '__getattribute__',\n",
       " '__getitem__',\n",
       " '__getstate__',\n",
       " '__gt__',\n",
       " '__hash__',\n",
       " '__init__',\n",
       " '__init_subclass__',\n",
       " '__iter__',\n",
       " '__le__',\n",
       " '__len__',\n",
       " '__lt__',\n",
       " '__module__',\n",
       " '__ne__',\n",
       " '__new__',\n",
       " '__reduce__',\n",
       " '__reduce_ex__',\n",
       " '__repr__',\n",
       " '__setattr__',\n",
       " '__setstate__',\n",
       " '__sizeof__',\n",
       " '__str__',\n",
       " '__subclasshook__',\n",
       " '__weakref__',\n",
       " '_abc_impl',\n",
       " '_estimator_type',\n",
       " '_get_param_names',\n",
       " '_get_tags',\n",
       " '_make_estimator',\n",
       " '_more_tags',\n",
       " '_required_parameters',\n",
       " '_set_oob_score',\n",
       " '_validate_X_predict',\n",
       " '_validate_estimator',\n",
       " '_validate_y_class_weight',\n",
       " 'apply',\n",
       " 'base_estimator',\n",
       " 'base_estimator_',\n",
       " 'bootstrap',\n",
       " 'class_weight',\n",
       " 'classes_',\n",
       " 'criterion',\n",
       " 'decision_path',\n",
       " 'estimator_params',\n",
       " 'estimators_',\n",
       " 'feature_importances_',\n",
       " 'fit',\n",
       " 'get_params',\n",
       " 'max_depth',\n",
       " 'max_features',\n",
       " 'max_leaf_nodes',\n",
       " 'min_impurity_decrease',\n",
       " 'min_impurity_split',\n",
       " 'min_samples_leaf',\n",
       " 'min_samples_split',\n",
       " 'min_weight_fraction_leaf',\n",
       " 'n_classes_',\n",
       " 'n_estimators',\n",
       " 'n_features_',\n",
       " 'n_jobs',\n",
       " 'n_outputs_',\n",
       " 'oob_decision_function_',\n",
       " 'oob_score',\n",
       " 'oob_score_',\n",
       " 'predict',\n",
       " 'predict_log_proba',\n",
       " 'predict_proba',\n",
       " 'random_state',\n",
       " 'score',\n",
       " 'set_params',\n",
       " 'verbose',\n",
       " 'warm_start']"
      ]
     },
     "execution_count": 288,
     "metadata": {},
     "output_type": "execute_result"
    }
   ],
   "source": [
    "dir(first_forest)"
   ]
  },
  {
   "cell_type": "code",
   "execution_count": 277,
   "metadata": {
    "ExecuteTime": {
     "end_time": "2020-02-04T16:49:36.925005Z",
     "start_time": "2020-02-04T16:49:36.917211Z"
    }
   },
   "outputs": [
    {
     "data": {
      "text/plain": [
       "<39644x63457 sparse matrix of type '<class 'numpy.float64'>'\n",
       "\twith 2637227 stored elements in Compressed Sparse Row format>"
      ]
     },
     "execution_count": 277,
     "metadata": {},
     "output_type": "execute_result"
    }
   ],
   "source": [
    "X"
   ]
  },
  {
   "cell_type": "code",
   "execution_count": 280,
   "metadata": {
    "ExecuteTime": {
     "end_time": "2020-02-04T16:52:55.155562Z",
     "start_time": "2020-02-04T16:52:55.149163Z"
    }
   },
   "outputs": [],
   "source": [
    "y = ratings.reshape(-1,1)"
   ]
  },
  {
   "cell_type": "code",
   "execution_count": null,
   "metadata": {},
   "outputs": [],
   "source": []
  }
 ],
 "metadata": {
  "kernelspec": {
   "display_name": "Python 3.7.4 64-bit ('anaconda3': virtualenv)",
   "language": "python",
   "name": "python37464bitanaconda3virtualenv4689841a946143dd80c9fcc86c644564"
  },
  "language_info": {
   "codemirror_mode": {
    "name": "ipython",
    "version": 3
   },
   "file_extension": ".py",
   "mimetype": "text/x-python",
   "name": "python",
   "nbconvert_exporter": "python",
   "pygments_lexer": "ipython3",
   "version": "3.7.4"
  }
 },
 "nbformat": 4,
 "nbformat_minor": 2
}
