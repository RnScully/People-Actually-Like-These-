{
 "cells": [
  {
   "cell_type": "code",
   "execution_count": 49,
   "metadata": {
    "ExecuteTime": {
     "end_time": "2020-02-04T00:55:50.095730Z",
     "start_time": "2020-02-04T00:55:50.077923Z"
    }
   },
   "outputs": [],
   "source": [
    "import numpy as np\n",
    "import nltk\n",
    "import spacy\n",
    "from spacy_langdetect import LanguageDetector"
   ]
  },
  {
   "cell_type": "code",
   "execution_count": 41,
   "metadata": {
    "ExecuteTime": {
     "end_time": "2020-02-04T00:39:47.442670Z",
     "start_time": "2020-02-04T00:39:47.432352Z"
    },
    "code_folding": [
     3
    ]
   },
   "outputs": [],
   "source": [
    "import time, sys\n",
    "from IPython.display import clear_output\n",
    "\n",
    "def update_progress(progress):\n",
    "    bar_length = 20\n",
    "    if isinstance(progress, int):\n",
    "        progress = float(progress)\n",
    "    if not isinstance(progress, float):\n",
    "        progress = 0\n",
    "    if progress < 0:\n",
    "        progress = 0\n",
    "    if progress >= 1:\n",
    "        progress = 1\n",
    "\n",
    "    block = int(round(bar_length * progress))\n",
    "\n",
    "    clear_output(wait = True)\n",
    "    text = \"Progress: [{0}] {1:.1f}%\".format( \"#\" * block + \"-\" * (bar_length - block), progress * 100)\n",
    "    print(text)\n"
   ]
  },
  {
   "cell_type": "code",
   "execution_count": 3,
   "metadata": {
    "ExecuteTime": {
     "end_time": "2020-02-04T00:23:50.061447Z",
     "start_time": "2020-02-04T00:23:49.931135Z"
    }
   },
   "outputs": [
    {
     "name": "stdout",
     "output_type": "stream",
     "text": [
      " c_g_rev_cleaner.py     geckodriver.log         progress.txt\r\n",
      "'Cleaning Pipe.ipynb'   g_rev_scrape.py         samples.py\r\n",
      " data\t\t       'NLP experiment.ipynb'   samples.txt\r\n"
     ]
    }
   ],
   "source": [
    "!ls"
   ]
  },
  {
   "cell_type": "code",
   "execution_count": 5,
   "metadata": {
    "ExecuteTime": {
     "end_time": "2020-02-04T00:24:51.714482Z",
     "start_time": "2020-02-04T00:24:51.561181Z"
    }
   },
   "outputs": [],
   "source": [
    "path = 'data/cleaned.npy'\n",
    "arr = np.load(path, allow_pickle = True)"
   ]
  },
  {
   "cell_type": "code",
   "execution_count": 7,
   "metadata": {
    "ExecuteTime": {
     "end_time": "2020-02-04T00:24:59.733003Z",
     "start_time": "2020-02-04T00:24:59.707042Z"
    }
   },
   "outputs": [
    {
     "data": {
      "text/plain": [
       "(40627, 4)"
      ]
     },
     "execution_count": 7,
     "metadata": {},
     "output_type": "execute_result"
    }
   ],
   "source": [
    "arr.shape"
   ]
  },
  {
   "cell_type": "code",
   "execution_count": 20,
   "metadata": {
    "ExecuteTime": {
     "end_time": "2020-02-04T00:29:11.485082Z",
     "start_time": "2020-02-04T00:29:11.477675Z"
    }
   },
   "outputs": [],
   "source": [
    "words = arr[:,3]"
   ]
  },
  {
   "cell_type": "code",
   "execution_count": 35,
   "metadata": {
    "ExecuteTime": {
     "end_time": "2020-02-04T00:35:06.090810Z",
     "start_time": "2020-02-04T00:35:06.083659Z"
    }
   },
   "outputs": [],
   "source": [
    "b = TextBlob(words[0])"
   ]
  },
  {
   "cell_type": "code",
   "execution_count": 37,
   "metadata": {
    "ExecuteTime": {
     "end_time": "2020-02-04T00:35:15.908854Z",
     "start_time": "2020-02-04T00:35:15.159269Z"
    }
   },
   "outputs": [
    {
     "data": {
      "text/plain": [
       "'de'"
      ]
     },
     "execution_count": 37,
     "metadata": {},
     "output_type": "execute_result"
    }
   ],
   "source": [
    "b.detect_language()"
   ]
  },
  {
   "cell_type": "code",
   "execution_count": 63,
   "metadata": {
    "ExecuteTime": {
     "end_time": "2020-02-04T01:40:33.297279Z",
     "start_time": "2020-02-04T01:10:47.397907Z"
    }
   },
   "outputs": [
    {
     "name": "stdout",
     "output_type": "stream",
     "text": [
      "Progress: [####################] 100.0%\n"
     ]
    }
   ],
   "source": [
    "nlp = spacy.load(\"en\")\n",
    "nlp.add_pipe(LanguageDetector(), name=\"language_detector\", last=True)\n",
    "\n",
    "lang = []\n",
    "for idx, w in enumerate(words):\n",
    "    if len(w)<4:\n",
    "        lang.append(-1)\n",
    "    else:\n",
    "        doc = nlp(w)\n",
    "        lang.append(doc._.language['language'])\n",
    "    progress_bar = idx\n",
    "    update_progress((idx+1) / len(words))\n",
    "    \n",
    "\n",
    "\n"
   ]
  },
  {
   "cell_type": "code",
   "execution_count": 65,
   "metadata": {
    "ExecuteTime": {
     "end_time": "2020-02-04T01:40:49.967456Z",
     "start_time": "2020-02-04T01:40:49.958069Z"
    }
   },
   "outputs": [
    {
     "data": {
      "text/plain": [
       "40627"
      ]
     },
     "execution_count": 65,
     "metadata": {},
     "output_type": "execute_result"
    }
   ],
   "source": [
    "len(words)"
   ]
  },
  {
   "cell_type": "code",
   "execution_count": 72,
   "metadata": {
    "ExecuteTime": {
     "end_time": "2020-02-04T01:43:05.976726Z",
     "start_time": "2020-02-04T01:43:05.952689Z"
    }
   },
   "outputs": [],
   "source": [
    "l =np.array(lang)\n",
    "l.shape\n",
    "l =l.reshape(-1,1)"
   ]
  },
  {
   "cell_type": "code",
   "execution_count": 77,
   "metadata": {
    "ExecuteTime": {
     "end_time": "2020-02-04T01:44:49.637822Z",
     "start_time": "2020-02-04T01:44:49.612539Z"
    }
   },
   "outputs": [],
   "source": [
    "arr2 = np.concatenate((arr,l), axis = 1 )"
   ]
  },
  {
   "cell_type": "code",
   "execution_count": 78,
   "metadata": {
    "ExecuteTime": {
     "end_time": "2020-02-04T01:44:54.281794Z",
     "start_time": "2020-02-04T01:44:54.267251Z"
    }
   },
   "outputs": [
    {
     "data": {
      "text/plain": [
       "(40627, 5)"
      ]
     },
     "execution_count": 78,
     "metadata": {},
     "output_type": "execute_result"
    }
   ],
   "source": [
    "arr2.shape"
   ]
  },
  {
   "cell_type": "code",
   "execution_count": 81,
   "metadata": {
    "ExecuteTime": {
     "end_time": "2020-02-04T01:45:10.556428Z",
     "start_time": "2020-02-04T01:45:10.540161Z"
    }
   },
   "outputs": [
    {
     "data": {
      "text/plain": [
       "array([5, '1927303-mary', ('Paperback 9781435756342',),\n",
       "       'Live love laugh a Lot is a special book.Interesting characters make you laugh- you must take a look.Voicing their opinions in humorous forms moving line by line.Entertaining to such an extent- you must take your time.Love the way Jacquelyn speaks through Sly Fox.Over and over you have to laugh as he comes out of his box.Very sly he tries to be from behind his cloth.Excitement on each page you must laugh a lot.Laughter rings out as Ingrid does her stuff.A woman who could finally say, “Enough is Enough”.Use me Lord Jacquelyn says on page fifty-eight.God’s blessings comes in many ways Jacquelyn points out to us.Honesty and humor you will find within these pages so much.A great read and must for every home.Live Love Laugh a lotOh how humorousThis book is written by Jacquelyn Sturge ',\n",
       "       'en'], dtype=object)"
      ]
     },
     "execution_count": 81,
     "metadata": {},
     "output_type": "execute_result"
    }
   ],
   "source": [
    "arr2[3]"
   ]
  },
  {
   "cell_type": "code",
   "execution_count": 82,
   "metadata": {
    "ExecuteTime": {
     "end_time": "2020-02-04T01:45:53.749812Z",
     "start_time": "2020-02-04T01:45:53.604960Z"
    }
   },
   "outputs": [],
   "source": [
    "np.save(\"data/clean_and_lang\", arr2) ## might need to do a mongo thing\n"
   ]
  },
  {
   "cell_type": "code",
   "execution_count": null,
   "metadata": {},
   "outputs": [],
   "source": []
  }
 ],
 "metadata": {
  "kernelspec": {
   "display_name": "Python 3.7.4 64-bit ('anaconda3': virtualenv)",
   "language": "python",
   "name": "python37464bitanaconda3virtualenv4689841a946143dd80c9fcc86c644564"
  },
  "language_info": {
   "codemirror_mode": {
    "name": "ipython",
    "version": 3
   },
   "file_extension": ".py",
   "mimetype": "text/x-python",
   "name": "python",
   "nbconvert_exporter": "python",
   "pygments_lexer": "ipython3",
   "version": "3.7.4"
  }
 },
 "nbformat": 4,
 "nbformat_minor": 2
}
