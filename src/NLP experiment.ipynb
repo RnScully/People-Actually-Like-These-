{
 "cells": [
  {
   "cell_type": "code",
   "execution_count": 296,
   "metadata": {
    "ExecuteTime": {
     "end_time": "2020-02-04T17:10:42.738007Z",
     "start_time": "2020-02-04T17:10:42.721946Z"
    }
   },
   "outputs": [],
   "source": [
    "import numpy as np\n",
    "\n",
    "import pickle\n",
    "\n",
    "import matplotlib.pyplot as plt\n",
    "\n",
    "import nltk\n",
    "\n",
    "import spacy\n",
    "from spacy_langdetect import LanguageDetector\n",
    "\n",
    "from sklearn.ensemble import RandomForestClassifier\n",
    "from sklearn.feature_extraction.text import TfidfVectorizer\n",
    "\n",
    "import nltk\n",
    "from nltk.corpus import stopwords\n",
    "from nltk.stem.wordnet import WordNetLemmatizer\n",
    "from nltk.stem.snowball import SnowballStemmer"
   ]
  },
  {
   "cell_type": "code",
   "execution_count": 254,
   "metadata": {
    "ExecuteTime": {
     "end_time": "2020-02-04T16:32:16.720232Z",
     "start_time": "2020-02-04T16:32:16.702672Z"
    },
    "code_folding": [
     6
    ]
   },
   "outputs": [
    {
     "data": {
      "text/html": [
       "<style>.container { width:100% !important; }</style>"
      ],
      "text/plain": [
       "<IPython.core.display.HTML object>"
      ]
     },
     "metadata": {},
     "output_type": "display_data"
    }
   ],
   "source": [
    "from IPython.core.display import display, HTML\n",
    "display(HTML(\"<style>.container { width:100% !important; }</style>\"))\n",
    "\n",
    "import time, sys\n",
    "from IPython.display import clear_output\n",
    "\n",
    "def update_progress(progress):\n",
    "    bar_length = 20\n",
    "    if isinstance(progress, int):\n",
    "        progress = float(progress)\n",
    "    if not isinstance(progress, float):\n",
    "        progress = 0\n",
    "    if progress < 0:\n",
    "        progress = 0\n",
    "    if progress >= 1:\n",
    "        progress = 1\n",
    "\n",
    "    block = int(round(bar_length * progress))\n",
    "\n",
    "    clear_output(wait = True)\n",
    "    text = \"Progress: [{0}] {1:.1f}%\".format( \"#\" * block + \"-\" * (bar_length - block), progress * 100)\n",
    "    print(text)\n"
   ]
  },
  {
   "cell_type": "code",
   "execution_count": null,
   "metadata": {
    "ExecuteTime": {
     "end_time": "2020-02-04T00:24:51.714482Z",
     "start_time": "2020-02-04T00:24:51.561181Z"
    }
   },
   "outputs": [],
   "source": [
    "path = 'data/cleaned.npy'\n",
    "arr = np.load(path, allow_pickle = True)\n",
    "\n"
   ]
  },
  {
   "cell_type": "code",
   "execution_count": 7,
   "metadata": {
    "ExecuteTime": {
     "end_time": "2020-02-04T00:24:59.733003Z",
     "start_time": "2020-02-04T00:24:59.707042Z"
    }
   },
   "outputs": [
    {
     "data": {
      "text/plain": [
       "(40627, 4)"
      ]
     },
     "execution_count": 7,
     "metadata": {},
     "output_type": "execute_result"
    }
   ],
   "source": [
    "arr.shape"
   ]
  },
  {
   "cell_type": "code",
   "execution_count": 20,
   "metadata": {
    "ExecuteTime": {
     "end_time": "2020-02-04T00:29:11.485082Z",
     "start_time": "2020-02-04T00:29:11.477675Z"
    }
   },
   "outputs": [],
   "source": [
    "words = arr[:,3]"
   ]
  },
  {
   "cell_type": "code",
   "execution_count": 63,
   "metadata": {
    "ExecuteTime": {
     "end_time": "2020-02-04T01:40:33.297279Z",
     "start_time": "2020-02-04T01:10:47.397907Z"
    }
   },
   "outputs": [
    {
     "name": "stdout",
     "output_type": "stream",
     "text": [
      "Progress: [####################] 100.0%\n"
     ]
    }
   ],
   "source": [
    "nlp = spacy.load(\"en\")\n",
    "nlp.add_pipe(LanguageDetector(), name=\"language_detector\", last=True)\n",
    "\n",
    "lang = []\n",
    "for idx, w in enumerate(words):\n",
    "    if len(w)<4:\n",
    "        lang.append(-1)\n",
    "    else:\n",
    "        doc = nlp(w)\n",
    "        lang.append(doc._.language['language'])\n",
    "    progress_bar = idx\n",
    "    update_progress((idx+1) / len(words))\n",
    "    \n",
    "\n",
    "\n"
   ]
  },
  {
   "cell_type": "code",
   "execution_count": 65,
   "metadata": {
    "ExecuteTime": {
     "end_time": "2020-02-04T01:40:49.967456Z",
     "start_time": "2020-02-04T01:40:49.958069Z"
    }
   },
   "outputs": [
    {
     "data": {
      "text/plain": [
       "40627"
      ]
     },
     "execution_count": 65,
     "metadata": {},
     "output_type": "execute_result"
    }
   ],
   "source": [
    "len(words)"
   ]
  },
  {
   "cell_type": "code",
   "execution_count": 72,
   "metadata": {
    "ExecuteTime": {
     "end_time": "2020-02-04T01:43:05.976726Z",
     "start_time": "2020-02-04T01:43:05.952689Z"
    }
   },
   "outputs": [],
   "source": [
    "l =np.array(lang)\n",
    "l.shape\n",
    "l =l.reshape(-1,1)"
   ]
  },
  {
   "cell_type": "code",
   "execution_count": 77,
   "metadata": {
    "ExecuteTime": {
     "end_time": "2020-02-04T01:44:49.637822Z",
     "start_time": "2020-02-04T01:44:49.612539Z"
    }
   },
   "outputs": [],
   "source": [
    "arr2 = np.concatenate((arr,l), axis = 1 )"
   ]
  },
  {
   "cell_type": "code",
   "execution_count": 78,
   "metadata": {
    "ExecuteTime": {
     "end_time": "2020-02-04T01:44:54.281794Z",
     "start_time": "2020-02-04T01:44:54.267251Z"
    }
   },
   "outputs": [
    {
     "data": {
      "text/plain": [
       "(40627, 5)"
      ]
     },
     "execution_count": 78,
     "metadata": {},
     "output_type": "execute_result"
    }
   ],
   "source": [
    "arr2.shape"
   ]
  },
  {
   "cell_type": "code",
   "execution_count": 81,
   "metadata": {
    "ExecuteTime": {
     "end_time": "2020-02-04T01:45:10.556428Z",
     "start_time": "2020-02-04T01:45:10.540161Z"
    }
   },
   "outputs": [
    {
     "data": {
      "text/plain": [
       "array([5, '1927303-mary', ('Paperback 9781435756342',),\n",
       "       'Live love laugh a Lot is a special book.Interesting characters make you laugh- you must take a look.Voicing their opinions in humorous forms moving line by line.Entertaining to such an extent- you must take your time.Love the way Jacquelyn speaks through Sly Fox.Over and over you have to laugh as he comes out of his box.Very sly he tries to be from behind his cloth.Excitement on each page you must laugh a lot.Laughter rings out as Ingrid does her stuff.A woman who could finally say, “Enough is Enough”.Use me Lord Jacquelyn says on page fifty-eight.God’s blessings comes in many ways Jacquelyn points out to us.Honesty and humor you will find within these pages so much.A great read and must for every home.Live Love Laugh a lotOh how humorousThis book is written by Jacquelyn Sturge ',\n",
       "       'en'], dtype=object)"
      ]
     },
     "execution_count": 81,
     "metadata": {},
     "output_type": "execute_result"
    }
   ],
   "source": [
    "arr2[3]"
   ]
  },
  {
   "cell_type": "code",
   "execution_count": 340,
   "metadata": {
    "ExecuteTime": {
     "end_time": "2020-02-04T17:57:32.598215Z",
     "start_time": "2020-02-04T17:57:32.495385Z"
    }
   },
   "outputs": [],
   "source": [
    "#np.save(\"data/clean_and_lang\", arr2) ## might need to do a mongo thing\n",
    "np.save('data/english_arr',english )"
   ]
  },
  {
   "cell_type": "code",
   "execution_count": 83,
   "metadata": {
    "ExecuteTime": {
     "end_time": "2020-02-04T14:25:35.187009Z",
     "start_time": "2020-02-04T14:25:35.182039Z"
    }
   },
   "outputs": [
    {
     "data": {
      "text/plain": [
       "(40627, 5)"
      ]
     },
     "execution_count": 83,
     "metadata": {},
     "output_type": "execute_result"
    }
   ],
   "source": []
  },
  {
   "cell_type": "code",
   "execution_count": 86,
   "metadata": {
    "ExecuteTime": {
     "end_time": "2020-02-04T14:26:16.753468Z",
     "start_time": "2020-02-04T14:26:16.741988Z"
    }
   },
   "outputs": [
    {
     "data": {
      "text/plain": [
       "array(['de', 'en', 'it', ..., 'en', 'en', 'en'], dtype=object)"
      ]
     },
     "execution_count": 86,
     "metadata": {},
     "output_type": "execute_result"
    }
   ],
   "source": []
  },
  {
   "cell_type": "code",
   "execution_count": 89,
   "metadata": {
    "ExecuteTime": {
     "end_time": "2020-02-04T14:28:36.498208Z",
     "start_time": "2020-02-04T14:28:36.475591Z"
    }
   },
   "outputs": [],
   "source": [
    "u_languages, lang_counts  = np.unique(lang, return_counts = True)"
   ]
  },
  {
   "cell_type": "markdown",
   "metadata": {},
   "source": [
    "#### get breakdown of the languages in the set"
   ]
  },
  {
   "cell_type": "code",
   "execution_count": 159,
   "metadata": {
    "ExecuteTime": {
     "end_time": "2020-02-04T15:13:44.543880Z",
     "start_time": "2020-02-04T15:13:44.503688Z"
    }
   },
   "outputs": [],
   "source": [
    "u_languages, lang_counts  = np.unique(lang, return_counts = True)\n",
    "breakdown = [i for i in zip(u_languages, lang_counts)]\n",
    "breakdown.sort(key = lambda t: t[1], reverse = True)\n",
    "\n",
    "add = 0\n",
    "for items in breakdown:\n",
    "    add += items[1]\n",
    "\n",
    "# breakdown"
   ]
  },
  {
   "cell_type": "code",
   "execution_count": 211,
   "metadata": {
    "ExecuteTime": {
     "end_time": "2020-02-04T15:48:08.749510Z",
     "start_time": "2020-02-04T15:48:08.720924Z"
    }
   },
   "outputs": [
    {
     "data": {
      "text/plain": [
       "(39644, 5)"
      ]
     },
     "execution_count": 211,
     "metadata": {},
     "output_type": "execute_result"
    }
   ],
   "source": [
    "lang = arr2[:,-1]\n",
    "lang.reshape(-1,1)\n",
    "mask = np.array([True if i == 'en' else False for i in lang])\n",
    "english = arr2[mask]\n",
    "english.shape\n",
    "#  english[0]"
   ]
  },
  {
   "cell_type": "code",
   "execution_count": 157,
   "metadata": {
    "ExecuteTime": {
     "end_time": "2020-02-04T15:13:09.703669Z",
     "start_time": "2020-02-04T15:13:09.695661Z"
    }
   },
   "outputs": [
    {
     "data": {
      "text/plain": [
       "0.9758042680975706"
      ]
     },
     "execution_count": 157,
     "metadata": {},
     "output_type": "execute_result"
    }
   ],
   "source": [
    "percent_english = english.shape[0]/arr.shape[0]\n",
    "percent_english"
   ]
  },
  {
   "cell_type": "markdown",
   "metadata": {
    "ExecuteTime": {
     "end_time": "2020-02-04T14:48:44.787309Z",
     "start_time": "2020-02-04T14:48:44.775525Z"
    }
   },
   "source": [
    "### Sort the reviews into star buckets"
   ]
  },
  {
   "cell_type": "code",
   "execution_count": 161,
   "metadata": {
    "ExecuteTime": {
     "end_time": "2020-02-04T15:14:39.188545Z",
     "start_time": "2020-02-04T15:14:39.173997Z"
    }
   },
   "outputs": [
    {
     "data": {
      "text/plain": [
       "array([5, '2009689-christina-jussaume', ('Paperback 9781435756342',),\n",
       "       \"Live, laugh, Love A LotJay’s limericks are entertainingYour smile will stay on face remainingPastor series is greatYou will appreciateReading muse you’ll not be complainingShe writes with humor on many thingsLoud hysterical laughter she bringsYour spirit she’ll raise highYou’ll read and often sigh She wrote with humor of wedding rings Humor brings out positive effectShe does write on many a subjectShe will enlighten youWords from her soul are trueShe will tell you smile as not perfectHer book I would highly recommendI think I’ll read it over againIt has beat that’s uniqueGet copy and take peekIt can be enjoyed like a best friend By Christina R Jussaume copyright 2009*This is a series of limericks for Jacqueline Sturge's first book__________________\",\n",
       "       'en'], dtype=object)"
      ]
     },
     "execution_count": 161,
     "metadata": {},
     "output_type": "execute_result"
    }
   ],
   "source": [
    "english[2]"
   ]
  },
  {
   "cell_type": "code",
   "execution_count": 204,
   "metadata": {
    "ExecuteTime": {
     "end_time": "2020-02-04T15:46:52.932878Z",
     "start_time": "2020-02-04T15:46:52.922688Z"
    }
   },
   "outputs": [
    {
     "data": {
      "text/plain": [
       "(39644, 5)"
      ]
     },
     "execution_count": 204,
     "metadata": {},
     "output_type": "execute_result"
    }
   ],
   "source": [
    "english[:0,0:-1]\n",
    "english.shape"
   ]
  },
  {
   "cell_type": "code",
   "execution_count": 216,
   "metadata": {
    "ExecuteTime": {
     "end_time": "2020-02-04T15:49:44.568999Z",
     "start_time": "2020-02-04T15:49:44.557875Z"
    }
   },
   "outputs": [
    {
     "data": {
      "text/plain": [
       "(39644,)"
      ]
     },
     "execution_count": 216,
     "metadata": {},
     "output_type": "execute_result"
    }
   ],
   "source": [
    "ratings = english[:, 0]\n",
    "ratings.shape"
   ]
  },
  {
   "cell_type": "code",
   "execution_count": 232,
   "metadata": {
    "ExecuteTime": {
     "end_time": "2020-02-04T16:11:23.897531Z",
     "start_time": "2020-02-04T16:11:23.845503Z"
    }
   },
   "outputs": [],
   "source": [
    "r  = np.array([True if i == -1 else False for i in ratings]).reshape(-1,1)\n",
    "rnot_rated_mask = np.concatenate((r, r, r, r,r), axis=1, out=None)\n",
    "\n",
    "r1 = np.array([True if i == 1 else False for i in ratings]).reshape(-1,1)\n",
    "r1_mask = np.concatenate((r1, r1, r1, r1,r1), axis=1, out=None)\n",
    "\n",
    "r2 = np.array([True if i == 2 else False for i in ratings]).reshape(-1,1)\n",
    "r2_mask = np.concatenate((r1, r1, r1, r1,r1), axis=1, out=None)\n",
    "\n",
    "r3 = np.array([True if i == 3 else False for i in ratings]).reshape(-1,1)\n",
    "r3_mask = np.concatenate((r1, r1, r1, r1,r1), axis=1, out=None)\n",
    "\n",
    "r4 = np.array([True if i == 4 else False for i in ratings]).reshape(-1,1)\n",
    "r4_mask = np.concatenate((r1, r1, r1, r1,r1), axis=1, out=None)\n",
    "\n",
    "r5 = np.array([True if i == 5 else False for i in ratings]).reshape(-1,1)\n",
    "r5_mask = np.concatenate((r1, r1, r1, r1,r1), axis=1, out=None)\n"
   ]
  },
  {
   "cell_type": "code",
   "execution_count": 339,
   "metadata": {
    "ExecuteTime": {
     "end_time": "2020-02-04T17:54:08.836700Z",
     "start_time": "2020-02-04T17:54:08.831813Z"
    }
   },
   "outputs": [
    {
     "data": {
      "text/plain": [
       "array([[3, '2274182-carla', ('Paperback 9789306528',),\n",
       "        \"I'm kind of torn on how to rate this book. On one hand, there was a lot of focus on the semantics of the words and how different Arabic letters affect the meaning, and that part went completely over my head. The actual review of the ayat with explanation, I did find interesting and informing, but there were a lot of pages that I read and honestly didn't understand. I don't recommend this book to a new Muslim, but someone who has at least some knowledge of Arabic may benefit from it.\",\n",
       "        'en'],\n",
       "       [5, '1927303-mary', ('Paperback 9781435756342',),\n",
       "        'Live love laugh a Lot is a special book.Interesting characters make you laugh- you must take a look.Voicing their opinions in humorous forms moving line by line.Entertaining to such an extent- you must take your time.Love the way Jacquelyn speaks through Sly Fox.Over and over you have to laugh as he comes out of his box.Very sly he tries to be from behind his cloth.Excitement on each page you must laugh a lot.Laughter rings out as Ingrid does her stuff.A woman who could finally say, “Enough is Enough”.Use me Lord Jacquelyn says on page fifty-eight.God’s blessings comes in many ways Jacquelyn points out to us.Honesty and humor you will find within these pages so much.A great read and must for every home.Live Love Laugh a lotOh how humorousThis book is written by Jacquelyn Sturge ',\n",
       "        'en'],\n",
       "       [5, '2009689-christina-jussaume', ('Paperback 9781435756342',),\n",
       "        \"Live, laugh, Love A LotJay’s limericks are entertainingYour smile will stay on face remainingPastor series is greatYou will appreciateReading muse you’ll not be complainingShe writes with humor on many thingsLoud hysterical laughter she bringsYour spirit she’ll raise highYou’ll read and often sigh She wrote with humor of wedding rings Humor brings out positive effectShe does write on many a subjectShe will enlighten youWords from her soul are trueShe will tell you smile as not perfectHer book I would highly recommendI think I’ll read it over againIt has beat that’s uniqueGet copy and take peekIt can be enjoyed like a best friend By Christina R Jussaume copyright 2009*This is a series of limericks for Jacqueline Sturge's first book__________________\",\n",
       "        'en'],\n",
       "       ...,\n",
       "       [5, '6182031-t-b-markinson', ('Paperback 9780142437803',),\n",
       "        'A beautiful and sad story about love and loss. I read this many years ago and recently re-read it and I think I enjoyed it even more.',\n",
       "        'en'],\n",
       "       [5, '1643382-maria-yohn', ('Paperback 9780142437803',),\n",
       "        \"I wonder if this was Edith Wharton's attempt to outdo Thomas Hardy in writing the most depressing story in all literature. It was certainly a worthy attempt.\",\n",
       "        'en'],\n",
       "       [4, '11351200-leslie', ('Audiobook ',),\n",
       "        \"Having lived in New England most of my life, I can say that I found Scott Brick's accent in this audiobook was right on the money. He just sounded like a rural Massachusetts farmer.\",\n",
       "        'en']], dtype=object)"
      ]
     },
     "execution_count": 339,
     "metadata": {},
     "output_type": "execute_result"
    }
   ],
   "source": []
  },
  {
   "cell_type": "code",
   "execution_count": 233,
   "metadata": {
    "ExecuteTime": {
     "end_time": "2020-02-04T16:12:32.536280Z",
     "start_time": "2020-02-04T16:12:32.518235Z"
    }
   },
   "outputs": [],
   "source": [
    "not_rated = english[rnot_rated_mask]\n",
    "rated_1 = english[r1_mask]\n",
    "rated_2 = english[r2_mask]\n",
    "rated_3 = english[r3_mask]\n",
    "rated_4 = english[r4_mask]\n",
    "rated_5 = english[r5_mask]"
   ]
  },
  {
   "cell_type": "code",
   "execution_count": 251,
   "metadata": {
    "ExecuteTime": {
     "end_time": "2020-02-04T16:16:52.488196Z",
     "start_time": "2020-02-04T16:16:52.333466Z"
    }
   },
   "outputs": [
    {
     "data": {
      "image/png": "[encoded data removed]",
      "text/plain": [
       "<Figure size 432x288 with 1 Axes>"
      ]
     },
     "metadata": {
      "needs_background": "light"
     },
     "output_type": "display_data"
    }
   ],
   "source": [
    "\n",
    "f, a = plt.subplots()\n",
    "a.hist(ratings, bins = 6)\n",
    "a.set_ylabel('number of ratings')\n",
    "a.set_xlabel('stars given')\n",
    "a.set_title('star ratings histograms')\n",
    "plt.show()"
   ]
  },
  {
   "cell_type": "code",
   "execution_count": 255,
   "metadata": {
    "ExecuteTime": {
     "end_time": "2020-02-04T16:33:42.412348Z",
     "start_time": "2020-02-04T16:33:42.402465Z"
    }
   },
   "outputs": [],
   "source": [
    "def text_to_tokens(one):\n",
    "    snowball = SnowballStemmer('english')\n",
    "    tokenized = one.lower().split()\n",
    "    e_stop = stopwords.words('english')\n",
    "    without_stopw = [snowball.stem(word) for word in tokenized if word not in e_stop]\n",
    "\n",
    "    return without_stopw"
   ]
  },
  {
   "cell_type": "code",
   "execution_count": 346,
   "metadata": {
    "ExecuteTime": {
     "end_time": "2020-02-04T18:44:06.514122Z",
     "start_time": "2020-02-04T18:44:02.163706Z"
    }
   },
   "outputs": [],
   "source": [
    "tfid = TfidfVectorizer(stop_words ='english', lowercase = True, )\n",
    "tfidfed = tfid.fit_transform(words_english)\n",
    "\n",
    "X = tfidfed\n",
    "y = [i for i in ratings]\n"
   ]
  },
  {
   "cell_type": "code",
   "execution_count": 321,
   "metadata": {
    "ExecuteTime": {
     "end_time": "2020-02-04T17:35:46.921969Z",
     "start_time": "2020-02-04T17:35:46.729596Z"
    }
   },
   "outputs": [],
   "source": [
    "save_model(tfid, 'tfidvec_66')"
   ]
  },
  {
   "cell_type": "code",
   "execution_count": 345,
   "metadata": {
    "ExecuteTime": {
     "end_time": "2020-02-04T18:43:36.429300Z",
     "start_time": "2020-02-04T18:43:36.418135Z"
    }
   },
   "outputs": [
    {
     "data": {
      "text/plain": [
       "array([3], dtype=object)"
      ]
     },
     "execution_count": 345,
     "metadata": {},
     "output_type": "execute_result"
    }
   ],
   "source": []
  },
  {
   "cell_type": "code",
   "execution_count": 347,
   "metadata": {
    "ExecuteTime": {
     "end_time": "2020-02-04T18:44:37.155205Z",
     "start_time": "2020-02-04T18:44:10.194946Z"
    }
   },
   "outputs": [
    {
     "data": {
      "text/plain": [
       "0.6654727070931289"
      ]
     },
     "execution_count": 347,
     "metadata": {},
     "output_type": "execute_result"
    }
   ],
   "source": [
    "first_forest = RandomForestClassifier(min_samples_split = 10, oob_score=True, n_jobs =-1, n_estimators = 100)\n",
    "first_forest.fit(X, y)\n",
    "first_forest.oob_score_"
   ]
  },
  {
   "cell_type": "code",
   "execution_count": 313,
   "metadata": {
    "ExecuteTime": {
     "end_time": "2020-02-04T17:26:24.372933Z",
     "start_time": "2020-02-04T17:26:24.250967Z"
    }
   },
   "outputs": [
    {
     "data": {
      "text/plain": [
       "array([4])"
      ]
     },
     "execution_count": 313,
     "metadata": {},
     "output_type": "execute_result"
    }
   ],
   "source": [
    "y_string = '''500 pages that are well organized, exceptionally edited and full of nothing new - it’s just said better, without histrionics and has lots of “dialogue”, from those who wish to remain anonymous...\n",
    "\n",
    "Rucker and Leonnis clearly managed a gargantuan mountain of data to fill these pages. Collecting interviews, articles, tweets, news broadcasts, etc. for over 3 years to support this effort is mind boggling and they’re blessed to have had a great team. The effort is most evident in the spectacular index. It’s set up by person, place or event and every nuance you can imagine related to each. The Kindle version is interactive and will take you directly to the text.\n",
    "\n",
    "The writing is clear, not very concise, in fact it’s verbose. The language is colorful, mostly on the part of POTUS, in his direct quotations, and there are a fair amount of them. There is an attempt at fairness altho’ the decided tenor of this tome is negative towards him. More credit is given to his faithful staff and for their willingness to serve, nobly. Much effort is given to creat first person accounts that permit the reader to decide rather than being dictated to.\n",
    "\n",
    "Exhaustive and at times exhausting, but a good compendium of the facts thus far'''\n",
    "\n",
    "tfidfed = tfid.transform([y_string])\n",
    "prediction = first_forest.predict(tfidfed)\n"
   ]
  },
  {
   "cell_type": "code",
   "execution_count": 293,
   "metadata": {
    "ExecuteTime": {
     "end_time": "2020-02-04T17:09:05.287640Z",
     "start_time": "2020-02-04T17:09:05.108167Z"
    }
   },
   "outputs": [
    {
     "name": "stdout",
     "output_type": "stream",
     "text": [
      " c_g_rev_cleaner.py     geckodriver.log  'NLP experiment.ipynb'   samples.txt\r\n",
      "'Cleaning Pipe.ipynb'   g_rev_scrape.py   progress.txt\r\n",
      " data\t\t        models\t\t  samples.py\r\n"
     ]
    }
   ],
   "source": [
    "save_model(tfid, 'tfidvec_66')"
   ]
  },
  {
   "cell_type": "code",
   "execution_count": 315,
   "metadata": {
    "ExecuteTime": {
     "end_time": "2020-02-04T17:33:39.764816Z",
     "start_time": "2020-02-04T17:33:39.757895Z"
    }
   },
   "outputs": [],
   "source": [
    "def save_model(model,name):\n",
    "    file_ext= '.sav'\n",
    "    path = 'models/'\n",
    "    pickle.dump(model, open(path+name+file_ext, 'wb'))\n"
   ]
  },
  {
   "cell_type": "code",
   "execution_count": 322,
   "metadata": {
    "ExecuteTime": {
     "end_time": "2020-02-04T17:37:02.298597Z",
     "start_time": "2020-02-04T17:37:02.290529Z"
    }
   },
   "outputs": [],
   "source": [
    "def predict_one(string, model_name, vectorizor_name):\n",
    "    \n",
    "    path = 'models/'\n",
    "        \n",
    "    tfid = pickle.load(open(path+vectorizor_name, 'rb'))\n",
    "    tfidfed = tfid.transform([y_string])\n",
    "\n",
    "    model = pickle.load(open(path+model_name, 'rb'))\n",
    "    return model.predict(tfidfed)\n",
    "    "
   ]
  },
  {
   "cell_type": "code",
   "execution_count": 330,
   "metadata": {
    "ExecuteTime": {
     "end_time": "2020-02-04T17:38:26.220367Z",
     "start_time": "2020-02-04T17:38:25.782332Z"
    }
   },
   "outputs": [
    {
     "data": {
      "text/plain": [
       "array([4])"
      ]
     },
     "execution_count": 330,
     "metadata": {},
     "output_type": "execute_result"
    }
   ],
   "source": [
    "string = \" I dislike Trump as much as anyone but don’t be fooled, this book is little more than a rehash of news published widely over the past three years. Very little new, a waste of my time and money. Deeply disappointed. If you saw the pre-publication excerpts you got nearly all the new and interesting information. This book is horribly overrated. \"\n",
    "p = predict_one(string, 'rfoob66.sav', 'tfidvec_66.sav')\n",
    "p"
   ]
  },
  {
   "cell_type": "code",
   "execution_count": 331,
   "metadata": {
    "ExecuteTime": {
     "end_time": "2020-02-04T17:39:08.591229Z",
     "start_time": "2020-02-04T17:39:08.166194Z"
    }
   },
   "outputs": [
    {
     "data": {
      "text/plain": [
       "array([4])"
      ]
     },
     "execution_count": 331,
     "metadata": {},
     "output_type": "execute_result"
    }
   ],
   "source": [
    "string = \"this was the best book ever\"\n",
    "p = predict_one(string, 'rfoob66.sav', 'tfidvec_66.sav')\n",
    "p"
   ]
  },
  {
   "cell_type": "code",
   "execution_count": 332,
   "metadata": {
    "ExecuteTime": {
     "end_time": "2020-02-04T17:40:44.436389Z",
     "start_time": "2020-02-04T17:40:43.388564Z"
    }
   },
   "outputs": [
    {
     "data": {
      "text/plain": [
       "array([3, 5, 5, ..., 5, 5, 4])"
      ]
     },
     "execution_count": 332,
     "metadata": {},
     "output_type": "execute_result"
    }
   ],
   "source": [
    "first_forest.predict(X)"
   ]
  },
  {
   "cell_type": "code",
   "execution_count": 334,
   "metadata": {
    "ExecuteTime": {
     "end_time": "2020-02-04T17:40:53.454378Z",
     "start_time": "2020-02-04T17:40:53.444813Z"
    }
   },
   "outputs": [
    {
     "data": {
      "text/plain": [
       "<1x63457 sparse matrix of type '<class 'numpy.float64'>'\n",
       "\twith 55 stored elements in Compressed Sparse Row format>"
      ]
     },
     "execution_count": 334,
     "metadata": {},
     "output_type": "execute_result"
    }
   ],
   "source": [
    "X[1]"
   ]
  },
  {
   "cell_type": "code",
   "execution_count": 336,
   "metadata": {
    "ExecuteTime": {
     "end_time": "2020-02-04T17:41:44.103516Z",
     "start_time": "2020-02-04T17:41:44.095292Z"
    }
   },
   "outputs": [
    {
     "data": {
      "text/plain": [
       "\"I'm kind of torn on how to rate this book. On one hand, there was a lot of focus on the semantics of the words and how different Arabic letters affect the meaning, and that part went completely over my head. The actual review of the ayat with explanation, I did find interesting and informing, but there were a lot of pages that I read and honestly didn't understand. I don't recommend this book to a new Muslim, but someone who has at least some knowledge of Arabic may benefit from it.\""
      ]
     },
     "execution_count": 336,
     "metadata": {},
     "output_type": "execute_result"
    }
   ],
   "source": [
    "import sklearn"
   ]
  },
  {
   "cell_type": "code",
   "execution_count": 338,
   "metadata": {
    "ExecuteTime": {
     "end_time": "2020-02-04T17:42:15.911772Z",
     "start_time": "2020-02-04T17:42:15.902255Z"
    }
   },
   "outputs": [
    {
     "data": {
      "text/plain": [
       "['__abstractmethods__',\n",
       " '__class__',\n",
       " '__delattr__',\n",
       " '__dict__',\n",
       " '__dir__',\n",
       " '__doc__',\n",
       " '__eq__',\n",
       " '__format__',\n",
       " '__ge__',\n",
       " '__getattribute__',\n",
       " '__getitem__',\n",
       " '__getstate__',\n",
       " '__gt__',\n",
       " '__hash__',\n",
       " '__init__',\n",
       " '__init_subclass__',\n",
       " '__iter__',\n",
       " '__le__',\n",
       " '__len__',\n",
       " '__lt__',\n",
       " '__module__',\n",
       " '__ne__',\n",
       " '__new__',\n",
       " '__reduce__',\n",
       " '__reduce_ex__',\n",
       " '__repr__',\n",
       " '__setattr__',\n",
       " '__setstate__',\n",
       " '__sizeof__',\n",
       " '__str__',\n",
       " '__subclasshook__',\n",
       " '__weakref__',\n",
       " '_abc_impl',\n",
       " '_estimator_type',\n",
       " '_get_param_names',\n",
       " '_get_tags',\n",
       " '_make_estimator',\n",
       " '_more_tags',\n",
       " '_required_parameters',\n",
       " '_set_oob_score',\n",
       " '_validate_X_predict',\n",
       " '_validate_estimator',\n",
       " '_validate_y_class_weight',\n",
       " 'apply',\n",
       " 'base_estimator',\n",
       " 'base_estimator_',\n",
       " 'bootstrap',\n",
       " 'class_weight',\n",
       " 'classes_',\n",
       " 'criterion',\n",
       " 'decision_path',\n",
       " 'estimator_params',\n",
       " 'estimators_',\n",
       " 'feature_importances_',\n",
       " 'fit',\n",
       " 'get_params',\n",
       " 'max_depth',\n",
       " 'max_features',\n",
       " 'max_leaf_nodes',\n",
       " 'min_impurity_decrease',\n",
       " 'min_impurity_split',\n",
       " 'min_samples_leaf',\n",
       " 'min_samples_split',\n",
       " 'min_weight_fraction_leaf',\n",
       " 'n_classes_',\n",
       " 'n_estimators',\n",
       " 'n_features_',\n",
       " 'n_jobs',\n",
       " 'n_outputs_',\n",
       " 'oob_decision_function_',\n",
       " 'oob_score',\n",
       " 'oob_score_',\n",
       " 'predict',\n",
       " 'predict_log_proba',\n",
       " 'predict_proba',\n",
       " 'random_state',\n",
       " 'score',\n",
       " 'set_params',\n",
       " 'verbose',\n",
       " 'warm_start']"
      ]
     },
     "execution_count": 338,
     "metadata": {},
     "output_type": "execute_result"
    }
   ],
   "source": []
  },
  {
   "cell_type": "code",
   "execution_count": null,
   "metadata": {},
   "outputs": [],
   "source": []
  }
 ],
 "metadata": {
  "kernelspec": {
   "display_name": "Python 3.7.4 64-bit ('anaconda3': virtualenv)",
   "language": "python",
   "name": "python37464bitanaconda3virtualenv4689841a946143dd80c9fcc86c644564"
  },
  "language_info": {
   "codemirror_mode": {
    "name": "ipython",
    "version": 3
   },
   "file_extension": ".py",
   "mimetype": "text/x-python",
   "name": "python",
   "nbconvert_exporter": "python",
   "pygments_lexer": "ipython3",
   "version": "3.7.4"
  }
 },
 "nbformat": 4,
 "nbformat_minor": 2
}
