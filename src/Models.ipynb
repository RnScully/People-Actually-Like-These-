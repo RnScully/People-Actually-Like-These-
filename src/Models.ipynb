{
 "cells": [
  {
   "cell_type": "markdown",
   "metadata": {},
   "source": [
    "# Imports and loads"
   ]
  },
  {
   "cell_type": "code",
   "execution_count": 7,
   "metadata": {
    "ExecuteTime": {
     "end_time": "2020-02-04T17:58:57.275365Z",
     "start_time": "2020-02-04T17:58:57.233605Z"
    }
   },
   "outputs": [],
   "source": [
    "import pickle\n",
    "import numpy as np\n",
    "\n",
    "from sklearn.ensemble import RandomForestClassifier\n",
    "from sklearn.cluster import KMeans\n",
    "from sklearn.feature_extraction.text import TfidfVectorizer\n",
    "\n"
   ]
  },
  {
   "cell_type": "code",
   "execution_count": 5,
   "metadata": {
    "ExecuteTime": {
     "end_time": "2020-02-04T17:48:33.974503Z",
     "start_time": "2020-02-04T17:48:33.959351Z"
    },
    "code_folding": [
     0,
     5,
     15
    ]
   },
   "outputs": [],
   "source": [
    "def save_model(model,name):\n",
    "    file_ext= '.sav'\n",
    "    path = 'models/'\n",
    "    pickle.dump(model, open(path+name+file_ext, 'wb'))\n",
    "    \n",
    "def predict_one(string, model_name, vectorizor_name):\n",
    "    \n",
    "    path = 'models/'\n",
    "        \n",
    "    tfid = pickle.load(open(path+vectorizor_name, 'rb'))\n",
    "    tfidfed = tfid.transform([y_string])\n",
    "\n",
    "    model = pickle.load(open(path+model_name, 'rb'))\n",
    "    return model.predict(tfidfed)\n",
    "\n",
    "def predict_many(review_list, model_name, vectorizor_name):\n",
    "    path = 'models/'\n",
    "        \n",
    "    tfid = pickle.load(open(path+vectorizor_name, 'rb'))\n",
    "    tfidfed = tfid.transform(review_list)\n",
    "\n",
    "    model = pickle.load(open(path+model_name, 'rb'))\n",
    "    return model.predict(tfidfed)"
   ]
  },
  {
   "cell_type": "code",
   "execution_count": 9,
   "metadata": {
    "ExecuteTime": {
     "end_time": "2020-02-04T17:59:05.824662Z",
     "start_time": "2020-02-04T17:59:05.710362Z"
    }
   },
   "outputs": [],
   "source": [
    "arr  = np.load('data/english_arr.npy', allow_pickle = True)\n"
   ]
  },
  {
   "cell_type": "markdown",
   "metadata": {},
   "source": [
    "# Vectorize and Stem, or: Pre-handling"
   ]
  },
  {
   "cell_type": "code",
   "execution_count": 29,
   "metadata": {
    "ExecuteTime": {
     "end_time": "2020-02-04T18:51:52.445335Z",
     "start_time": "2020-02-04T18:51:52.439818Z"
    }
   },
   "outputs": [],
   "source": [
    "lang = arr[:,3]\n",
    "ratings = arr[:,0]\n"
   ]
  },
  {
   "cell_type": "code",
   "execution_count": null,
   "metadata": {
    "ExecuteTime": {
     "start_time": "2020-02-04T18:57:20.069Z"
    }
   },
   "outputs": [],
   "source": [
    "tfid = TfidfVectorizer(stop_words ='english', lowercase = True, max_features = 5000)\n",
    "tfidfed = tfid.fit_transform(lang)\n",
    "\n",
    "X = tfidfed\n",
    "y = ratings.reshape(-1,1)"
   ]
  },
  {
   "cell_type": "code",
   "execution_count": null,
   "metadata": {
    "ExecuteTime": {
     "start_time": "2020-02-04T18:55:17.654Z"
    }
   },
   "outputs": [],
   "source": [
    "cluster1_model = KMeans(n_clusters = 6, n_jobs =-1)\n",
    "cluster1_model.fit_transform(X)"
   ]
  },
  {
   "cell_type": "code",
   "execution_count": 10,
   "metadata": {
    "ExecuteTime": {
     "end_time": "2020-02-04T17:59:09.410185Z",
     "start_time": "2020-02-04T17:59:09.385689Z"
    }
   },
   "outputs": [
    {
     "data": {
      "text/plain": [
       "array([5, '1927303-mary', ('Paperback 9781435756342',),\n",
       "       'Live love laugh a Lot is a special book.Interesting characters make you laugh- you must take a look.Voicing their opinions in humorous forms moving line by line.Entertaining to such an extent- you must take your time.Love the way Jacquelyn speaks through Sly Fox.Over and over you have to laugh as he comes out of his box.Very sly he tries to be from behind his cloth.Excitement on each page you must laugh a lot.Laughter rings out as Ingrid does her stuff.A woman who could finally say, “Enough is Enough”.Use me Lord Jacquelyn says on page fifty-eight.God’s blessings comes in many ways Jacquelyn points out to us.Honesty and humor you will find within these pages so much.A great read and must for every home.Live Love Laugh a lotOh how humorousThis book is written by Jacquelyn Sturge ',\n",
       "       'en'], dtype=object)"
      ]
     },
     "execution_count": 10,
     "metadata": {},
     "output_type": "execute_result"
    }
   ],
   "source": [
    "tf"
   ]
  },
  {
   "cell_type": "code",
   "execution_count": null,
   "metadata": {},
   "outputs": [],
   "source": []
  }
 ],
 "metadata": {
  "kernelspec": {
   "display_name": "Python 3.7.4 64-bit ('anaconda3': virtualenv)",
   "language": "python",
   "name": "python37464bitanaconda3virtualenv4689841a946143dd80c9fcc86c644564"
  },
  "language_info": {
   "codemirror_mode": {
    "name": "ipython",
    "version": 3
   },
   "file_extension": ".py",
   "mimetype": "text/x-python",
   "name": "python",
   "nbconvert_exporter": "python",
   "pygments_lexer": "ipython3",
   "version": "3.7.4"
  }
 },
 "nbformat": 4,
 "nbformat_minor": 2
}
