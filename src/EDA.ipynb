{
 "cells": [
  {
   "cell_type": "code",
   "execution_count": 44,
   "metadata": {
    "ExecuteTime": {
     "end_time": "2020-02-05T17:19:49.500791Z",
     "start_time": "2020-02-05T17:19:49.497867Z"
    }
   },
   "outputs": [],
   "source": [
    "import pickle\n",
    "import numpy as np\n",
    "import pandas as pd\n",
    "\n",
    "import matplotlib.pyplot as plt"
   ]
  },
  {
   "cell_type": "code",
   "execution_count": 45,
   "metadata": {
    "ExecuteTime": {
     "end_time": "2020-02-05T17:19:51.547474Z",
     "start_time": "2020-02-05T17:19:51.307403Z"
    }
   },
   "outputs": [],
   "source": [
    "arr  = np.load('data/english_arr.npy', allow_pickle = True)\n",
    "df = pd.DataFrame(arr, columns =['rating', 'user', 'book', 'review_text', 'language'] )"
   ]
  },
  {
   "cell_type": "code",
   "execution_count": 46,
   "metadata": {
    "ExecuteTime": {
     "end_time": "2020-02-05T17:19:53.245937Z",
     "start_time": "2020-02-05T17:19:53.168730Z"
    }
   },
   "outputs": [
    {
     "name": "stdout",
     "output_type": "stream",
     "text": [
      "<class 'pandas.core.frame.DataFrame'>\n",
      "RangeIndex: 39644 entries, 0 to 39643\n",
      "Data columns (total 5 columns):\n",
      "rating         39644 non-null object\n",
      "user           39644 non-null object\n",
      "book           39644 non-null object\n",
      "review_text    39644 non-null object\n",
      "language       39644 non-null object\n",
      "dtypes: object(5)\n",
      "memory usage: 1.5+ MB\n"
     ]
    }
   ],
   "source": [
    "df.info()"
   ]
  },
  {
   "cell_type": "code",
   "execution_count": 31,
   "metadata": {
    "ExecuteTime": {
     "end_time": "2020-02-04T22:12:44.791604Z",
     "start_time": "2020-02-04T22:12:44.769142Z"
    }
   },
   "outputs": [],
   "source": [
    "threes = df[df['rating'] == 3]"
   ]
  },
  {
   "cell_type": "code",
   "execution_count": 4,
   "metadata": {
    "ExecuteTime": {
     "end_time": "2020-02-05T14:55:14.677168Z",
     "start_time": "2020-02-05T14:55:14.672100Z"
    }
   },
   "outputs": [],
   "source": [
    "words = arr[:,3]"
   ]
  },
  {
   "cell_type": "code",
   "execution_count": 5,
   "metadata": {
    "ExecuteTime": {
     "end_time": "2020-02-05T14:55:21.271665Z",
     "start_time": "2020-02-05T14:55:21.265948Z"
    }
   },
   "outputs": [
    {
     "ename": "SyntaxError",
     "evalue": "invalid syntax (<ipython-input-5-89687234d12e>, line 1)",
     "output_type": "error",
     "traceback": [
      "\u001b[0;36m  File \u001b[0;32m\"<ipython-input-5-89687234d12e>\"\u001b[0;36m, line \u001b[0;32m1\u001b[0m\n\u001b[0;31m    for items in arr\u001b[0m\n\u001b[0m                    ^\u001b[0m\n\u001b[0;31mSyntaxError\u001b[0m\u001b[0;31m:\u001b[0m invalid syntax\n"
     ]
    }
   ],
   "source": [
    "for items in arr:\n",
    "    "
   ]
  },
  {
   "cell_type": "code",
   "execution_count": 42,
   "metadata": {
    "ExecuteTime": {
     "end_time": "2020-02-05T15:16:39.988587Z",
     "start_time": "2020-02-05T15:16:39.949873Z"
    }
   },
   "outputs": [
    {
     "data": {
      "text/plain": [
       "'End of an Epoch The novel’s style imitates that of a folktale: short, simple sentences using quaint, almost biblical phrases to tell the cautionary tale of a poor farmer whose hard work enables him to buy the land and ultimately the house of the local rich family on its way to self-destruction due to its self-indulgent, profligate lifestyle. But as Wang Lung climbs up the social scale, he and his sons acquire the same vices as the rich family and will suffer the same fate once they become detached from the good earth, which had initially given Wang the impetus and foundation to grow his success. To emphasize that the story’s message is almost mythical, many paragraphs start with “now” (a standard epic format), “Now the grandsons were coming, grandsons upon grandsons!” (5), with “and,” or “Well and well, go the both of you, and if Heaven in its evil way takes one of you, there will be the other one” (156), or “Then Wang Lung builded the fortunes of his house and when the seventh year came…” (158), including the strange “builded” instead of “built” and sounding almost like a biblical parable. As with any folktale, the implications are that the patterns are repetitive, eternal ones. When Wang and his wife dig up the earth in their field, they find remnants of previous workers: “Some time, in some age, bodies of men and women had been buried there, houses had stood there, had fallen, and gone back into the earth. So would also their house, some time, return into the earth, their bodies also. Each had his turn at this earth” (31). Since Wang’s father and grandfather had previously owned the land, perhaps this part of Buck’s story was repetitive in provincial China prior to the revolution. And perhaps the folktale patina is a way to capture a speech pattern that would be typical in rural peasants who might recount such a tale. Whatever her rationale for writing the tale as she did, it is this style, which might have created the novel’s initial commercial success, that now seems awkward and patronizing. Her observations of the minutiae of a farmer’s life are almost anthropological in their acute, authentic details that are reported without moralizing, even about aspects of Chinese life, such as treatment of women and girl babies, that must have been appalling to the liberal Buck. Had she written the novel in a descriptive, realistic style that captured the farmers’ harsh reality and struggle to survive, without portentous sentences and the crudely formulaic reversal of roles between poor Wang Lung and the rich Hwang family, the novel might not have seemed so simplistic and melodramatic. Such things can happen, but certainly they are not likely to be patterns.To ensure the parallels are obvious, Wang Lung himself comments intermittently on how similar later events are to what happened early in his life, although now instead of standing humbly frightened in front of the decrepit, opium-addicted old lady of the wealthy family to purchase one of their homely slaves for his wife, the increasingly decadent, nouveau riche Wang sits in the same seat and marries off one of his less desirable slaves to his farm employee. Similarly, his sons follow the pattern of the rich young lords, who have no interest in working on the land but only in how much money they will gain from their harvests and loans at high interest to less well-off farmers. The eldest son is intimidated by the higher rank of his wife and therefore too eager to surround himself with demonstrations of wealth and taste, while the second son has become a parsimonious money-grubber, anxious lest his elder brother waste too much of their ultimate inheritance on self-indulgent furnishings. Slowly Wang acquires all the faults of the old lord who was more interested in a new concubine than in managing his estate. Toward the novel’s end, Wang, who has just given his flagging manhood a boost by having sex with a young slave that his third son desires, simply wants to sit around all day in peace with no responsibilities. The cycle is complete when this farmer, set up as the model of a success, turns into a distasteful example of money’s corruption.The second intent of Buck’s folkloric approach is to show, in a not-very-complimentary way, the inherent flaws of Chinese culture that lead to such cycles, Although the novel is never didactic, almost immediately Wang’s desire to appear superior to other farmers manifests, starting with new clothing to appear before the rich family and display his son, where he disdains the tea offered by the previously disrespectful, mercenary gatekeeper. Once he has begun to buy land from the impoverished Hwang family, his pride swells to own the land of a prince (67); “he saw himself and his sons rising into a landed family,” and he resents as dishonorable that “this shiftless brood of his cousins should be running loose, bearing the same name as his own” (58). While initially this seems like natural self-respect, it is the beginning of his burgeoning mania to be considered equal to the Hwang family, which none of his ancestors had ever desired. He is concerned what townspeople think about him, cuts off his pigtail that marks him as a farmer, and buys expensive clothing. His obsession to buy more land than he can personally farm ultimately requires him to store grain to sell for the greatest profit, keep track of his workers’ honesty and efficiency, and learn to deal with mercenary middle-men, all components of basic capitalist enterprise. For a Western reader this may appear as commendable self-reliance and desire to “succeed,” but in Buck’s context of strength from the “good earth” it is one cause of his ultimate disaster. When he lived in the south, he was exposed to the harsh exploitation of landless Chinese, and even he depended for his survival on a food kitchen for the poor. A young revolutionary explained, “the rich and the capitalists…would rob you even when you are dead. You are poor and downtrodden and it is because the rich seizes everything” (119). Even though Wang never exploits his workers, when he is no longer worried about his own family’s survival he never offers food to others who face starvation due to the inevitable floods. Instead he makes loans at high interest, buys their land at distressed prices, and even acquires five young girls as slaves. His concern never goes beyond his own family, and the excessive wealth that he acquires enables him to debauch himself by becoming infatuated with a beautiful, vacuous brothel whore, just as other rich Chinese seem to be doing with their excessive luxuries and decadent desires for concubines. There are other subtle hints about flaws in Wang’s thinking. When he marries, to insure he has children he honors the earth deities in their small shrine on his land, but later when the family has to migrate south due to the famine, “They went on in complete silence past the little temple with the two small stately gods within, who never noticed anything that passed” (85). When they pass Hwang’s family house, a starving beggar calls out, “The hearts of those rich are hard like the hearts of the gods” (86). And as Wang starts to board the train to take them south, he thinks, “There was always distrust of that which one did not know and understand. It is not well for a man to know more than is necessary for his daily living” (87). This approach later causes conflict with his eldest son the scholar, who wants to learn more than he can in their small village, but Wang insists, “You have learning enough for these parts” (226), which makes his son glare at him with “hatred.” Ancient fertility gods offer nothing in the way of moral instruction or consolation, while a limited mental horizon means a person will be suited for doing only what his ancestors trained him to do. Aside from the horrendous treatment of women and girls, probably the most obvious cultural flaw (for the Western reader) is the treatment of elders, who are given food even when children are starving (74) and the necessity of putting up with exploitive relatives, such as the father’s brother. While children, especially girls, seem to be expendable commodities, even though boys add to status, taking care of an elderly father is Wang’s main concern, giving him first choice of everything. Although respect for elders is an important Confucian concept, Wang’s approach is not a reasonable one for survival. All the folkloric aspects are supported by a melodramatic framework. Although the novel is filled with realistic minutiae, and Buck skillfully handles dialogue and small inter-actions among the characters, beneath the realistic veneer are routine melodramatic components. This means that characters’ behavior is not finely differentiated, as in real life, but fits into stereotypes that create obvious conflicts, and all the characters are obvious stereotypes: the hard-working downtrodden wife, the faithful retainer Ching, the villainous uncle and his family, the rebellious sons, each a different stereotype, their quarreling wives, the whore/concubine/second wife who becomes fat and disagreeable. Even the obstinate, land-loving Wang is a short-sighted but admirable patriarch, flawed by an overwhelming sexual attraction to a local whore, who wants only the best for his family but never understands what that would mean for each family member. A basic component of successful melodrama is that the reader must identify with and even like the main characters. This occurs easily in the first episode when the likeably awkward Wang is determined to purchase and marry a homely slave, O-lan, from a wealthy neighboring family. Because Buck describe his vacillating emotions and trepidation, he is immediately sympathetic, and she retains focus on his emotional reactions throughout the novel to sustain involvement with his many trials. Sentiment is also critical, so Wang is given a generous dose of it when he refuses to sell his first daughter, whose extreme starvation after her birth resulted in mental retardation. Because the girl smiles at him meaninglessly, his heart is touched, and he permits her to sit idly in the sun twisting a bit of cord and smiling. Fortunately the family never again faces the starvation crisis that doomed the child, but Wang’s indulgence of her is probably atypical, since several people suggest getting rid of her, again showing almost inhumane Chinese customs. Aside from Wang, all the other characters are described only externally, as if from Wang’s limited viewpoint. This is especially noteworthy for Wang’s silently suffering wife, doomed not only to endless pregnancies but also to laboring in the fields to the minute when she gives birth, as well as serving every male as superior to herself. The unsmiling, untalkative O-lan is dealing with marital traumas and memories of previous harsh treatment as Hwang’s slave, which shows up briefly when she encounters a detested slave who had been in charge of her and in her pride showing off her new son at the Hwang household, thereby establishing her feminine worth. (In fact, one name for a girl child is “slave,” who has no value to her father because she will end up becoming a servant in her husband’s family.) Wang grudgingly admires his wife’s soft body, and when, on her way to give birth, she stops to prepare food for Wang’s aged father, “He said to himself that she was a woman such as is not commonly found” (37), although it’s unclear how he would know this from his limited experience. He is similarly admiring when she gives birth to a second son, “this woman brought him nothing but good fortune” (55), but this fades when a daughter appears, or when he considers how “dull and common” O-lan is “without thought of how she appeared to others” (161), and disappears almost completely when he finds Lotus, a prostitute with small hands and bound feet (191) that will clinch his status as a rich man. Only after Wang sees that Lotus dislikes his children, dallies with his eldest son, and is interested primarily in the rich food and creature comforts he provides does he reassess his attitude toward faithful, hard-working O-lan. His feelings of shame at his treatment of her are exacerbated when she is dying, and he hears her muttering, “Well, I know I am ugly and cannot be loved…” (247) and realizes she has understood his feelings about her. When she is dead, everyone discovers exactly how much she had done to keep the family running smoothly, and after she’s buried Wang thinks, “It is as though half of me were buried there, and now it is a different life in my home” (259). As Wang’s self-centered behavior makes him less likeable, O-lan increasingly shines as a key reason for his ultimate success due to her practical wisdom, endless work and ultimately the handful of jewels she grabbed during the raid on the rich southern house, for these jewels allowed Wang to make his final, most important land purchase that secured his standing in the town (162). After her death, there is little about Wang that is sympathetic, as he becomes increasingly separated from the land and gravitates inevitably toward the debauched lifestyle of rich Chinese men. Plentiful trials and horrible tribulations are critical to any melodrama, and this novel includes almost every extreme situation, disaster and problem that could happen in one representative family, all presented in a fast-paced mixture of melodramatic incidents, character conflicts and exposes of the realities of Chinese life. A brief recounting of some of Wang’s many trials shows that the novel depends more on action than on character. What is revealed about the characters’ personality occurs mainly through their actions because only Wang’s thoughts are ever discussed. After the tragicomic first episode where Wang secures his wife, O-lan shows her incredible resilience by giving birth to their first son without help from anyone, followed by another son, and her third child, a girl; then they face their first major trial: a severe drought that causes starvation, which is a constant peril. To exacerbate this dilemma, an evil, exploitive uncle shows up, who has to be fed because he’s part of the family. His evil nature is revealed when he tells the village that Wang has grain hidden away and instigates an attack. Becoming the requisite villain, he, his fat, indulgent wife, and impudent, worthless son stick around throughout the novel to provide continual nuisances and dangers, his wife indulging herself with expensive foods and consorting with Wang’s concubine, while his son lusts after any female. Only knowledge that the uncle is involved with a group of bandits forces Wang to put up with him “for fear of what his uncle might do to him” (220) and because he probably also prevents Wang from being attacked and killed by his bandits.Gruesome details of the starvation that results from the drought include O-lan killing her fourth child, a girl, immediately after birth, and the family eating dirt after all living creatures and plants have been consumed, while his uncle sells off his daughters, and some in the town devolve to cannibalism. When death appears imminent, Wang’s uncle appears to buy his land but settles for all his furnishings, which provide the small funds needed for Wang to flee to a southern city where famine isn’t prevalent, but extremes of poverty and wealth expose the intolerably harsh life led by the lowest working class dependent on a daily bowl of cheap rice. “He lived in the rich city as alien as a rat in a rich man’s house that is fed on scraps thrown away, and hides here and there and is never a part of the real life of the house” (101). Buck’s detailed descriptions of the debilitating work of rickshaw pullers and manual laborers, as well as Wang’s brief contacts with a foreign missionary promoting Christianity and a revolutionary youth condemning the rich and capitalists, give this section a tone almost like socialist realism in its expose of intolerable living conditions that seem beyond what the limited Wang would understand. Included are Buck’s disturbing comments about the children of the poor: “And through these huts passed children; they were born and dead and born again until neither mother or father knew how many had been born or had died, and scarcely knew even how many were living, thinking of them only as mouths to be fed” (109). This is very much the view of an outsider distressed by the chaotic reality and making poetic but racist assumptions about the feelings of Chinese parents, some perhaps desensitized to this extent, but her implication that parents procreate wildly and think only about feeding their children can hardly be accurate. During this section her biases becomes obvious: cities are destructive to Chinese moral and cultural values because the Chinese get strength from working on the land. This idea is also fundamental when Wang returns north and is key to the demise of the house of Hwang. However, it is a simplistic romantic idea that seems ill-suited as an explanation for Chinese cultural turmoil or even Wang’s moral decline.When the revolution arrives, Wang manages to get gold from a fleeing rich man and is able to return to his land, without having to sell his daughter to finance the trip. This fortuitous event allows the whole family to troop back happily with a new ox purchased en route and discover their house has been stripped bare. However, their gold supply enables them to rebuild and restore everything, as well as purchase more land from Hwang. With the best land in the area, plenty of seed and money to pay laborers, Wang is set for seven years of prosperity (quickly skipped over). As a wealthy farmer, with three sons and two daughters, plus the faithful O-lan, doing whatever needs to be done without complaint, things look rosy, until the periodic flood from swollen northern rivers arrives, making it impossible to work the fields and leaving Wang anxious and irritated. Since he can’t work on the land, he goes to town to sip tea in the lowly, peasant tea house but eventually decides to move up the social scale to a higher-class tea house cum brothel, where he sees a picture of Lotus, a beautiful woman with small hands and tiny, helpless bound feet. Somehow the bound feet (and the pretty face) convince him she’s the woman he needs to quiet his amorous heart; poor O-lan can no longer bear children after the trauma of delivering twins shortly after returning from the south. Admittedly, Wang never physically liked O-lan, who is a strong-boned peasant woman with feet big enough that she can help him survive during their early harsh years. Rather than being even slightly sensitive to her value during their marriage, he foolishly wishes his wife’s feet had been bound, even though she would not have been able to work in the fields with him. Apparently, he’s not intelligent enough to realize the severe drawbacks of this custom of the wealthy, who wanted women incapable of leaving the home and possibly engaging in sexual adventures. Why he should be so overwhelmed by a rich man’s concept of what a woman should look like is another inexplicable, melodramatic component, except that becoming similar to a rich man gradually replaces his focus on farming. ...Buck’s version of Chinese life, with its dependence on stereotyped characterization, ceaseless action, and a cramping framework of simplistic morality about the value of living on the land, is interesting only as a rudimentary introduction to basic facts about pre-WWI Chinese life. Although she received the Nobel Prize for Literature, at present she is not mentioned in many surveys of important American writers. One of the reasons may be that reading this novel, despite the stark vitality of her descriptions of daily life, is an uncomfortable immersion in outworn melodramatic tropes, tinged with implicit racism. '"
      ]
     },
     "execution_count": 42,
     "metadata": {},
     "output_type": "execute_result"
    }
   ],
   "source": [
    "w.index(np.max(w))\n",
    "words[32746]"
   ]
  },
  {
   "cell_type": "code",
   "execution_count": 13,
   "metadata": {
    "ExecuteTime": {
     "end_time": "2020-02-05T15:02:14.443350Z",
     "start_time": "2020-02-05T15:02:14.378844Z"
    }
   },
   "outputs": [],
   "source": [
    "w, s = [],[]\n",
    "for i in words:\n",
    "    w.append(len(i))\n",
    "    s.append(i.count('.'))"
   ]
  },
  {
   "cell_type": "code",
   "execution_count": 43,
   "metadata": {
    "ExecuteTime": {
     "end_time": "2020-02-05T15:17:00.397886Z",
     "start_time": "2020-02-05T15:17:00.314996Z"
    }
   },
   "outputs": [
    {
     "name": "stdout",
     "output_type": "stream",
     "text": [
      "mean words: 1037\n",
      "max words: 19942\n",
      "min words:4\n",
      "mean sentences: 10\n",
      "max sentences: 444\n",
      "min sentences: 0\n"
     ]
    }
   ],
   "source": [
    "wmean =int(np.mean(w))\n",
    "wmax = int(np.max(w))\n",
    "wmin = int(np.min(w))\n",
    "smean =int(np.mean(s))\n",
    "smax = int(np.max(s))\n",
    "smin = int(np.min(s))\n",
    "\n",
    "\n",
    "print('mean words: '+ str(wmean))\n",
    "print('max words: '+str(wmax))\n",
    "print('min words:' + str(wmin))\n",
    "\n",
    "print('mean sentences: ' +str(smean))\n",
    "print('max sentences: '+ str(smax))\n",
    "print('min sentences: '+str(smin))\n"
   ]
  },
  {
   "cell_type": "code",
   "execution_count": 28,
   "metadata": {
    "ExecuteTime": {
     "end_time": "2020-02-05T15:08:34.831415Z",
     "start_time": "2020-02-05T15:08:34.489855Z"
    }
   },
   "outputs": [
    {
     "data": {
      "image/png": "[encoded data removed]",
      "text/plain": [
       "<Figure size 432x288 with 2 Axes>"
      ]
     },
     "metadata": {
      "needs_background": "light"
     },
     "output_type": "display_data"
    }
   ],
   "source": [
    "f, a = plt.subplots((2))\n",
    "a[0].hist(w, bins = 40, range=(0, 50))\n",
    "a[0].set_ylabel('number of instances')\n",
    "a[0].set_xlabel('number of words in review')\n",
    "a[1].hist(w, bins = 40, range=(50, 1000))\n",
    "a[1].set_ylabel('number of instances')\n",
    "a[1].set_xlabel('number of words in review')\n",
    "plt.show()"
   ]
  },
  {
   "cell_type": "code",
   "execution_count": 19,
   "metadata": {
    "ExecuteTime": {
     "end_time": "2020-02-05T15:05:40.163985Z",
     "start_time": "2020-02-05T15:05:39.906948Z"
    }
   },
   "outputs": [
    {
     "data": {
      "image/png": "[encoded data removed]",
      "text/plain": [
       "<Figure size 432x288 with 1 Axes>"
      ]
     },
     "metadata": {
      "needs_background": "light"
     },
     "output_type": "display_data"
    }
   ],
   "source": [
    "f, a = plt.subplots()\n",
    "plt.show()\n"
   ]
  },
  {
   "cell_type": "code",
   "execution_count": null,
   "metadata": {},
   "outputs": [],
   "source": []
  }
 ],
 "metadata": {
  "kernelspec": {
   "display_name": "Python 3.7.4 64-bit ('anaconda3': virtualenv)",
   "language": "python",
   "name": "python37464bitanaconda3virtualenv4689841a946143dd80c9fcc86c644564"
  },
  "language_info": {
   "codemirror_mode": {
    "name": "ipython",
    "version": 3
   },
   "file_extension": ".py",
   "mimetype": "text/x-python",
   "name": "python",
   "nbconvert_exporter": "python",
   "pygments_lexer": "ipython3",
   "version": "3.7.4"
  }
 },
 "nbformat": 4,
 "nbformat_minor": 2
}
