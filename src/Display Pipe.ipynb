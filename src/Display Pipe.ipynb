{
 "cells": [
  {
   "cell_type": "code",
   "execution_count": 3,
   "metadata": {
    "ExecuteTime": {
     "end_time": "2020-02-06T19:19:31.822056Z",
     "start_time": "2020-02-06T19:19:30.120896Z"
    }
   },
   "outputs": [],
   "source": [
    "import numpy as np\n",
    "import pandas as pd\n",
    "from tools import vectorizable_ngrams\n",
    "import pickle"
   ]
  },
  {
   "cell_type": "code",
   "execution_count": 3,
   "metadata": {},
   "outputs": [],
   "source": [
    "path = 'data/amazon_reviews_us_Books_v1_02.tsv'"
   ]
  },
  {
   "cell_type": "code",
   "execution_count": 19,
   "metadata": {},
   "outputs": [],
   "source": [
    "\n",
    "\n",
    "def predict_one(string, model_name, vectorizor_name):\n",
    "    \n",
    "    path = 'models/'\n",
    "        \n",
    "    tfid = pickle.load(open(path+vectorizor_name, 'rb'))\n",
    "    tfidfed = tfid.transform([string])\n",
    "\n",
    "    model = pickle.load(open(path+model_name, 'rb'))\n",
    "    \n",
    "    return model.predict(tfidfed)"
   ]
  },
  {
   "cell_type": "code",
   "execution_count": 56,
   "metadata": {},
   "outputs": [],
   "source": [
    "\n",
    "review = \"guys, do not read this one\"\n",
    "def predict_one(review):\n",
    "    '''\n",
    "    Parameters\n",
    "    review (str): a text review\n",
    "    '''\n",
    "    path = 'models/'\n",
    "    \n",
    "    tfid = pickle.load(open(path+'tf84.sav', 'rb'))\n",
    "    model = pickle.load(open(path+'ngramRF85.sav', 'rb'))\n",
    "    \n",
    "    ngrams = vectorizable_ngrams([review]) #string must becalled as a list to handle single strin\n",
    "    \n",
    "    tfstring = ' '.join(ngrams[0])\n",
    "    \n",
    "    print(tfstring) ##what it sees, hash it out for final. \n",
    "    tfidfed = tfid.transform([tfstring])\n",
    "    \n",
    "    return model.predict(tfidfed)\n",
    "#good = predict_one(ngrams, ', 'tf84.sav')\n",
    "#print(good)"
   ]
  },
  {
   "cell_type": "code",
   "execution_count": 2,
   "metadata": {
    "ExecuteTime": {
     "end_time": "2020-02-06T19:19:27.488334Z",
     "start_time": "2020-02-06T19:19:27.470802Z"
    }
   },
   "outputs": [],
   "source": [
    "reviews = ['I hated this book, not even sorry', 'I found it very engaging and interesting, and lets keep reading these', 'Fart noises']\n",
    "def predict_many(review_list):\n",
    "    path = 'models/'\n",
    "\n",
    "    tfid = pickle.load(open(path+'tf84.sav', 'rb'))\n",
    "    model = pickle.load(open(path+'ngramRF85.sav', 'rb'))\n",
    "\n",
    "    ngrams = vectorizable_ngrams(reviews) #string must be called as a list to handle single strin\n",
    "    tfstring = [' '.join(items) for items in ngrams]\n",
    "\n",
    "    #print(tfstring) ##what it sees, hash it out for final. \n",
    "\n",
    "    tfidfed = tfid.transform(tfstring)\n",
    "\n",
    "    return model.predict(tfidfed)\n",
    "    "
   ]
  },
  {
   "cell_type": "code",
   "execution_count": 1,
   "metadata": {
    "ExecuteTime": {
     "end_time": "2020-02-06T19:19:20.196708Z",
     "start_time": "2020-02-06T19:19:20.122473Z"
    }
   },
   "outputs": [
    {
     "ename": "NameError",
     "evalue": "name 'predict_many' is not defined",
     "output_type": "error",
     "traceback": [
      "\u001b[0;31m---------------------------------------------------------------------------\u001b[0m",
      "\u001b[0;31mNameError\u001b[0m                                 Traceback (most recent call last)",
      "\u001b[0;32m<ipython-input-1-3ab8ed379750>\u001b[0m in \u001b[0;36m<module>\u001b[0;34m\u001b[0m\n\u001b[0;32m----> 1\u001b[0;31m \u001b[0mpredict_many\u001b[0m\u001b[0;34m(\u001b[0m\u001b[0mreviews\u001b[0m\u001b[0;34m)\u001b[0m\u001b[0;34m\u001b[0m\u001b[0;34m\u001b[0m\u001b[0m\n\u001b[0m\u001b[1;32m      2\u001b[0m \u001b[0;34m\u001b[0m\u001b[0m\n\u001b[1;32m      3\u001b[0m \u001b[0;34m\u001b[0m\u001b[0m\n",
      "\u001b[0;31mNameError\u001b[0m: name 'predict_many' is not defined"
     ]
    }
   ],
   "source": [
    "predict_many(reviews)\n",
    "\n",
    "    "
   ]
  },
  {
   "cell_type": "code",
   "execution_count": 77,
   "metadata": {},
   "outputs": [
    {
     "data": {
      "text/plain": [
       "['hated-book book-even even-sorry',\n",
       " 'found-engaging engaging-interesting interesting-lets lets-keep keep-reading',\n",
       " 'fart-noises']"
      ]
     },
     "execution_count": 77,
     "metadata": {},
     "output_type": "execute_result"
    }
   ],
   "source": []
  },
  {
   "cell_type": "code",
   "execution_count": 73,
   "metadata": {},
   "outputs": [
    {
     "data": {
      "text/plain": [
       "[['hated-book', 'book-even', 'even-sorry'],\n",
       " ['found-engaging',\n",
       "  'engaging-interesting',\n",
       "  'interesting-lets',\n",
       "  'lets-keep',\n",
       "  'keep-reading'],\n",
       " ['fart-noises']]"
      ]
     },
     "execution_count": 73,
     "metadata": {},
     "output_type": "execute_result"
    }
   ],
   "source": [
    "ngrams"
   ]
  },
  {
   "cell_type": "code",
   "execution_count": 80,
   "metadata": {},
   "outputs": [
    {
     "name": "stdout",
     "output_type": "stream",
     "text": [
      "\n"
     ]
    },
    {
     "data": {
      "text/plain": [
       "array([0])"
      ]
     },
     "execution_count": 80,
     "metadata": {},
     "output_type": "execute_result"
    }
   ],
   "source": [
    "predict_one('liked it')"
   ]
  },
  {
   "cell_type": "code",
   "execution_count": null,
   "metadata": {},
   "outputs": [],
   "source": []
  }
 ],
 "metadata": {
  "kernelspec": {
   "display_name": "Python 3.7.4 64-bit ('anaconda3': virtualenv)",
   "language": "python",
   "name": "python37464bitanaconda3virtualenv4689841a946143dd80c9fcc86c644564"
  },
  "language_info": {
   "codemirror_mode": {
    "name": "ipython",
    "version": 3
   },
   "file_extension": ".py",
   "mimetype": "text/x-python",
   "name": "python",
   "nbconvert_exporter": "python",
   "pygments_lexer": "ipython3",
   "version": "3.7.4"
  }
 },
 "nbformat": 4,
 "nbformat_minor": 2
}
